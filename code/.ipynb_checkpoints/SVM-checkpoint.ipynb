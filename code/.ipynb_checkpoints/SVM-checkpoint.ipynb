{
 "cells": [
  {
   "cell_type": "markdown",
   "metadata": {},
   "source": [
    "## Rename the data"
   ]
  },
  {
   "cell_type": "code",
   "execution_count": 1,
   "metadata": {
    "collapsed": true
   },
   "outputs": [],
   "source": [
    "import pandas as pd\n",
    "import numpy as np"
   ]
  },
  {
   "cell_type": "code",
   "execution_count": 2,
   "metadata": {
    "collapsed": false
   },
   "outputs": [],
   "source": [
    "data_raw = pd.read_csv(\"../data/AAPL_05222012_0930_1300_LOB_2.csv\", index_col='Index')"
   ]
  },
  {
   "cell_type": "code",
   "execution_count": 3,
   "metadata": {
    "collapsed": false
   },
   "outputs": [],
   "source": [
    "cols = [name.split(\"..\")[0].split(\".\")[1].lower() for name in data_raw.columns.values if len(name) > 5]"
   ]
  },
  {
   "cell_type": "code",
   "execution_count": 4,
   "metadata": {
    "collapsed": false
   },
   "outputs": [],
   "source": [
    "data_raw.columns = [\"Time\"] + cols"
   ]
  },
  {
   "cell_type": "code",
   "execution_count": 5,
   "metadata": {
    "collapsed": false
   },
   "outputs": [
    {
     "data": {
      "text/html": [
       "<div>\n",
       "<table border=\"1\" class=\"dataframe\">\n",
       "  <thead>\n",
       "    <tr style=\"text-align: right;\">\n",
       "      <th></th>\n",
       "      <th>Time</th>\n",
       "      <th>bid_price1</th>\n",
       "      <th>bid_update_time1</th>\n",
       "      <th>bid_size1</th>\n",
       "      <th>ask_price1</th>\n",
       "      <th>ask_update_time1</th>\n",
       "      <th>ask_size1</th>\n",
       "      <th>bid_price2</th>\n",
       "      <th>bid_update_time2</th>\n",
       "      <th>bid_size2</th>\n",
       "      <th>...</th>\n",
       "      <th>bid_size9</th>\n",
       "      <th>ask_price9</th>\n",
       "      <th>ask_update_time9</th>\n",
       "      <th>ask_size9</th>\n",
       "      <th>bid_price10</th>\n",
       "      <th>bid_update_time10</th>\n",
       "      <th>bid_size10</th>\n",
       "      <th>ask_price10</th>\n",
       "      <th>ask_update_time10</th>\n",
       "      <th>ask_size10</th>\n",
       "    </tr>\n",
       "    <tr>\n",
       "      <th>Index</th>\n",
       "      <th></th>\n",
       "      <th></th>\n",
       "      <th></th>\n",
       "      <th></th>\n",
       "      <th></th>\n",
       "      <th></th>\n",
       "      <th></th>\n",
       "      <th></th>\n",
       "      <th></th>\n",
       "      <th></th>\n",
       "      <th></th>\n",
       "      <th></th>\n",
       "      <th></th>\n",
       "      <th></th>\n",
       "      <th></th>\n",
       "      <th></th>\n",
       "      <th></th>\n",
       "      <th></th>\n",
       "      <th></th>\n",
       "      <th></th>\n",
       "      <th></th>\n",
       "    </tr>\n",
       "  </thead>\n",
       "  <tbody>\n",
       "    <tr>\n",
       "      <th>1</th>\n",
       "      <td>2012/05/22 09:30:00.000</td>\n",
       "      <td>569.02</td>\n",
       "      <td>2012/05/22 09:29:34.006</td>\n",
       "      <td>40</td>\n",
       "      <td>570</td>\n",
       "      <td>2012/05/22 09:29:43.573</td>\n",
       "      <td>400</td>\n",
       "      <td>568.80</td>\n",
       "      <td>2012/05/22 09:29:47.563</td>\n",
       "      <td>100</td>\n",
       "      <td>...</td>\n",
       "      <td>200</td>\n",
       "      <td>571.00</td>\n",
       "      <td>2012/05/22 09:29:49.424</td>\n",
       "      <td>120</td>\n",
       "      <td>567.16</td>\n",
       "      <td>2012/05/22 09:28:28.730</td>\n",
       "      <td>60</td>\n",
       "      <td>571.24</td>\n",
       "      <td>2012/05/22 08:13:36.797</td>\n",
       "      <td>200</td>\n",
       "    </tr>\n",
       "    <tr>\n",
       "      <th>2</th>\n",
       "      <td>2012/05/22 09:30:00.003</td>\n",
       "      <td>569.02</td>\n",
       "      <td>2012/05/22 09:29:34.006</td>\n",
       "      <td>40</td>\n",
       "      <td>570</td>\n",
       "      <td>2012/05/22 09:29:43.573</td>\n",
       "      <td>400</td>\n",
       "      <td>568.80</td>\n",
       "      <td>2012/05/22 09:29:47.563</td>\n",
       "      <td>100</td>\n",
       "      <td>...</td>\n",
       "      <td>200</td>\n",
       "      <td>570.99</td>\n",
       "      <td>2012/05/22 09:29:53.347</td>\n",
       "      <td>200</td>\n",
       "      <td>567.16</td>\n",
       "      <td>2012/05/22 09:28:28.730</td>\n",
       "      <td>60</td>\n",
       "      <td>571.00</td>\n",
       "      <td>2012/05/22 09:29:49.424</td>\n",
       "      <td>120</td>\n",
       "    </tr>\n",
       "    <tr>\n",
       "      <th>3</th>\n",
       "      <td>2012/05/22 09:30:00.003</td>\n",
       "      <td>569.02</td>\n",
       "      <td>2012/05/22 09:29:34.006</td>\n",
       "      <td>40</td>\n",
       "      <td>570</td>\n",
       "      <td>2012/05/22 09:29:43.573</td>\n",
       "      <td>400</td>\n",
       "      <td>568.80</td>\n",
       "      <td>2012/05/22 09:29:47.563</td>\n",
       "      <td>100</td>\n",
       "      <td>...</td>\n",
       "      <td>200</td>\n",
       "      <td>570.67</td>\n",
       "      <td>2012/05/22 09:29:29.034</td>\n",
       "      <td>10</td>\n",
       "      <td>567.16</td>\n",
       "      <td>2012/05/22 09:28:28.730</td>\n",
       "      <td>60</td>\n",
       "      <td>570.99</td>\n",
       "      <td>2012/05/22 09:29:53.347</td>\n",
       "      <td>200</td>\n",
       "    </tr>\n",
       "    <tr>\n",
       "      <th>4</th>\n",
       "      <td>2012/05/22 09:30:00.003</td>\n",
       "      <td>569.03</td>\n",
       "      <td>2012/05/22 09:30:00.003</td>\n",
       "      <td>8</td>\n",
       "      <td>570</td>\n",
       "      <td>2012/05/22 09:29:43.573</td>\n",
       "      <td>400</td>\n",
       "      <td>569.02</td>\n",
       "      <td>2012/05/22 09:29:34.006</td>\n",
       "      <td>40</td>\n",
       "      <td>...</td>\n",
       "      <td>200</td>\n",
       "      <td>570.67</td>\n",
       "      <td>2012/05/22 09:29:29.034</td>\n",
       "      <td>10</td>\n",
       "      <td>567.30</td>\n",
       "      <td>2012/05/22 09:29:38.985</td>\n",
       "      <td>200</td>\n",
       "      <td>570.99</td>\n",
       "      <td>2012/05/22 09:29:53.347</td>\n",
       "      <td>200</td>\n",
       "    </tr>\n",
       "    <tr>\n",
       "      <th>5</th>\n",
       "      <td>2012/05/22 09:30:00.003</td>\n",
       "      <td>569.03</td>\n",
       "      <td>2012/05/22 09:30:00.003</td>\n",
       "      <td>8</td>\n",
       "      <td>570</td>\n",
       "      <td>2012/05/22 09:29:43.573</td>\n",
       "      <td>400</td>\n",
       "      <td>569.02</td>\n",
       "      <td>2012/05/22 09:29:34.006</td>\n",
       "      <td>40</td>\n",
       "      <td>...</td>\n",
       "      <td>200</td>\n",
       "      <td>570.55</td>\n",
       "      <td>2012/05/22 09:30:00.003</td>\n",
       "      <td>8</td>\n",
       "      <td>567.30</td>\n",
       "      <td>2012/05/22 09:29:38.985</td>\n",
       "      <td>200</td>\n",
       "      <td>570.67</td>\n",
       "      <td>2012/05/22 09:29:29.034</td>\n",
       "      <td>10</td>\n",
       "    </tr>\n",
       "  </tbody>\n",
       "</table>\n",
       "<p>5 rows × 61 columns</p>\n",
       "</div>"
      ],
      "text/plain": [
       "                          Time  bid_price1         bid_update_time1  \\\n",
       "Index                                                                 \n",
       "1      2012/05/22 09:30:00.000      569.02  2012/05/22 09:29:34.006   \n",
       "2      2012/05/22 09:30:00.003      569.02  2012/05/22 09:29:34.006   \n",
       "3      2012/05/22 09:30:00.003      569.02  2012/05/22 09:29:34.006   \n",
       "4      2012/05/22 09:30:00.003      569.03  2012/05/22 09:30:00.003   \n",
       "5      2012/05/22 09:30:00.003      569.03  2012/05/22 09:30:00.003   \n",
       "\n",
       "       bid_size1  ask_price1         ask_update_time1  ask_size1  bid_price2  \\\n",
       "Index                                                                          \n",
       "1             40         570  2012/05/22 09:29:43.573        400      568.80   \n",
       "2             40         570  2012/05/22 09:29:43.573        400      568.80   \n",
       "3             40         570  2012/05/22 09:29:43.573        400      568.80   \n",
       "4              8         570  2012/05/22 09:29:43.573        400      569.02   \n",
       "5              8         570  2012/05/22 09:29:43.573        400      569.02   \n",
       "\n",
       "              bid_update_time2  bid_size2     ...      bid_size9 ask_price9  \\\n",
       "Index                                         ...                             \n",
       "1      2012/05/22 09:29:47.563        100     ...            200     571.00   \n",
       "2      2012/05/22 09:29:47.563        100     ...            200     570.99   \n",
       "3      2012/05/22 09:29:47.563        100     ...            200     570.67   \n",
       "4      2012/05/22 09:29:34.006         40     ...            200     570.67   \n",
       "5      2012/05/22 09:29:34.006         40     ...            200     570.55   \n",
       "\n",
       "              ask_update_time9  ask_size9 bid_price10  \\\n",
       "Index                                                   \n",
       "1      2012/05/22 09:29:49.424        120      567.16   \n",
       "2      2012/05/22 09:29:53.347        200      567.16   \n",
       "3      2012/05/22 09:29:29.034         10      567.16   \n",
       "4      2012/05/22 09:29:29.034         10      567.30   \n",
       "5      2012/05/22 09:30:00.003          8      567.30   \n",
       "\n",
       "             bid_update_time10  bid_size10 ask_price10  \\\n",
       "Index                                                    \n",
       "1      2012/05/22 09:28:28.730          60      571.24   \n",
       "2      2012/05/22 09:28:28.730          60      571.00   \n",
       "3      2012/05/22 09:28:28.730          60      570.99   \n",
       "4      2012/05/22 09:29:38.985         200      570.99   \n",
       "5      2012/05/22 09:29:38.985         200      570.67   \n",
       "\n",
       "             ask_update_time10  ask_size10  \n",
       "Index                                       \n",
       "1      2012/05/22 08:13:36.797         200  \n",
       "2      2012/05/22 09:29:49.424         120  \n",
       "3      2012/05/22 09:29:53.347         200  \n",
       "4      2012/05/22 09:29:53.347         200  \n",
       "5      2012/05/22 09:29:29.034          10  \n",
       "\n",
       "[5 rows x 61 columns]"
      ]
     },
     "execution_count": 5,
     "metadata": {},
     "output_type": "execute_result"
    }
   ],
   "source": [
    "data_raw.head()"
   ]
  },
  {
   "cell_type": "code",
   "execution_count": 6,
   "metadata": {
    "collapsed": true
   },
   "outputs": [],
   "source": [
    "data_raw.to_csv(\"../data/AAPL_LOB.csv\")"
   ]
  },
  {
   "cell_type": "markdown",
   "metadata": {},
   "source": [
    "## Fit the models"
   ]
  },
  {
   "cell_type": "code",
   "execution_count": 1,
   "metadata": {
    "collapsed": true
   },
   "outputs": [],
   "source": [
    "from imp import reload"
   ]
  },
  {
   "cell_type": "code",
   "execution_count": 1,
   "metadata": {
    "collapsed": false
   },
   "outputs": [],
   "source": [
    "import pandas as pd\n",
    "import numpy as np\n",
    "from datetime import datetime\n",
    "from label import create_label\n",
    "from basic_set import get_basic\n",
    "from insensitive_set import get_spread_midprice, get_price_diff, get_mean, get_accumulated_diff\n",
    "from sensitive_set import get_derivatives\n",
    "from sampling import sampling_labels, general_sampling\n",
    "from sklearn import svm\n",
    "from sklearn.metrics import confusion_matrix\n",
    "from sklearn.ensemble import RandomForestClassifier as RF"
   ]
  },
  {
   "cell_type": "code",
   "execution_count": 2,
   "metadata": {
    "collapsed": true
   },
   "outputs": [],
   "source": [
    "from matplotlib import pyplot as plt\n",
    "%matplotlib inline"
   ]
  },
  {
   "cell_type": "code",
   "execution_count": 3,
   "metadata": {
    "collapsed": false
   },
   "outputs": [],
   "source": [
    "plt.style.use(\"ggplot\")"
   ]
  },
  {
   "cell_type": "markdown",
   "metadata": {
    "collapsed": true
   },
   "source": [
    "### Load data"
   ]
  },
  {
   "cell_type": "code",
   "execution_count": 4,
   "metadata": {
    "collapsed": true
   },
   "outputs": [],
   "source": [
    "data_raw = pd.read_csv('../data/AAPL_LOB.csv')"
   ]
  },
  {
   "cell_type": "markdown",
   "metadata": {},
   "source": [
    "### Transform the data"
   ]
  },
  {
   "cell_type": "code",
   "execution_count": 5,
   "metadata": {
    "collapsed": true
   },
   "outputs": [],
   "source": [
    "def transform_data_tinsen(data_raw):\n",
    "    spreads_mids = get_spread_midprice(data_raw)\n",
    "    price_diff = get_price_diff(data_raw)\n",
    "    means = get_mean(data_raw)\n",
    "    accum_diff = get_accumulated_diff(data_raw)\n",
    "    data_tfm = pd.merge(spreads_mids, price_diff, on = ['Index', 'Time'])\n",
    "    data_tfm = pd.merge(data_tfm, means, on = ['Index', 'Time'])\n",
    "    data_tfm = pd.merge(data_tfm, accum_diff, on = ['Index', 'Time'])\n",
    "    return(data_tfm)"
   ]
  },
  {
   "cell_type": "code",
   "execution_count": 6,
   "metadata": {
    "collapsed": true
   },
   "outputs": [],
   "source": [
    "def transform_data(data_raw, feature_basic = True, feature_tinsen = True, feature_tsen = True, delta_t = 30):\n",
    "    if feature_basic * feature_tinsen * feature_tsen:\n",
    "        basics = get_basic(data_raw)\n",
    "        data_tinsen = transform_data_tinsen(data_raw)\n",
    "        data_tsen = get_derivatives(data_raw, delta_t)\n",
    "        basics = basics.iloc[delta_t:]\n",
    "        data_tinsen = data_tinsen.iloc[delta_t:]\n",
    "        #print(\"basics_ind:\" + str(basics.index[:5]) + \"tinsen: \"+ str(data_tinsen.index[:5]) + str(data_tsen.index[:5]))\n",
    "        data_tfm = pd.merge(basics, data_tinsen, on = ['Index', 'Time'])\n",
    "        data_tfm = pd.merge(data_tfm, data_tsen, on = ['Index', 'Time'])\n",
    "        return(data_tfm)\n",
    "    elif (feature_basic == True) and (feature_tinsen == True):\n",
    "        basics = get_basic(data_raw)\n",
    "        data_tinsen = transform_data_tinsen(data_raw)\n",
    "        data_tfm = pd.merge(basics, data_tinsen, on = ['Index', 'Time'])\n",
    "        return(data_tfm)\n",
    "    elif (feature_basic == True):\n",
    "        basics = get_basic(data_raw)\n",
    "        return(basics)"
   ]
  },
  {
   "cell_type": "code",
   "execution_count": 7,
   "metadata": {
    "collapsed": false
   },
   "outputs": [],
   "source": [
    "def split_rawdata(data_raw, split_time = datetime(2012, 5, 22, 11, 0)):\n",
    "    time = np.array([datetime.strptime(time, \"%Y/%m/%d %H:%M:%S.%f\") for time in data_raw['Time']])\n",
    "    train_index = time < datetime(2012, 5, 22, 11, 0)\n",
    "    train = data_raw.iloc[train_index]\n",
    "    test = data_raw.iloc[ np.logical_and(np.logical_not(train_index),time <= datetime(2012, 5, 22, 12, 0))]\n",
    "    return({\"train\": train, \"test\": test})"
   ]
  },
  {
   "cell_type": "code",
   "execution_count": 8,
   "metadata": {
    "collapsed": false
   },
   "outputs": [],
   "source": [
    "raw_data_sets = split_rawdata(data_raw)\n",
    "train = raw_data_sets[\"train\"]\n",
    "test = raw_data_sets[\"test\"]"
   ]
  },
  {
   "cell_type": "code",
   "execution_count": 9,
   "metadata": {
    "collapsed": false
   },
   "outputs": [
    {
     "data": {
      "text/html": [
       "<div>\n",
       "<table border=\"1\" class=\"dataframe\">\n",
       "  <thead>\n",
       "    <tr style=\"text-align: right;\">\n",
       "      <th></th>\n",
       "      <th>Index</th>\n",
       "      <th>Time</th>\n",
       "      <th>bid_price1</th>\n",
       "      <th>bid_update_time1</th>\n",
       "      <th>bid_size1</th>\n",
       "      <th>ask_price1</th>\n",
       "      <th>ask_update_time1</th>\n",
       "      <th>ask_size1</th>\n",
       "      <th>bid_price2</th>\n",
       "      <th>bid_update_time2</th>\n",
       "      <th>...</th>\n",
       "      <th>bid_size9</th>\n",
       "      <th>ask_price9</th>\n",
       "      <th>ask_update_time9</th>\n",
       "      <th>ask_size9</th>\n",
       "      <th>bid_price10</th>\n",
       "      <th>bid_update_time10</th>\n",
       "      <th>bid_size10</th>\n",
       "      <th>ask_price10</th>\n",
       "      <th>ask_update_time10</th>\n",
       "      <th>ask_size10</th>\n",
       "    </tr>\n",
       "  </thead>\n",
       "  <tbody>\n",
       "    <tr>\n",
       "      <th>279651</th>\n",
       "      <td>279652</td>\n",
       "      <td>2012/05/22 11:59:59.783</td>\n",
       "      <td>564.17</td>\n",
       "      <td>2012/05/22 11:59:59.781</td>\n",
       "      <td>100</td>\n",
       "      <td>564.26</td>\n",
       "      <td>2012/05/22 11:59:59.782</td>\n",
       "      <td>100</td>\n",
       "      <td>564.1</td>\n",
       "      <td>2012/05/22 11:59:55.944</td>\n",
       "      <td>...</td>\n",
       "      <td>115</td>\n",
       "      <td>564.46</td>\n",
       "      <td>2012/05/22 11:59:53.325</td>\n",
       "      <td>100</td>\n",
       "      <td>563.88</td>\n",
       "      <td>2012/05/22 11:59:48.546</td>\n",
       "      <td>45</td>\n",
       "      <td>564.47</td>\n",
       "      <td>2012/05/22 11:59:47.949</td>\n",
       "      <td>100</td>\n",
       "    </tr>\n",
       "    <tr>\n",
       "      <th>279652</th>\n",
       "      <td>279653</td>\n",
       "      <td>2012/05/22 11:59:59.788</td>\n",
       "      <td>564.17</td>\n",
       "      <td>2012/05/22 11:59:59.781</td>\n",
       "      <td>100</td>\n",
       "      <td>564.26</td>\n",
       "      <td>2012/05/22 11:59:59.782</td>\n",
       "      <td>100</td>\n",
       "      <td>564.1</td>\n",
       "      <td>2012/05/22 11:59:55.944</td>\n",
       "      <td>...</td>\n",
       "      <td>50</td>\n",
       "      <td>564.46</td>\n",
       "      <td>2012/05/22 11:59:53.325</td>\n",
       "      <td>100</td>\n",
       "      <td>563.90</td>\n",
       "      <td>2012/05/22 11:59:53.533</td>\n",
       "      <td>115</td>\n",
       "      <td>564.47</td>\n",
       "      <td>2012/05/22 11:59:47.949</td>\n",
       "      <td>100</td>\n",
       "    </tr>\n",
       "    <tr>\n",
       "      <th>279653</th>\n",
       "      <td>279654</td>\n",
       "      <td>2012/05/22 11:59:59.788</td>\n",
       "      <td>564.17</td>\n",
       "      <td>2012/05/22 11:59:59.781</td>\n",
       "      <td>100</td>\n",
       "      <td>564.26</td>\n",
       "      <td>2012/05/22 11:59:59.782</td>\n",
       "      <td>100</td>\n",
       "      <td>564.1</td>\n",
       "      <td>2012/05/22 11:59:55.944</td>\n",
       "      <td>...</td>\n",
       "      <td>115</td>\n",
       "      <td>564.46</td>\n",
       "      <td>2012/05/22 11:59:53.325</td>\n",
       "      <td>100</td>\n",
       "      <td>563.88</td>\n",
       "      <td>2012/05/22 11:59:48.546</td>\n",
       "      <td>45</td>\n",
       "      <td>564.47</td>\n",
       "      <td>2012/05/22 11:59:47.949</td>\n",
       "      <td>100</td>\n",
       "    </tr>\n",
       "    <tr>\n",
       "      <th>279654</th>\n",
       "      <td>279655</td>\n",
       "      <td>2012/05/22 11:59:59.793</td>\n",
       "      <td>564.17</td>\n",
       "      <td>2012/05/22 11:59:59.781</td>\n",
       "      <td>100</td>\n",
       "      <td>564.26</td>\n",
       "      <td>2012/05/22 11:59:59.782</td>\n",
       "      <td>100</td>\n",
       "      <td>564.1</td>\n",
       "      <td>2012/05/22 11:59:55.944</td>\n",
       "      <td>...</td>\n",
       "      <td>50</td>\n",
       "      <td>564.46</td>\n",
       "      <td>2012/05/22 11:59:53.325</td>\n",
       "      <td>100</td>\n",
       "      <td>563.90</td>\n",
       "      <td>2012/05/22 11:59:53.533</td>\n",
       "      <td>115</td>\n",
       "      <td>564.47</td>\n",
       "      <td>2012/05/22 11:59:47.949</td>\n",
       "      <td>100</td>\n",
       "    </tr>\n",
       "    <tr>\n",
       "      <th>279655</th>\n",
       "      <td>279656</td>\n",
       "      <td>2012/05/22 11:59:59.793</td>\n",
       "      <td>564.17</td>\n",
       "      <td>2012/05/22 11:59:59.781</td>\n",
       "      <td>100</td>\n",
       "      <td>564.26</td>\n",
       "      <td>2012/05/22 11:59:59.782</td>\n",
       "      <td>100</td>\n",
       "      <td>564.1</td>\n",
       "      <td>2012/05/22 11:59:55.944</td>\n",
       "      <td>...</td>\n",
       "      <td>115</td>\n",
       "      <td>564.46</td>\n",
       "      <td>2012/05/22 11:59:53.325</td>\n",
       "      <td>100</td>\n",
       "      <td>563.88</td>\n",
       "      <td>2012/05/22 11:59:48.546</td>\n",
       "      <td>45</td>\n",
       "      <td>564.47</td>\n",
       "      <td>2012/05/22 11:59:47.949</td>\n",
       "      <td>100</td>\n",
       "    </tr>\n",
       "  </tbody>\n",
       "</table>\n",
       "<p>5 rows × 62 columns</p>\n",
       "</div>"
      ],
      "text/plain": [
       "         Index                     Time  bid_price1         bid_update_time1  \\\n",
       "279651  279652  2012/05/22 11:59:59.783      564.17  2012/05/22 11:59:59.781   \n",
       "279652  279653  2012/05/22 11:59:59.788      564.17  2012/05/22 11:59:59.781   \n",
       "279653  279654  2012/05/22 11:59:59.788      564.17  2012/05/22 11:59:59.781   \n",
       "279654  279655  2012/05/22 11:59:59.793      564.17  2012/05/22 11:59:59.781   \n",
       "279655  279656  2012/05/22 11:59:59.793      564.17  2012/05/22 11:59:59.781   \n",
       "\n",
       "        bid_size1  ask_price1         ask_update_time1  ask_size1  bid_price2  \\\n",
       "279651        100      564.26  2012/05/22 11:59:59.782        100       564.1   \n",
       "279652        100      564.26  2012/05/22 11:59:59.782        100       564.1   \n",
       "279653        100      564.26  2012/05/22 11:59:59.782        100       564.1   \n",
       "279654        100      564.26  2012/05/22 11:59:59.782        100       564.1   \n",
       "279655        100      564.26  2012/05/22 11:59:59.782        100       564.1   \n",
       "\n",
       "               bid_update_time2     ...      bid_size9  ask_price9  \\\n",
       "279651  2012/05/22 11:59:55.944     ...            115      564.46   \n",
       "279652  2012/05/22 11:59:55.944     ...             50      564.46   \n",
       "279653  2012/05/22 11:59:55.944     ...            115      564.46   \n",
       "279654  2012/05/22 11:59:55.944     ...             50      564.46   \n",
       "279655  2012/05/22 11:59:55.944     ...            115      564.46   \n",
       "\n",
       "               ask_update_time9  ask_size9  bid_price10  \\\n",
       "279651  2012/05/22 11:59:53.325        100       563.88   \n",
       "279652  2012/05/22 11:59:53.325        100       563.90   \n",
       "279653  2012/05/22 11:59:53.325        100       563.88   \n",
       "279654  2012/05/22 11:59:53.325        100       563.90   \n",
       "279655  2012/05/22 11:59:53.325        100       563.88   \n",
       "\n",
       "              bid_update_time10  bid_size10  ask_price10  \\\n",
       "279651  2012/05/22 11:59:48.546          45       564.47   \n",
       "279652  2012/05/22 11:59:53.533         115       564.47   \n",
       "279653  2012/05/22 11:59:48.546          45       564.47   \n",
       "279654  2012/05/22 11:59:53.533         115       564.47   \n",
       "279655  2012/05/22 11:59:48.546          45       564.47   \n",
       "\n",
       "              ask_update_time10  ask_size10  \n",
       "279651  2012/05/22 11:59:47.949         100  \n",
       "279652  2012/05/22 11:59:47.949         100  \n",
       "279653  2012/05/22 11:59:47.949         100  \n",
       "279654  2012/05/22 11:59:47.949         100  \n",
       "279655  2012/05/22 11:59:47.949         100  \n",
       "\n",
       "[5 rows x 62 columns]"
      ]
     },
     "execution_count": 9,
     "metadata": {},
     "output_type": "execute_result"
    }
   ],
   "source": [
    "test.tail()"
   ]
  },
  {
   "cell_type": "code",
   "execution_count": 10,
   "metadata": {
    "collapsed": false
   },
   "outputs": [],
   "source": [
    "train_tfm = transform_data(train, delta_t = 30)\n",
    "test_tfm = transform_data(test, delta_t = 30)"
   ]
  },
  {
   "cell_type": "code",
   "execution_count": 11,
   "metadata": {
    "collapsed": false
   },
   "outputs": [
    {
     "data": {
      "text/plain": [
       "(203319, 128)"
      ]
     },
     "execution_count": 11,
     "metadata": {},
     "output_type": "execute_result"
    }
   ],
   "source": [
    "#test_tfm.head()\n",
    "train_tfm.shape"
   ]
  },
  {
   "cell_type": "code",
   "execution_count": 19,
   "metadata": {
    "collapsed": false
   },
   "outputs": [
    {
     "data": {
      "text/html": [
       "<div>\n",
       "<table border=\"1\" class=\"dataframe\">\n",
       "  <thead>\n",
       "    <tr style=\"text-align: right;\">\n",
       "      <th></th>\n",
       "      <th>Index</th>\n",
       "      <th>Time</th>\n",
       "      <th>bid_price1</th>\n",
       "      <th>bid_update_time1</th>\n",
       "      <th>bid_size1</th>\n",
       "      <th>ask_price1</th>\n",
       "      <th>ask_update_time1</th>\n",
       "      <th>ask_size1</th>\n",
       "      <th>bid_price2</th>\n",
       "      <th>bid_update_time2</th>\n",
       "      <th>...</th>\n",
       "      <th>bid_size9</th>\n",
       "      <th>ask_price9</th>\n",
       "      <th>ask_update_time9</th>\n",
       "      <th>ask_size9</th>\n",
       "      <th>bid_price10</th>\n",
       "      <th>bid_update_time10</th>\n",
       "      <th>bid_size10</th>\n",
       "      <th>ask_price10</th>\n",
       "      <th>ask_update_time10</th>\n",
       "      <th>ask_size10</th>\n",
       "    </tr>\n",
       "  </thead>\n",
       "  <tbody>\n",
       "    <tr>\n",
       "      <th>203349</th>\n",
       "      <td>203350</td>\n",
       "      <td>2012/05/22 11:00:00.477</td>\n",
       "      <td>566.75</td>\n",
       "      <td>2012/05/22 10:59:57.528</td>\n",
       "      <td>200</td>\n",
       "      <td>566.9</td>\n",
       "      <td>2012/05/22 10:59:58.613</td>\n",
       "      <td>400</td>\n",
       "      <td>566.7</td>\n",
       "      <td>2012/05/22 10:59:43.362</td>\n",
       "      <td>...</td>\n",
       "      <td>100</td>\n",
       "      <td>567.18</td>\n",
       "      <td>2012/05/22 10:59:59.875</td>\n",
       "      <td>300</td>\n",
       "      <td>566.4</td>\n",
       "      <td>2012/05/22 10:59:48.133</td>\n",
       "      <td>27</td>\n",
       "      <td>567.19</td>\n",
       "      <td>2012/05/22 10:59:53.639</td>\n",
       "      <td>50</td>\n",
       "    </tr>\n",
       "    <tr>\n",
       "      <th>203350</th>\n",
       "      <td>203351</td>\n",
       "      <td>2012/05/22 11:00:00.535</td>\n",
       "      <td>566.75</td>\n",
       "      <td>2012/05/22 11:00:00.535</td>\n",
       "      <td>203</td>\n",
       "      <td>566.9</td>\n",
       "      <td>2012/05/22 10:59:58.613</td>\n",
       "      <td>400</td>\n",
       "      <td>566.7</td>\n",
       "      <td>2012/05/22 10:59:43.362</td>\n",
       "      <td>...</td>\n",
       "      <td>100</td>\n",
       "      <td>567.18</td>\n",
       "      <td>2012/05/22 10:59:59.875</td>\n",
       "      <td>300</td>\n",
       "      <td>566.4</td>\n",
       "      <td>2012/05/22 10:59:48.133</td>\n",
       "      <td>27</td>\n",
       "      <td>567.19</td>\n",
       "      <td>2012/05/22 10:59:53.639</td>\n",
       "      <td>50</td>\n",
       "    </tr>\n",
       "    <tr>\n",
       "      <th>203351</th>\n",
       "      <td>203352</td>\n",
       "      <td>2012/05/22 11:00:00.822</td>\n",
       "      <td>566.75</td>\n",
       "      <td>2012/05/22 11:00:00.535</td>\n",
       "      <td>203</td>\n",
       "      <td>566.9</td>\n",
       "      <td>2012/05/22 10:59:58.613</td>\n",
       "      <td>400</td>\n",
       "      <td>566.7</td>\n",
       "      <td>2012/05/22 10:59:43.362</td>\n",
       "      <td>...</td>\n",
       "      <td>100</td>\n",
       "      <td>567.18</td>\n",
       "      <td>2012/05/22 10:59:59.875</td>\n",
       "      <td>300</td>\n",
       "      <td>566.4</td>\n",
       "      <td>2012/05/22 10:59:48.133</td>\n",
       "      <td>27</td>\n",
       "      <td>567.19</td>\n",
       "      <td>2012/05/22 10:59:53.639</td>\n",
       "      <td>50</td>\n",
       "    </tr>\n",
       "    <tr>\n",
       "      <th>203352</th>\n",
       "      <td>203353</td>\n",
       "      <td>2012/05/22 11:00:00.823</td>\n",
       "      <td>566.75</td>\n",
       "      <td>2012/05/22 11:00:00.535</td>\n",
       "      <td>203</td>\n",
       "      <td>566.9</td>\n",
       "      <td>2012/05/22 10:59:58.613</td>\n",
       "      <td>400</td>\n",
       "      <td>566.7</td>\n",
       "      <td>2012/05/22 10:59:43.362</td>\n",
       "      <td>...</td>\n",
       "      <td>100</td>\n",
       "      <td>567.18</td>\n",
       "      <td>2012/05/22 10:59:59.875</td>\n",
       "      <td>300</td>\n",
       "      <td>566.4</td>\n",
       "      <td>2012/05/22 10:59:48.133</td>\n",
       "      <td>27</td>\n",
       "      <td>567.19</td>\n",
       "      <td>2012/05/22 10:59:53.639</td>\n",
       "      <td>50</td>\n",
       "    </tr>\n",
       "    <tr>\n",
       "      <th>203353</th>\n",
       "      <td>203354</td>\n",
       "      <td>2012/05/22 11:00:00.824</td>\n",
       "      <td>566.75</td>\n",
       "      <td>2012/05/22 11:00:00.535</td>\n",
       "      <td>203</td>\n",
       "      <td>566.9</td>\n",
       "      <td>2012/05/22 10:59:58.613</td>\n",
       "      <td>400</td>\n",
       "      <td>566.7</td>\n",
       "      <td>2012/05/22 10:59:43.362</td>\n",
       "      <td>...</td>\n",
       "      <td>100</td>\n",
       "      <td>567.18</td>\n",
       "      <td>2012/05/22 10:59:59.875</td>\n",
       "      <td>300</td>\n",
       "      <td>566.4</td>\n",
       "      <td>2012/05/22 10:59:48.133</td>\n",
       "      <td>27</td>\n",
       "      <td>567.19</td>\n",
       "      <td>2012/05/22 10:59:53.639</td>\n",
       "      <td>50</td>\n",
       "    </tr>\n",
       "  </tbody>\n",
       "</table>\n",
       "<p>5 rows × 62 columns</p>\n",
       "</div>"
      ],
      "text/plain": [
       "         Index                     Time  bid_price1         bid_update_time1  \\\n",
       "203349  203350  2012/05/22 11:00:00.477      566.75  2012/05/22 10:59:57.528   \n",
       "203350  203351  2012/05/22 11:00:00.535      566.75  2012/05/22 11:00:00.535   \n",
       "203351  203352  2012/05/22 11:00:00.822      566.75  2012/05/22 11:00:00.535   \n",
       "203352  203353  2012/05/22 11:00:00.823      566.75  2012/05/22 11:00:00.535   \n",
       "203353  203354  2012/05/22 11:00:00.824      566.75  2012/05/22 11:00:00.535   \n",
       "\n",
       "        bid_size1  ask_price1         ask_update_time1  ask_size1  bid_price2  \\\n",
       "203349        200       566.9  2012/05/22 10:59:58.613        400       566.7   \n",
       "203350        203       566.9  2012/05/22 10:59:58.613        400       566.7   \n",
       "203351        203       566.9  2012/05/22 10:59:58.613        400       566.7   \n",
       "203352        203       566.9  2012/05/22 10:59:58.613        400       566.7   \n",
       "203353        203       566.9  2012/05/22 10:59:58.613        400       566.7   \n",
       "\n",
       "               bid_update_time2     ...      bid_size9  ask_price9  \\\n",
       "203349  2012/05/22 10:59:43.362     ...            100      567.18   \n",
       "203350  2012/05/22 10:59:43.362     ...            100      567.18   \n",
       "203351  2012/05/22 10:59:43.362     ...            100      567.18   \n",
       "203352  2012/05/22 10:59:43.362     ...            100      567.18   \n",
       "203353  2012/05/22 10:59:43.362     ...            100      567.18   \n",
       "\n",
       "               ask_update_time9  ask_size9  bid_price10  \\\n",
       "203349  2012/05/22 10:59:59.875        300        566.4   \n",
       "203350  2012/05/22 10:59:59.875        300        566.4   \n",
       "203351  2012/05/22 10:59:59.875        300        566.4   \n",
       "203352  2012/05/22 10:59:59.875        300        566.4   \n",
       "203353  2012/05/22 10:59:59.875        300        566.4   \n",
       "\n",
       "              bid_update_time10  bid_size10  ask_price10  \\\n",
       "203349  2012/05/22 10:59:48.133          27       567.19   \n",
       "203350  2012/05/22 10:59:48.133          27       567.19   \n",
       "203351  2012/05/22 10:59:48.133          27       567.19   \n",
       "203352  2012/05/22 10:59:48.133          27       567.19   \n",
       "203353  2012/05/22 10:59:48.133          27       567.19   \n",
       "\n",
       "              ask_update_time10  ask_size10  \n",
       "203349  2012/05/22 10:59:53.639          50  \n",
       "203350  2012/05/22 10:59:53.639          50  \n",
       "203351  2012/05/22 10:59:53.639          50  \n",
       "203352  2012/05/22 10:59:53.639          50  \n",
       "203353  2012/05/22 10:59:53.639          50  \n",
       "\n",
       "[5 rows x 62 columns]"
      ]
     },
     "execution_count": 19,
     "metadata": {},
     "output_type": "execute_result"
    }
   ],
   "source": [
    "test.head()"
   ]
  },
  {
   "cell_type": "code",
   "execution_count": null,
   "metadata": {
    "collapsed": true
   },
   "outputs": [],
   "source": []
  },
  {
   "cell_type": "markdown",
   "metadata": {},
   "source": [
    "## Prepare y labels"
   ]
  },
  {
   "cell_type": "markdown",
   "metadata": {},
   "source": [
    "#### Mid price based on delta_t = 20"
   ]
  },
  {
   "cell_type": "markdown",
   "metadata": {},
   "source": [
    "***try without sampling***\n",
    "\n",
    "Just use ~50% for training, ~25% for validating and ~25% for testing within the 9-11am dataset"
   ]
  },
  {
   "cell_type": "code",
   "execution_count": 30,
   "metadata": {
    "collapsed": false
   },
   "outputs": [],
   "source": [
    "#validation_x.index = range(validation_x.shape[0])\n",
    "#train_x.index = range(train_x.shape[0])\n",
    "#test_x.index = range(test_x.shape[0])"
   ]
  },
  {
   "cell_type": "code",
   "execution_count": null,
   "metadata": {
    "collapsed": true
   },
   "outputs": [],
   "source": []
  },
  {
   "cell_type": "code",
   "execution_count": 12,
   "metadata": {
    "collapsed": false
   },
   "outputs": [
    {
     "data": {
      "text/plain": [
       "(203289, 130)"
      ]
     },
     "execution_count": 12,
     "metadata": {},
     "output_type": "execute_result"
    }
   ],
   "source": [
    "y_lab_train_all = create_label(train_tfm, 30)\n",
    "y_lab_train_all.shape"
   ]
  },
  {
   "cell_type": "code",
   "execution_count": 13,
   "metadata": {
    "collapsed": true
   },
   "outputs": [],
   "source": [
    "test_all = create_label(test_tfm, 30)"
   ]
  },
  {
   "cell_type": "code",
   "execution_count": 14,
   "metadata": {
    "collapsed": false
   },
   "outputs": [
    {
     "data": {
      "text/plain": [
       "stationary    199525\n",
       "down            2144\n",
       "up              1620\n",
       "dtype: int64"
      ]
     },
     "execution_count": 14,
     "metadata": {},
     "output_type": "execute_result"
    }
   ],
   "source": [
    "y_lab_train_all.spread_label.value_counts()"
   ]
  },
  {
   "cell_type": "code",
   "execution_count": 15,
   "metadata": {
    "collapsed": false
   },
   "outputs": [
    {
     "data": {
      "text/plain": [
       "down          78922\n",
       "up            73735\n",
       "stationary    50632\n",
       "dtype: int64"
      ]
     },
     "execution_count": 15,
     "metadata": {},
     "output_type": "execute_result"
    }
   ],
   "source": [
    "y_lab_train_all.mid_label.value_counts()"
   ]
  },
  {
   "cell_type": "code",
   "execution_count": 16,
   "metadata": {
    "collapsed": true
   },
   "outputs": [],
   "source": [
    "index = np.arange(y_lab_train_all.shape[0])\n",
    "np.random.seed(9)\n",
    "# Shuffle the index and separate the data into train(50%), validation(25%), and test(25%) set.\n",
    "np.random.shuffle(index)\n",
    "\n",
    "# approximate subset\n",
    "train_x = train_tfm.iloc[index[0:101659]]\n",
    "validation_x = train_tfm.iloc[index[101659:152489]]\n",
    "test_x = train_tfm.iloc[index[152489:]]\n",
    "\n",
    "train_y = y_lab_train_all.iloc[index[0:101659]]\n",
    "validation_y = y_lab_train_all.iloc[index[101659:152489]]\n",
    "test_y = y_lab_train_all.iloc[index[152489:]]\n"
   ]
  },
  {
   "cell_type": "code",
   "execution_count": 17,
   "metadata": {
    "collapsed": false
   },
   "outputs": [
    {
     "name": "stdout",
     "output_type": "stream",
     "text": [
      "(101659, 130)\n",
      "(50830, 130)\n",
      "(50800, 130)\n",
      "(101659, 130)\n",
      "(50830, 130)\n",
      "(50800, 130)\n"
     ]
    }
   ],
   "source": [
    "print(train_x.shape)\n",
    "print(validation_x.shape)\n",
    "print(test_x.shape)\n",
    "print(train_y.shape)\n",
    "print(validation_y.shape)\n",
    "print(test_y.shape)"
   ]
  },
  {
   "cell_type": "markdown",
   "metadata": {},
   "source": [
    "### Mid-Price Based Model Fitting"
   ]
  },
  {
   "cell_type": "code",
   "execution_count": 49,
   "metadata": {
    "collapsed": false
   },
   "outputs": [
    {
     "data": {
      "text/plain": [
       "22.5"
      ]
     },
     "execution_count": 49,
     "metadata": {},
     "output_type": "execute_result"
    }
   ],
   "source": [
    "18 * 1.25"
   ]
  },
  {
   "cell_type": "code",
   "execution_count": 21,
   "metadata": {
    "collapsed": true
   },
   "outputs": [],
   "source": [
    "def cal_measure(CM):\n",
    "    '''\n",
    "    input: 3 by 3 confusion matrix\n",
    "    output: data frame of measurements\n",
    "    '''\n",
    "    # for Up (0)\n",
    "    up = np.array([[CM[0,0],(CM[0,1]+CM[0,2])],[(CM[1,0]+CM[2,0]),(CM[1,1]+CM[2,2]+CM[1,2]+CM[2,1])]], dtype='float')\n",
    "    station = np.array([[CM[1,1],(CM[1,0]+CM[1,2])],[(CM[0,1]+CM[2,1]),(CM[0,0]+CM[2,2]+CM[0,2]+CM[2,0])]], dtype='float')\n",
    "    down = np.array([[CM[2,2],(CM[2,0]+CM[2,1])],[(CM[0,2]+CM[1,2]),(CM[0,0]+CM[1,1]+CM[0,1]+CM[1,0])]], dtype='float')\n",
    "    p_up = up[0,0]/(up[0,0]+up[1,0])\n",
    "    p_station = station[0,0]/(station[0,0]+station[1,0])\n",
    "    p_down = down[0,0]/(down[0,0]+down[1,0])\n",
    "    r_up = up[0,0]/(up[0,0]+up[0,1])\n",
    "    r_station = station[0,0]/(station[0,0]+station[0,1])\n",
    "    r_down = down[0,0]/(down[0,0]+down[0,1])\n",
    "    f_up = 2*p_up*r_up/(p_up+r_up)\n",
    "    f_station = 2*p_station*r_station/(p_station+r_station)\n",
    "    f_down = 2*p_down*r_down/(p_down+r_down)\n",
    "    measure=pd.DataFrame(index=['Up','Stationary','Down'])\n",
    "    measure['Precision'] = [p_up,p_station,p_down]\n",
    "    measure['Recall'] = [r_up,r_station,r_down]\n",
    "    measure['F1_Measure'] = [f_up,f_station,f_down]\n",
    "    return measure"
   ]
  },
  {
   "cell_type": "markdown",
   "metadata": {},
   "source": [
    "Sample from the training set and validation set."
   ]
  },
  {
   "cell_type": "code",
   "execution_count": 18,
   "metadata": {
    "collapsed": true
   },
   "outputs": [],
   "source": [
    "train_sample = general_sampling(train_x, 10000, mid=True, sample_random=True)\n",
    "valid_sample = general_sampling(validation_x, 10000, mid=True, sample_random=True)"
   ]
  },
  {
   "cell_type": "code",
   "execution_count": 19,
   "metadata": {
    "collapsed": false
   },
   "outputs": [
    {
     "data": {
      "text/plain": [
       "down          3870\n",
       "up            3673\n",
       "stationary    2457\n",
       "dtype: int64"
      ]
     },
     "execution_count": 19,
     "metadata": {},
     "output_type": "execute_result"
    }
   ],
   "source": [
    "train_sample.mid_label.value_counts()"
   ]
  },
  {
   "cell_type": "code",
   "execution_count": 22,
   "metadata": {
    "collapsed": false
   },
   "outputs": [
    {
     "name": "stdout",
     "output_type": "stream",
     "text": [
      "0.1\n",
      "0.5\n",
      "1\n",
      "10\n",
      "50\n",
      "100\n",
      "200\n",
      "500\n"
     ]
    }
   ],
   "source": [
    "train_accmat = []\n",
    "valid_accmat = []\n",
    "for c in [0.1, 0.5, 1, 10, 50, 100, 200, 500]:\n",
    "    clf = svm.SVC(C=c, gamma=10**-5, decision_function_shape='ovr')\n",
    "    clf.fit(train_sample[train_sample.columns[2:-2]], train_sample['mid_label'])\n",
    "    predict_train = clf.predict(train_sample[train_sample.columns[2:-2]])\n",
    "    CM_train = confusion_matrix(predict_train, train_sample['mid_label'])\n",
    "    predict_valid = clf.predict(valid_sample[valid_sample.columns[2:-2]])\n",
    "    CM_valid = confusion_matrix(predict_valid, valid_sample['mid_label'])\n",
    "    train_accmat.append(cal_measure(CM_train))\n",
    "    valid_accmat.append(cal_measure(CM_valid))\n",
    "    print(c)"
   ]
  },
  {
   "cell_type": "code",
   "execution_count": 23,
   "metadata": {
    "collapsed": false
   },
   "outputs": [
    {
     "data": {
      "text/plain": [
       "[            Precision    Recall  F1_Measure\n",
       " Up           0.999484  0.388649    0.559671\n",
       " Stationary   0.009932  0.925926    0.019654\n",
       " Down         0.000000       NaN         NaN,\n",
       "             Precision    Recall  F1_Measure\n",
       " Up           0.975245  0.409352    0.576656\n",
       " Stationary   0.038935  0.748092    0.074018\n",
       " Down         0.119556  0.684127    0.203542,\n",
       "             Precision    Recall  F1_Measure\n",
       " Up           0.809180  0.457368    0.584412\n",
       " Stationary   0.160509  0.648475    0.257325\n",
       " Down         0.377531  0.540938    0.444699,\n",
       "             Precision    Recall  F1_Measure\n",
       " Up           0.769727  0.466115    0.580626\n",
       " Stationary   0.208184  0.570806    0.305095\n",
       " Down         0.400000  0.538462    0.459016,\n",
       "             Precision    Recall  F1_Measure\n",
       " Up           0.769469  0.465959    0.580432\n",
       " Stationary   0.208582  0.571273    0.305588\n",
       " Down         0.399445  0.537916    0.458453,\n",
       "             Precision    Recall  F1_Measure\n",
       " Up           0.769469  0.465959    0.580432\n",
       " Stationary   0.208582  0.571895    0.305677\n",
       " Down         0.399445  0.537715    0.458380,\n",
       "             Precision    Recall  F1_Measure\n",
       " Up           0.769727  0.466188    0.580683\n",
       " Stationary   0.208979  0.573610    0.306348\n",
       " Down         0.399445  0.537313    0.458234,\n",
       "             Precision    Recall  F1_Measure\n",
       " Up           0.770500  0.466583    0.581210\n",
       " Stationary   0.209376  0.575956    0.307110\n",
       " Down         0.399445  0.537113    0.458161]"
      ]
     },
     "execution_count": 23,
     "metadata": {},
     "output_type": "execute_result"
    }
   ],
   "source": [
    "valid_accmat"
   ]
  },
  {
   "cell_type": "code",
   "execution_count": 24,
   "metadata": {
    "collapsed": false
   },
   "outputs": [
    {
     "data": {
      "text/plain": [
       "[            Precision    Recall  F1_Measure\n",
       " Up           1.000000  0.387853    0.558925\n",
       " Stationary   0.008954  1.000000    0.017749\n",
       " Down         0.000000       NaN         NaN,\n",
       "             Precision    Recall  F1_Measure\n",
       " Up           0.996641  0.652512    0.788672\n",
       " Stationary   0.203093  0.986166    0.336821\n",
       " Down         0.943915  0.967625    0.955623,\n",
       "             Precision    Recall  F1_Measure\n",
       " Up           0.992506  0.981349    0.986896\n",
       " Stationary   0.958893  0.991165    0.974762\n",
       " Down         0.991288  0.981666    0.986454,\n",
       "             Precision    Recall  F1_Measure\n",
       " Up           0.998708  0.997934    0.998321\n",
       " Stationary   0.994302  0.997143    0.995720\n",
       " Down         0.998094  0.997008    0.997551,\n",
       "             Precision    Recall  F1_Measure\n",
       " Up           0.999225  0.998709    0.998967\n",
       " Stationary   0.997965  0.997559    0.997762\n",
       " Down         0.998094  0.998910    0.998502,\n",
       "             Precision    Recall  F1_Measure\n",
       " Up           0.999225  0.999483    0.999354\n",
       " Stationary   0.997965  0.997559    0.997762\n",
       " Down         0.998911  0.998911    0.998911,\n",
       "             Precision    Recall  F1_Measure\n",
       " Up           0.999483  0.999483    0.999483\n",
       " Stationary   0.998779  0.997967    0.998373\n",
       " Down         0.998911  0.999455    0.999183,\n",
       "             Precision    Recall  F1_Measure\n",
       " Up           0.999483  0.999742    0.999612\n",
       " Stationary   0.999593  0.998374    0.998983\n",
       " Down         0.999183  0.999728    0.999455]"
      ]
     },
     "execution_count": 24,
     "metadata": {},
     "output_type": "execute_result"
    }
   ],
   "source": [
    "train_accmat"
   ]
  },
  {
   "cell_type": "code",
   "execution_count": 25,
   "metadata": {
    "collapsed": true
   },
   "outputs": [],
   "source": [
    "valid_up_f1 = [pd.ix['Up']['F1_Measure'] for pd in valid_accmat]\n",
    "valid_down_f1 = [pd.ix['Down']['F1_Measure'] for pd in valid_accmat]\n",
    "valid_stat_f1 = [pd.ix['Stationary']['F1_Measure'] for pd in valid_accmat]"
   ]
  },
  {
   "cell_type": "code",
   "execution_count": 26,
   "metadata": {
    "collapsed": true
   },
   "outputs": [],
   "source": [
    "train_up_f1 = [pd.ix['Up']['F1_Measure'] for pd in train_accmat]\n",
    "train_down_f1 = [pd.ix['Down']['F1_Measure'] for pd in train_accmat]\n",
    "train_stat_f1 = [pd.ix['Stationary']['F1_Measure'] for pd in train_accmat]"
   ]
  },
  {
   "cell_type": "code",
   "execution_count": 27,
   "metadata": {
    "collapsed": false
   },
   "outputs": [
    {
     "data": {
      "text/plain": [
       "[0.55967078189300423,\n",
       " 0.5766562476175956,\n",
       " 0.58441195642052335,\n",
       " 0.58062633728846536,\n",
       " 0.58043182260260651,\n",
       " 0.58043182260260651,\n",
       " 0.58068281295593815,\n",
       " 0.58120988134604157]"
      ]
     },
     "execution_count": 27,
     "metadata": {},
     "output_type": "execute_result"
    }
   ],
   "source": [
    "valid_up_f1"
   ]
  },
  {
   "cell_type": "code",
   "execution_count": 28,
   "metadata": {
    "collapsed": false
   },
   "outputs": [
    {
     "data": {
      "text/plain": [
       "[nan,\n",
       " 0.20354191263282173,\n",
       " 0.44469857866361706,\n",
       " 0.45901639344262296,\n",
       " 0.45845272206303722,\n",
       " 0.45837975489415883,\n",
       " 0.4582338902147971,\n",
       " 0.45816099268215077]"
      ]
     },
     "execution_count": 28,
     "metadata": {},
     "output_type": "execute_result"
    }
   ],
   "source": [
    "valid_down_f1"
   ]
  },
  {
   "cell_type": "code",
   "execution_count": 29,
   "metadata": {
    "collapsed": false
   },
   "outputs": [
    {
     "data": {
      "text/plain": [
       "[0.019654088050314465,\n",
       " 0.074018126888217531,\n",
       " 0.25732484076433121,\n",
       " 0.30509461426491996,\n",
       " 0.3055878928987194,\n",
       " 0.30567685589519655,\n",
       " 0.30634828188701224,\n",
       " 0.30710955710955712]"
      ]
     },
     "execution_count": 29,
     "metadata": {},
     "output_type": "execute_result"
    }
   ],
   "source": [
    "valid_stat_f1"
   ]
  },
  {
   "cell_type": "code",
   "execution_count": 56,
   "metadata": {
    "collapsed": false
   },
   "outputs": [
    {
     "data": {
      "text/plain": [
       "<matplotlib.legend.Legend at 0x7f5ff17cdda0>"
      ]
     },
     "execution_count": 56,
     "metadata": {},
     "output_type": "execute_result"
    },
    {
     "data": {
      "image/png": "[encoded data removed]",
      "text/plain": [
       "<matplotlib.figure.Figure at 0x7f5ff3672dd8>"
      ]
     },
     "metadata": {},
     "output_type": "display_data"
    }
   ],
   "source": [
    "cs = [0.1, 0.5, 1, 10, 50, 100, 200, 500]\n",
    "fig = plt.figure(figsize = (18, 4))\n",
    "axis = fig.add_subplot(1, 3, 1)\n",
    "axis.plot(cs, train_up_f1, color = 'b', label='Training')\n",
    "axis.plot(cs, valid_up_f1, marker='o', linestyle='--', color='r', label='Validation')\n",
    "axis.set_xlabel('Regularization coefficient C')\n",
    "axis.set_ylabel('F1-Measure')\n",
    "axis.set_title('Up')\n",
    "axis.set_xlim([-10, 510])\n",
    "axis.set_ylim([0,1.2])\n",
    "axis.legend(loc=4)\n",
    "\n",
    "axis = fig.add_subplot(1, 3, 2)\n",
    "axis.plot(cs, train_stat_f1, color = 'b', label='Training')\n",
    "axis.plot(cs, valid_stat_f1, marker='o', linestyle='--', color='r', label='Validation')\n",
    "axis.set_xlabel('Regularization coefficient C')\n",
    "axis.set_ylabel('F1-Measure')\n",
    "axis.set_title('Stationary')\n",
    "axis.set_xlim([-10, 510])\n",
    "axis.set_ylim([0,1.2])\n",
    "axis.legend(loc=4)\n",
    "\n",
    "axis = fig.add_subplot(1, 3, 3)\n",
    "axis.plot(cs, train_down_f1, color = 'b', label='Training')\n",
    "axis.plot(cs, valid_down_f1, marker='o', linestyle='--', color='r', label='Validation')\n",
    "axis.set_xlabel('Regularization coefficient C')\n",
    "axis.set_ylabel('F1-Measure')\n",
    "axis.set_title('Down')\n",
    "axis.set_xlim([-10, 510])\n",
    "axis.set_ylim([0,1.2])\n",
    "axis.legend(loc=4)"
   ]
  },
  {
   "cell_type": "markdown",
   "metadata": {},
   "source": [
    "#### Fit model"
   ]
  },
  {
   "cell_type": "code",
   "execution_count": 46,
   "metadata": {
    "collapsed": true
   },
   "outputs": [],
   "source": [
    "train_valid = train_tfm.iloc[index[0:152489]]\n",
    "train_valid_sample = general_sampling(train_valid, 10000, mid=True, sample_random=True)"
   ]
  },
  {
   "cell_type": "code",
   "execution_count": 47,
   "metadata": {
    "collapsed": false
   },
   "outputs": [
    {
     "data": {
      "text/plain": [
       "(10000, 130)"
      ]
     },
     "execution_count": 47,
     "metadata": {},
     "output_type": "execute_result"
    }
   ],
   "source": [
    "train_valid_sample.shape"
   ]
  },
  {
   "cell_type": "code",
   "execution_count": 48,
   "metadata": {
    "collapsed": false
   },
   "outputs": [
    {
     "data": {
      "text/plain": [
       "SVC(C=10, cache_size=200, class_weight=None, coef0=0.0,\n",
       "  decision_function_shape='ovr', degree=3, gamma=1e-05, kernel='rbf',\n",
       "  max_iter=-1, probability=False, random_state=None, shrinking=True,\n",
       "  tol=0.001, verbose=False)"
      ]
     },
     "execution_count": 48,
     "metadata": {},
     "output_type": "execute_result"
    }
   ],
   "source": [
    "clf = svm.SVC(C=10, gamma=10**-5, decision_function_shape='ovr')\n",
    "clf.fit(train_valid_sample[train_valid_sample.columns[2:-2]], train_valid_sample['mid_label'])"
   ]
  },
  {
   "cell_type": "code",
   "execution_count": 52,
   "metadata": {
    "collapsed": false
   },
   "outputs": [],
   "source": [
    "predict_test = clf.predict(test_x[test_x.columns[2:-2]])\n",
    "CM_test = confusion_matrix(predict_test, test_x['mid_label'])"
   ]
  },
  {
   "cell_type": "code",
   "execution_count": 54,
   "metadata": {
    "collapsed": false
   },
   "outputs": [
    {
     "data": {
      "text/plain": [
       "array([[15598,  7582, 10576],\n",
       "       [ 1055,  2806,  1048],\n",
       "       [ 2964,  2304,  6867]])"
      ]
     },
     "execution_count": 54,
     "metadata": {},
     "output_type": "execute_result"
    }
   ],
   "source": [
    "CM_test"
   ]
  },
  {
   "cell_type": "code",
   "execution_count": 53,
   "metadata": {
    "collapsed": false
   },
   "outputs": [
    {
     "data": {
      "text/html": [
       "<div>\n",
       "<table border=\"1\" class=\"dataframe\">\n",
       "  <thead>\n",
       "    <tr style=\"text-align: right;\">\n",
       "      <th></th>\n",
       "      <th>Precision</th>\n",
       "      <th>Recall</th>\n",
       "      <th>F1_Measure</th>\n",
       "    </tr>\n",
       "  </thead>\n",
       "  <tbody>\n",
       "    <tr>\n",
       "      <th>Up</th>\n",
       "      <td>0.795127</td>\n",
       "      <td>0.462081</td>\n",
       "      <td>0.584490</td>\n",
       "    </tr>\n",
       "    <tr>\n",
       "      <th>Stationary</th>\n",
       "      <td>0.221084</td>\n",
       "      <td>0.571603</td>\n",
       "      <td>0.318846</td>\n",
       "    </tr>\n",
       "    <tr>\n",
       "      <th>Down</th>\n",
       "      <td>0.371370</td>\n",
       "      <td>0.565884</td>\n",
       "      <td>0.448442</td>\n",
       "    </tr>\n",
       "  </tbody>\n",
       "</table>\n",
       "</div>"
      ],
      "text/plain": [
       "            Precision    Recall  F1_Measure\n",
       "Up           0.795127  0.462081    0.584490\n",
       "Stationary   0.221084  0.571603    0.318846\n",
       "Down         0.371370  0.565884    0.448442"
      ]
     },
     "execution_count": 53,
     "metadata": {},
     "output_type": "execute_result"
    }
   ],
   "source": [
    "cal_measure(CM_test)"
   ]
  },
  {
   "cell_type": "code",
   "execution_count": null,
   "metadata": {
    "collapsed": true
   },
   "outputs": [],
   "source": []
  },
  {
   "cell_type": "markdown",
   "metadata": {},
   "source": [
    "### Spread-Crossing Based Model Fitting"
   ]
  },
  {
   "cell_type": "markdown",
   "metadata": {},
   "source": [
    "Sample from the training and validation set."
   ]
  },
  {
   "cell_type": "code",
   "execution_count": 57,
   "metadata": {
    "collapsed": false
   },
   "outputs": [],
   "source": [
    "train_sample = general_sampling(train_x, 10000, mid=False, up_prob=0.1,down_prob=0.1)\n",
    "valid_sample = general_sampling(validation_x, 10000, mid=False, sample_random=True)"
   ]
  },
  {
   "cell_type": "code",
   "execution_count": 58,
   "metadata": {
    "collapsed": false
   },
   "outputs": [
    {
     "data": {
      "text/plain": [
       "Index(['mid_label', 'spread_label'], dtype='object')"
      ]
     },
     "execution_count": 58,
     "metadata": {},
     "output_type": "execute_result"
    }
   ],
   "source": [
    "train_sample.columns[-2:]"
   ]
  },
  {
   "cell_type": "code",
   "execution_count": 59,
   "metadata": {
    "collapsed": false
   },
   "outputs": [
    {
     "data": {
      "text/plain": [
       "stationary    8000\n",
       "up            1000\n",
       "down          1000\n",
       "dtype: int64"
      ]
     },
     "execution_count": 59,
     "metadata": {},
     "output_type": "execute_result"
    }
   ],
   "source": [
    "train_sample.spread_label.value_counts()"
   ]
  },
  {
   "cell_type": "markdown",
   "metadata": {},
   "source": [
    "#### SVM"
   ]
  },
  {
   "cell_type": "code",
   "execution_count": 60,
   "metadata": {
    "collapsed": false
   },
   "outputs": [
    {
     "name": "stdout",
     "output_type": "stream",
     "text": [
      "0.1\n",
      "0.5\n",
      "1\n",
      "10\n",
      "50\n",
      "100\n",
      "200\n",
      "500\n"
     ]
    }
   ],
   "source": [
    "train_accmat_spread = []\n",
    "valid_accmat_spread = []\n",
    "for c in [0.1, 0.5, 1, 10, 50, 100, 200, 500]:\n",
    "    clf = svm.SVC(C=c, gamma=10**-5, decision_function_shape='ovr')\n",
    "    clf.fit(train_sample[train_sample.columns[2:-2]], train_sample['spread_label'])\n",
    "    predict_train = clf.predict(train_sample[train_sample.columns[2:-2]])\n",
    "    CM_train = confusion_matrix(predict_train, train_sample['spread_label'])\n",
    "    predict_valid = clf.predict(valid_sample[valid_sample.columns[2:-2]])\n",
    "    CM_valid = confusion_matrix(predict_valid, valid_sample['spread_label'])\n",
    "    train_accmat_spread.append(cal_measure(CM_train))\n",
    "    valid_accmat_spread.append(cal_measure(CM_valid))\n",
    "    print(c)"
   ]
  },
  {
   "cell_type": "code",
   "execution_count": 61,
   "metadata": {
    "collapsed": false
   },
   "outputs": [
    {
     "data": {
      "text/plain": [
       "[            Precision  Recall  F1_Measure\n",
       " Up                  0     NaN         NaN\n",
       " Stationary          1  0.9802    0.990001\n",
       " Down                0     NaN         NaN,\n",
       "             Precision    Recall  F1_Measure\n",
       " Up           0.243243  0.729730    0.364865\n",
       " Stationary   0.997960  0.985096    0.991486\n",
       " Down         0.252874  0.666667    0.366667,\n",
       "             Precision    Recall  F1_Measure\n",
       " Up           0.369369  0.621212    0.463277\n",
       " Stationary   0.995817  0.987056    0.991417\n",
       " Down         0.321839  0.622222    0.424242,\n",
       "             Precision    Recall  F1_Measure\n",
       " Up           0.423423  0.594937    0.494737\n",
       " Stationary   0.994287  0.988338    0.991303\n",
       " Down         0.402299  0.583333    0.476190,\n",
       "             Precision    Recall  F1_Measure\n",
       " Up           0.423423  0.594937    0.494737\n",
       " Stationary   0.994185  0.988337    0.991252\n",
       " Down         0.402299  0.573770    0.472973,\n",
       "             Precision    Recall  F1_Measure\n",
       " Up           0.423423  0.594937    0.494737\n",
       " Stationary   0.994185  0.988337    0.991252\n",
       " Down         0.402299  0.573770    0.472973,\n",
       "             Precision    Recall  F1_Measure\n",
       " Up           0.423423  0.594937    0.494737\n",
       " Stationary   0.994185  0.988337    0.991252\n",
       " Down         0.402299  0.573770    0.472973,\n",
       "             Precision    Recall  F1_Measure\n",
       " Up           0.423423  0.594937    0.494737\n",
       " Stationary   0.994185  0.988337    0.991252\n",
       " Down         0.402299  0.573770    0.472973]"
      ]
     },
     "execution_count": 61,
     "metadata": {},
     "output_type": "execute_result"
    }
   ],
   "source": [
    "valid_accmat_spread"
   ]
  },
  {
   "cell_type": "code",
   "execution_count": 62,
   "metadata": {
    "collapsed": false
   },
   "outputs": [
    {
     "data": {
      "text/plain": [
       "[            Precision   Recall  F1_Measure\n",
       " Up              0.000      NaN         NaN\n",
       " Stationary      1.000  0.80056    0.889235\n",
       " Down            0.007  1.00000    0.013903,\n",
       "             Precision    Recall  F1_Measure\n",
       " Up           0.706000  0.998586    0.827182\n",
       " Stationary   0.999375  0.941253    0.969443\n",
       " Down         0.795000  0.994994    0.883824,\n",
       "             Precision    Recall  F1_Measure\n",
       " Up             0.9750  0.993884    0.984351\n",
       " Stationary     0.9985  0.994894    0.996693\n",
       " Down           0.9840  0.993939    0.988945,\n",
       "             Precision    Recall  F1_Measure\n",
       " Up             0.9990  0.997006    0.998002\n",
       " Stationary     0.9995  0.999750    0.999625\n",
       " Down           0.9990  0.999000    0.999000,\n",
       "             Precision    Recall  F1_Measure\n",
       " Up           0.999000  0.999000    0.999000\n",
       " Stationary   0.999875  0.999875    0.999875\n",
       " Down         1.000000  1.000000    1.000000,\n",
       "             Precision    Recall  F1_Measure\n",
       " Up           0.999000  0.999000    0.999000\n",
       " Stationary   0.999875  0.999875    0.999875\n",
       " Down         1.000000  1.000000    1.000000,\n",
       "             Precision    Recall  F1_Measure\n",
       " Up           0.999000  0.999000    0.999000\n",
       " Stationary   0.999875  0.999875    0.999875\n",
       " Down         1.000000  1.000000    1.000000,\n",
       "             Precision    Recall  F1_Measure\n",
       " Up           0.999000  0.999000    0.999000\n",
       " Stationary   0.999875  0.999875    0.999875\n",
       " Down         1.000000  1.000000    1.000000]"
      ]
     },
     "execution_count": 62,
     "metadata": {},
     "output_type": "execute_result"
    }
   ],
   "source": [
    "train_accmat_spread"
   ]
  },
  {
   "cell_type": "code",
   "execution_count": 63,
   "metadata": {
    "collapsed": true
   },
   "outputs": [],
   "source": [
    "valid_up_f1_spread = [pd.ix['Up']['F1_Measure'] for pd in valid_accmat_spread]\n",
    "valid_down_f1_spread = [pd.ix['Down']['F1_Measure'] for pd in valid_accmat_spread]\n",
    "valid_stat_f1_spread = [pd.ix['Stationary']['F1_Measure'] for pd in valid_accmat_spread]"
   ]
  },
  {
   "cell_type": "code",
   "execution_count": 64,
   "metadata": {
    "collapsed": false
   },
   "outputs": [],
   "source": [
    "train_up_f1_spread = [pd.ix['Up']['F1_Measure'] for pd in train_accmat_spread]\n",
    "train_down_f1_spread = [pd.ix['Down']['F1_Measure'] for pd in train_accmat_spread]\n",
    "train_stat_f1_spread = [pd.ix['Stationary']['F1_Measure'] for pd in train_accmat_spread]"
   ]
  },
  {
   "cell_type": "code",
   "execution_count": 65,
   "metadata": {
    "collapsed": false
   },
   "outputs": [
    {
     "data": {
      "text/plain": [
       "<matplotlib.legend.Legend at 0x7f5ff168f198>"
      ]
     },
     "execution_count": 65,
     "metadata": {},
     "output_type": "execute_result"
    },
    {
     "data": {
      "image/png": "[encoded data removed]",
      "text/plain": [
       "<matplotlib.figure.Figure at 0x7f5ff17704e0>"
      ]
     },
     "metadata": {},
     "output_type": "display_data"
    }
   ],
   "source": [
    "cs = [0.1, 0.5, 1, 10, 50, 100, 200, 500]\n",
    "fig = plt.figure(figsize = (18, 4))\n",
    "axis = fig.add_subplot(1, 3, 1)\n",
    "axis.plot(cs, train_up_f1_spread, color = 'b', label='Training')\n",
    "axis.plot(cs, valid_up_f1_spread, marker='o', linestyle='--', color='r', label='Validation')\n",
    "axis.set_xlabel('Regularization coefficient C')\n",
    "axis.set_ylabel('F1-Measure')\n",
    "axis.set_title('Up')\n",
    "axis.set_xlim([-10, 510])\n",
    "axis.set_ylim([0,1.2])\n",
    "axis.legend(loc=4)\n",
    "\n",
    "axis = fig.add_subplot(1, 3, 3)\n",
    "axis.plot(cs, train_down_f1_spread, color = 'b', label='Training')\n",
    "axis.plot(cs, valid_down_f1_spread, marker='o', linestyle='--', color='r', label='Validation')\n",
    "axis.set_xlabel('Regularization coefficient C')\n",
    "axis.set_ylabel('F1-Measure')\n",
    "axis.set_title('Down')\n",
    "axis.set_xlim([-10, 510])\n",
    "axis.set_ylim([0,1.2])\n",
    "axis.legend(loc=4)\n",
    "\n",
    "axis = fig.add_subplot(1, 3, 2)\n",
    "axis.plot(cs, train_stat_f1_spread, color = 'b', label='Training')\n",
    "axis.plot(cs, valid_stat_f1_spread, marker='o', linestyle='--', color='r', label='Validation')\n",
    "axis.set_xlabel('Regularization coefficient C')\n",
    "axis.set_ylabel('F1-Measure')\n",
    "axis.set_title('Stationary')\n",
    "axis.set_xlim([-10, 510])\n",
    "axis.set_ylim([0,1.2])\n",
    "axis.legend(loc=4)"
   ]
  },
  {
   "cell_type": "markdown",
   "metadata": {},
   "source": [
    "#### Fit"
   ]
  },
  {
   "cell_type": "code",
   "execution_count": 66,
   "metadata": {
    "collapsed": true
   },
   "outputs": [],
   "source": [
    "train_valid_sample = general_sampling(train_valid, 10000, mid=False, sample_random=False, up_prob=0.1,down_prob=0.1)"
   ]
  },
  {
   "cell_type": "code",
   "execution_count": 67,
   "metadata": {
    "collapsed": false
   },
   "outputs": [
    {
     "data": {
      "text/plain": [
       "SVC(C=10, cache_size=200, class_weight=None, coef0=0.0,\n",
       "  decision_function_shape='ovr', degree=3, gamma=1e-05, kernel='rbf',\n",
       "  max_iter=-1, probability=False, random_state=None, shrinking=True,\n",
       "  tol=0.001, verbose=False)"
      ]
     },
     "execution_count": 67,
     "metadata": {},
     "output_type": "execute_result"
    }
   ],
   "source": [
    "clf = svm.SVC(C=10, gamma=10**-5, decision_function_shape='ovr')\n",
    "clf.fit(train_valid_sample[train_valid_sample.columns[2:-2]], train_valid_sample['spread_label'])"
   ]
  },
  {
   "cell_type": "code",
   "execution_count": 68,
   "metadata": {
    "collapsed": true
   },
   "outputs": [],
   "source": [
    "predict_test = clf.predict(test_x[test_x.columns[2:-2]])\n",
    "CM_test = confusion_matrix(predict_test, test_x['spread_label'])"
   ]
  },
  {
   "cell_type": "code",
   "execution_count": 69,
   "metadata": {
    "collapsed": false
   },
   "outputs": [
    {
     "data": {
      "text/plain": [
       "array([[  234,   150,     0],\n",
       "       [  309, 49513,   210],\n",
       "       [    0,   163,   221]])"
      ]
     },
     "execution_count": 69,
     "metadata": {},
     "output_type": "execute_result"
    }
   ],
   "source": [
    "CM_test"
   ]
  },
  {
   "cell_type": "code",
   "execution_count": 70,
   "metadata": {
    "collapsed": false
   },
   "outputs": [
    {
     "data": {
      "text/html": [
       "<div>\n",
       "<table border=\"1\" class=\"dataframe\">\n",
       "  <thead>\n",
       "    <tr style=\"text-align: right;\">\n",
       "      <th></th>\n",
       "      <th>Precision</th>\n",
       "      <th>Recall</th>\n",
       "      <th>F1_Measure</th>\n",
       "    </tr>\n",
       "  </thead>\n",
       "  <tbody>\n",
       "    <tr>\n",
       "      <th>Up</th>\n",
       "      <td>0.430939</td>\n",
       "      <td>0.609375</td>\n",
       "      <td>0.504854</td>\n",
       "    </tr>\n",
       "    <tr>\n",
       "      <th>Stationary</th>\n",
       "      <td>0.993718</td>\n",
       "      <td>0.989627</td>\n",
       "      <td>0.991668</td>\n",
       "    </tr>\n",
       "    <tr>\n",
       "      <th>Down</th>\n",
       "      <td>0.512761</td>\n",
       "      <td>0.575521</td>\n",
       "      <td>0.542331</td>\n",
       "    </tr>\n",
       "  </tbody>\n",
       "</table>\n",
       "</div>"
      ],
      "text/plain": [
       "            Precision    Recall  F1_Measure\n",
       "Up           0.430939  0.609375    0.504854\n",
       "Stationary   0.993718  0.989627    0.991668\n",
       "Down         0.512761  0.575521    0.542331"
      ]
     },
     "execution_count": 70,
     "metadata": {},
     "output_type": "execute_result"
    }
   ],
   "source": [
    "cal_measure(CM_test)"
   ]
  },
  {
   "cell_type": "markdown",
   "metadata": {},
   "source": [
    "## Logistic Regression with Summary Statistics"
   ]
  },
  {
   "cell_type": "code",
   "execution_count": 102,
   "metadata": {
    "collapsed": false
   },
   "outputs": [],
   "source": [
    "from summary_stat import get_statistics\n",
    "from sklearn.linear_model import LogisticRegression as LR"
   ]
  },
  {
   "cell_type": "code",
   "execution_count": 156,
   "metadata": {
    "collapsed": true
   },
   "outputs": [],
   "source": [
    "top_fea_mid = ['ask_size1', 'size_accumulated_diff', 'mean_ask_vol', 'mean_bid_vol',\n",
    "       'bid-ask_spread1', 'bid_size1', 'ask_size_derivative1',\n",
    "       'bid_size_derivative1', 'ask_price_derivative1', 'bid_diff',\n",
    "       'bid_price_derivative1', 'ask_diff', 'bid_abs2_1',\n",
    "       'price_accumulated_diff', 'bid_price_derivative2', 'bid-ask_spread2',\n",
    "       'ask_abs2_1', 'ask_price_derivative2', 'ask_size2', 'ask_size3']\n",
    "top_fea_cross = ['bid-ask_spread1', 'bid-ask_spread2', 'bid-ask_spread3',\n",
    "       'bid-ask_spread4', 'price_accumulated_diff', 'mean_ask_vol', 'bid_diff',\n",
    "       'ask_diff', 'size_accumulated_diff', 'ask_size_derivative1',\n",
    "       'bid-ask_spread5', 'mean_bid_vol', 'ask_price_derivative1', 'ask_size5',\n",
    "       'ask_size1', 'ask_size2', 'bid-ask_spread9', 'bid_size6', 'ask_abs2_1',\n",
    "       'bid-ask_spread6']"
   ]
  },
  {
   "cell_type": "code",
   "execution_count": 157,
   "metadata": {
    "collapsed": false
   },
   "outputs": [],
   "source": [
    "features = list(set(top_fea_cross+top_fea_mid))"
   ]
  },
  {
   "cell_type": "code",
   "execution_count": 158,
   "metadata": {
    "collapsed": false
   },
   "outputs": [
    {
     "name": "stderr",
     "output_type": "stream",
     "text": [
      "/home/mengfei/anaconda3/lib/python3.5/site-packages/ipykernel/__main__.py:4: SettingWithCopyWarning: \n",
      "A value is trying to be set on a copy of a slice from a DataFrame.\n",
      "Try using .loc[row_indexer,col_indexer] = value instead\n",
      "\n",
      "See the caveats in the documentation: http://pandas.pydata.org/pandas-docs/stable/indexing.html#indexing-view-versus-copy\n",
      "/home/mengfei/anaconda3/lib/python3.5/site-packages/ipykernel/__main__.py:5: SettingWithCopyWarning: \n",
      "A value is trying to be set on a copy of a slice from a DataFrame.\n",
      "Try using .loc[row_indexer,col_indexer] = value instead\n",
      "\n",
      "See the caveats in the documentation: http://pandas.pydata.org/pandas-docs/stable/indexing.html#indexing-view-versus-copy\n",
      "/home/mengfei/anaconda3/lib/python3.5/site-packages/ipykernel/__main__.py:6: SettingWithCopyWarning: \n",
      "A value is trying to be set on a copy of a slice from a DataFrame.\n",
      "Try using .loc[row_indexer,col_indexer] = value instead\n",
      "\n",
      "See the caveats in the documentation: http://pandas.pydata.org/pandas-docs/stable/indexing.html#indexing-view-versus-copy\n"
     ]
    }
   ],
   "source": [
    "train_stat = get_statistics(train_x, features)\n",
    "valid_stat = get_statistics(validation_x, features)\n",
    "test_stat = get_statistics(test_x, features)"
   ]
  },
  {
   "cell_type": "code",
   "execution_count": 159,
   "metadata": {
    "collapsed": false
   },
   "outputs": [
    {
     "name": "stdout",
     "output_type": "stream",
     "text": [
      "1e-05\n",
      "0.1\n",
      "1\n",
      "10\n",
      "50\n",
      "100\n",
      "200\n",
      "500\n"
     ]
    }
   ],
   "source": [
    "train_accmat_logit = []\n",
    "valid_accmat_logit = []\n",
    "for c in [1e-5, 0.1, 1, 10, 50, 100, 200, 500]:\n",
    "    logreg = LR(C=c)\n",
    "    logreg.fit(train_stat[train_stat.columns[:-2]], train_stat['mid_label'])\n",
    "    logit_predict_train = logreg.predict(train_stat[train_stat.columns[:-2]])\n",
    "    CM_train = confusion_matrix(logit_predict_train, train_stat['mid_label'])\n",
    "    logit_predict_valid = logreg.predict(valid_stat[valid_stat.columns[:-2]])\n",
    "    CM_valid = confusion_matrix(logit_predict_valid, valid_stat['mid_label'])\n",
    "    train_accmat_logit.append(cal_measure(CM_train))\n",
    "    valid_accmat_logit.append(cal_measure(CM_valid))\n",
    "    print(c)"
   ]
  },
  {
   "cell_type": "code",
   "execution_count": 160,
   "metadata": {
    "collapsed": false
   },
   "outputs": [
    {
     "data": {
      "text/plain": [
       "[            Precision    Recall  F1_Measure\n",
       " Up           0.759630  0.405593    0.528827\n",
       " Stationary   0.045066  0.496080    0.082626\n",
       " Down         0.292840  0.426297    0.347185,\n",
       "             Precision    Recall  F1_Measure\n",
       " Up           0.735578  0.409225    0.525884\n",
       " Stationary   0.046807  0.507725    0.085712\n",
       " Down         0.339928  0.443237    0.384769,\n",
       "             Precision    Recall  F1_Measure\n",
       " Up           0.776803  0.401474    0.529360\n",
       " Stationary   0.048350  0.519337    0.088464\n",
       " Down         0.276258  0.446389    0.341297,\n",
       "             Precision    Recall  F1_Measure\n",
       " Up           0.716811  0.412481    0.523640\n",
       " Stationary   0.050289  0.509215    0.091538\n",
       " Down         0.365928  0.442762    0.400695,\n",
       "             Precision    Recall  F1_Measure\n",
       " Up           0.739624  0.408020    0.525914\n",
       " Stationary   0.047994  0.512247    0.087765\n",
       " Down         0.331732  0.442574    0.379219,\n",
       "             Precision    Recall  F1_Measure\n",
       " Up           0.715243  0.412449    0.523195\n",
       " Stationary   0.045541  0.507719    0.083584\n",
       " Down         0.368860  0.440894    0.401673,\n",
       "             Precision    Recall  F1_Measure\n",
       " Up           0.732037  0.412507    0.527670\n",
       " Stationary   0.048706  0.504302    0.088833\n",
       " Down         0.351110  0.445305    0.392637,\n",
       "             Precision    Recall  F1_Measure\n",
       " Up           0.746200  0.410216    0.529400\n",
       " Stationary   0.048785  0.515038    0.089128\n",
       " Down         0.332953  0.448687    0.382252]"
      ]
     },
     "execution_count": 160,
     "metadata": {},
     "output_type": "execute_result"
    }
   ],
   "source": [
    "train_accmat_logit"
   ]
  },
  {
   "cell_type": "code",
   "execution_count": 161,
   "metadata": {
    "collapsed": false
   },
   "outputs": [
    {
     "data": {
      "text/plain": [
       "[            Precision    Recall  F1_Measure\n",
       " Up           0.766316  0.406162    0.530924\n",
       " Stationary   0.043265  0.501832    0.079663\n",
       " Down         0.285194  0.421615    0.340239,\n",
       "             Precision    Recall  F1_Measure\n",
       " Up           0.735050  0.408818    0.525414\n",
       " Stationary   0.044450  0.517463    0.081867\n",
       " Down         0.339928  0.440330    0.383669,\n",
       "             Precision    Recall  F1_Measure\n",
       " Up           0.781392  0.401711    0.530628\n",
       " Stationary   0.045871  0.530594    0.084442\n",
       " Down         0.274921  0.448126    0.340778,\n",
       "             Precision    Recall  F1_Measure\n",
       " Up           0.718051  0.412779    0.524211\n",
       " Stationary   0.046581  0.504705    0.085291\n",
       " Down         0.364931  0.439484    0.398753,\n",
       "             Precision    Recall  F1_Measure\n",
       " Up           0.741323  0.408480    0.526726\n",
       " Stationary   0.045950  0.525271    0.084507\n",
       " Down         0.333351  0.442816    0.380365,\n",
       "             Precision    Recall  F1_Measure\n",
       " Up           0.716129  0.412238    0.523261\n",
       " Stationary   0.043186  0.517502    0.079720\n",
       " Down         0.365040  0.435087    0.396997,\n",
       "             Precision    Recall  F1_Measure\n",
       " Up           0.735252  0.413492    0.529310\n",
       " Stationary   0.045713  0.507450    0.083871\n",
       " Down         0.351560  0.444781    0.392714,\n",
       "             Precision    Recall  F1_Measure\n",
       " Up           0.748558  0.410384    0.530133\n",
       " Stationary   0.046345  0.525045    0.085171\n",
       " Down         0.332319  0.447650    0.381457]"
      ]
     },
     "execution_count": 161,
     "metadata": {},
     "output_type": "execute_result"
    }
   ],
   "source": [
    "valid_accmat_logit"
   ]
  },
  {
   "cell_type": "code",
   "execution_count": 162,
   "metadata": {
    "collapsed": true
   },
   "outputs": [],
   "source": [
    "train_up_f1_logit = [pd.ix['Up']['F1_Measure'] for pd in train_accmat_logit]\n",
    "train_down_f1_logit = [pd.ix['Down']['F1_Measure'] for pd in train_accmat_logit]\n",
    "train_stat_f1_logit = [pd.ix['Stationary']['F1_Measure'] for pd in train_accmat_logit]"
   ]
  },
  {
   "cell_type": "code",
   "execution_count": 163,
   "metadata": {
    "collapsed": true
   },
   "outputs": [],
   "source": [
    "valid_up_f1_logit = [pd.ix['Up']['F1_Measure'] for pd in valid_accmat_logit]\n",
    "valid_down_f1_logit = [pd.ix['Down']['F1_Measure'] for pd in valid_accmat_logit]\n",
    "valid_stat_f1_logit = [pd.ix['Stationary']['F1_Measure'] for pd in valid_accmat_logit]"
   ]
  },
  {
   "cell_type": "code",
   "execution_count": 165,
   "metadata": {
    "collapsed": false
   },
   "outputs": [
    {
     "data": {
      "text/plain": [
       "<matplotlib.legend.Legend at 0x7f5ff0c1aac8>"
      ]
     },
     "execution_count": 165,
     "metadata": {},
     "output_type": "execute_result"
    },
    {
     "data": {
      "image/png": "[encoded data removed]",
      "text/plain": [
       "<matplotlib.figure.Figure at 0x7f5ff1295828>"
      ]
     },
     "metadata": {},
     "output_type": "display_data"
    }
   ],
   "source": [
    "cs = [1e-5, 0.1, 1, 10, 50, 100, 200, 500]\n",
    "fig = plt.figure(figsize = (18, 4))\n",
    "axis = fig.add_subplot(1, 3, 1)\n",
    "axis.plot(cs, train_up_f1_logit, color = 'b', label='Training')\n",
    "axis.plot(cs, valid_up_f1_logit, marker='o', linestyle='--', color='r', label='Validation')\n",
    "axis.set_xlabel('Regularization coefficient C')\n",
    "axis.set_ylabel('F1-Measure')\n",
    "axis.set_title('Up')\n",
    "axis.set_xlim([-10, 510])\n",
    "axis.set_ylim([0,1.2])\n",
    "axis.legend(loc=0)\n",
    "\n",
    "axis = fig.add_subplot(1, 3, 3)\n",
    "axis.plot(cs, train_down_f1_logit, color = 'b', label='Training')\n",
    "axis.plot(cs, valid_down_f1_logit, marker='o', linestyle='--', color='r', label='Validation')\n",
    "axis.set_xlabel('Regularization coefficient C')\n",
    "axis.set_ylabel('F1-Measure')\n",
    "axis.set_title('Down')\n",
    "axis.set_xlim([-10, 510])\n",
    "axis.set_ylim([0,1.2])\n",
    "axis.legend(loc=0)\n",
    "\n",
    "axis = fig.add_subplot(1, 3, 2)\n",
    "axis.plot(cs, train_stat_f1_logit, color = 'b', label='Training')\n",
    "axis.plot(cs, valid_stat_f1_logit, marker='o', linestyle='--', color='r', label='Validation')\n",
    "axis.set_xlabel('Regularization coefficient C')\n",
    "axis.set_ylabel('F1-Measure')\n",
    "axis.set_title('Stationary')\n",
    "axis.set_xlim([-10, 510])\n",
    "axis.set_ylim([0,1.2])\n",
    "axis.legend(loc=0)"
   ]
  },
  {
   "cell_type": "markdown",
   "metadata": {},
   "source": [
    "#### Fit Model"
   ]
  },
  {
   "cell_type": "code",
   "execution_count": 166,
   "metadata": {
    "collapsed": false
   },
   "outputs": [
    {
     "name": "stdout",
     "output_type": "stream",
     "text": [
      "[[ -1.10792400e-04   3.46085609e-03   1.52491110e-01   1.49590914e+00\n",
      "   -1.69278767e-01  -1.80155702e-01   3.07698534e-01  -1.97543692e-04\n",
      "   -1.18853461e-05   3.41570910e-01   1.08734772e-04   8.76481021e-02\n",
      "   -7.15342449e-03  -2.63626030e-01  -1.14495209e-01  -2.05949795e-05\n",
      "   -1.58581271e-01  -9.07266805e-02  -4.20050718e-06   1.08314605e-04\n",
      "   -2.40085799e-01  -1.16817524e+00   2.02901677e-05  -3.17260535e-02\n",
      "   -1.62302876e-04  -1.16992518e-01   2.01297705e-05   8.21189327e-04]\n",
      " [  2.91037991e-04  -2.99794262e-03  -1.13405815e-01  -2.83609623e-01\n",
      "   -5.39092795e-01  -3.33539594e-03  -8.23487367e-02  -4.18872673e-04\n",
      "    6.96248304e-05  -2.53644009e-01   1.29899559e-04   6.97010191e-02\n",
      "   -9.89111913e-02   3.99618468e-02  -1.57488496e-02   6.64499123e-05\n",
      "    2.64830941e-03  -1.50837964e-01  -7.41018771e-06   1.29158423e-04\n",
      "    7.06694985e-01  -3.53384342e-01  -5.40761688e-05  -7.15785701e-03\n",
      "    1.82532318e-04   1.44776058e-02  -6.28195969e-05  -8.27969611e-03]\n",
      " [ -2.25594032e-04  -1.10359812e-03  -3.32592006e-01  -2.66697618e+00\n",
      "    8.12346025e-01   6.32889297e-01  -3.06243620e-01   5.50382049e-04\n",
      "   -4.69161566e-05  -4.92668493e-01  -2.01219477e-04   9.40335792e-02\n",
      "   -2.55080680e-03   1.51236380e-01   5.09126667e-01  -4.90997724e-05\n",
      "    5.40335314e-01   5.64828432e-01   8.09621996e-06  -2.00409732e-04\n",
      "   -5.26990859e-01   3.28800062e+00   2.08377181e-05   6.49586246e-02\n",
      "   -3.42045071e-05   3.93869771e-01   2.55604600e-05   5.68218377e-03]]\n",
      "[[13730  8522 11159]\n",
      " [  340   700   302]\n",
      " [ 5547  3470  7030]]\n",
      "            Precision    Recall  F1_Measure\n",
      "Up           0.699903  0.410943    0.517840\n",
      "Stationary   0.055153  0.521610    0.099758\n",
      "Down         0.380185  0.438088    0.407088\n"
     ]
    }
   ],
   "source": [
    "logreg = LR(C=10)\n",
    "logreg.fit(test_stat[test_stat.columns[:-2]], test_stat['mid_label'])\n",
    "logit_predict_test = logreg.predict(test_stat[test_stat.columns[:-2]])\n",
    "CM_test = confusion_matrix(logit_predict_test, test_stat['mid_label'])\n",
    "print(logreg.coef_)\n",
    "print(CM_test)\n",
    "print(cal_measure(CM_test))"
   ]
  },
  {
   "cell_type": "markdown",
   "metadata": {},
   "source": [
    "### Spread-Crossing Based"
   ]
  },
  {
   "cell_type": "code",
   "execution_count": 191,
   "metadata": {
    "collapsed": false
   },
   "outputs": [],
   "source": [
    "train_stat_sample = general_sampling(train_stat, 50000, mid=False, up_prob=0.1,down_prob=0.1)\n",
    "#valid_stat_sample = general_sampling(valid_stat, 10000, mid=False, sample_random=True)"
   ]
  },
  {
   "cell_type": "code",
   "execution_count": 203,
   "metadata": {
    "collapsed": false
   },
   "outputs": [
    {
     "data": {
      "text/plain": [
       "(101659, 30)"
      ]
     },
     "execution_count": 203,
     "metadata": {},
     "output_type": "execute_result"
    }
   ],
   "source": [
    "train_stat.shape"
   ]
  },
  {
   "cell_type": "code",
   "execution_count": 192,
   "metadata": {
    "collapsed": true
   },
   "outputs": [],
   "source": [
    "train_accmat_logit = []\n",
    "valid_accmat_logit = []\n",
    "for c in [1e-5, 0.1, 1, 10, 50, 100, 200, 500]:\n",
    "    logreg = LR(C=c)\n",
    "    logreg.fit(train_stat_sample[train_stat_sample.columns[:-2]], train_stat_sample['spread_label'])\n",
    "    logit_predict_train = logreg.predict(train_stat_sample[train_stat_sample.columns[:-2]])\n",
    "    CM_train = confusion_matrix(logit_predict_train, train_stat_sample['spread_label'])\n",
    "    logit_predict_valid = logreg.predict(valid_stat[valid_stat.columns[:-2]])\n",
    "    CM_valid = confusion_matrix(logit_predict_valid, valid_stat['spread_label'])\n",
    "    train_accmat_logit.append(cal_measure(CM_train))\n",
    "    valid_accmat_logit.append(cal_measure(CM_valid))"
   ]
  },
  {
   "cell_type": "code",
   "execution_count": 193,
   "metadata": {
    "collapsed": false
   },
   "outputs": [
    {
     "data": {
      "text/plain": [
       "[            Precision    Recall  F1_Measure\n",
       " Up           0.000000       NaN         NaN\n",
       " Stationary   0.999825  0.799972    0.888802\n",
       " Down         0.000000  0.000000         NaN,\n",
       "             Precision    Recall  F1_Measure\n",
       " Up           0.064400  0.421466    0.111728\n",
       " Stationary   0.990925  0.810490    0.891671\n",
       " Down         0.025800  0.389728    0.048396,\n",
       "             Precision    Recall  F1_Measure\n",
       " Up            0.13600  0.453333    0.209231\n",
       " Stationary    0.98305  0.819567    0.893895\n",
       " Down          0.04380  0.420345    0.079333,\n",
       "             Precision    Recall  F1_Measure\n",
       " Up            0.12980  0.452580    0.201741\n",
       " Stationary    0.98355  0.819250    0.893913\n",
       " Down          0.04140  0.380515    0.074675,\n",
       "             Precision    Recall  F1_Measure\n",
       " Up            0.13380  0.456967    0.206993\n",
       " Stationary    0.98345  0.819439    0.893985\n",
       " Down          0.04120  0.388679    0.074503,\n",
       "             Precision    Recall  F1_Measure\n",
       " Up            0.14240  0.459651    0.217438\n",
       " Stationary    0.98225  0.820645    0.894204\n",
       " Down          0.04580  0.398955    0.082167,\n",
       "             Precision    Recall  F1_Measure\n",
       " Up            0.12240  0.447696    0.192241\n",
       " Stationary    0.98305  0.818680    0.893367\n",
       " Down          0.04600  0.382060    0.082114,\n",
       "             Precision    Recall  F1_Measure\n",
       " Up           0.133800  0.444223    0.205656\n",
       " Stationary   0.982575  0.819547    0.893687\n",
       " Down         0.041800  0.389199    0.075492]"
      ]
     },
     "execution_count": 193,
     "metadata": {},
     "output_type": "execute_result"
    }
   ],
   "source": [
    "train_accmat_logit"
   ]
  },
  {
   "cell_type": "code",
   "execution_count": 194,
   "metadata": {
    "collapsed": false
   },
   "outputs": [
    {
     "data": {
      "text/plain": [
       "[            Precision    Recall  F1_Measure\n",
       " Up            0.00000       NaN         NaN\n",
       " Stationary    0.99986  0.981327    0.990507\n",
       " Down          0.00000  0.000000         NaN,\n",
       "             Precision    Recall  F1_Measure\n",
       " Up           0.059353  0.102484    0.075171\n",
       " Stationary   0.991600  0.982363    0.986960\n",
       " Down         0.017812  0.044304    0.025408,\n",
       "             Precision    Recall  F1_Measure\n",
       " Up           0.131295  0.117552    0.124044\n",
       " Stationary   0.983882  0.983330    0.983606\n",
       " Down         0.027990  0.036667    0.031746,\n",
       "             Precision    Recall  F1_Measure\n",
       " Up           0.120504  0.120287    0.120395\n",
       " Stationary   0.984804  0.983266    0.984034\n",
       " Down         0.025445  0.031847    0.028289,\n",
       "             Precision    Recall  F1_Measure\n",
       " Up           0.129496  0.123499    0.126427\n",
       " Stationary   0.984744  0.983285    0.984014\n",
       " Down         0.022901  0.030822    0.026277,\n",
       "             Precision    Recall  F1_Measure\n",
       " Up           0.143885  0.121951    0.132013\n",
       " Stationary   0.982919  0.983452    0.983185\n",
       " Down         0.022901  0.028125    0.025245,\n",
       "             Precision    Recall  F1_Measure\n",
       " Up           0.109712  0.109123    0.109417\n",
       " Stationary   0.984242  0.983198    0.983720\n",
       " Down         0.022901  0.026706    0.024658,\n",
       "             Precision    Recall  F1_Measure\n",
       " Up           0.129496  0.117647    0.123288\n",
       " Stationary   0.984042  0.983293    0.983667\n",
       " Down         0.022901  0.030100    0.026012]"
      ]
     },
     "execution_count": 194,
     "metadata": {},
     "output_type": "execute_result"
    }
   ],
   "source": [
    "valid_accmat_logit"
   ]
  },
  {
   "cell_type": "code",
   "execution_count": 195,
   "metadata": {
    "collapsed": true
   },
   "outputs": [],
   "source": [
    "train_up_f1_logit = [pd.ix['Up']['F1_Measure'] for pd in train_accmat_logit]\n",
    "train_down_f1_logit = [pd.ix['Down']['F1_Measure'] for pd in train_accmat_logit]\n",
    "train_stat_f1_logit = [pd.ix['Stationary']['F1_Measure'] for pd in train_accmat_logit]"
   ]
  },
  {
   "cell_type": "code",
   "execution_count": 196,
   "metadata": {
    "collapsed": true
   },
   "outputs": [],
   "source": [
    "valid_up_f1_logit = [pd.ix['Up']['F1_Measure'] for pd in valid_accmat_logit]\n",
    "valid_down_f1_logit = [pd.ix['Down']['F1_Measure'] for pd in valid_accmat_logit]\n",
    "valid_stat_f1_logit = [pd.ix['Stationary']['F1_Measure'] for pd in valid_accmat_logit]"
   ]
  },
  {
   "cell_type": "code",
   "execution_count": 197,
   "metadata": {
    "collapsed": false
   },
   "outputs": [
    {
     "data": {
      "text/plain": [
       "<matplotlib.legend.Legend at 0x7f5fefa6e4e0>"
      ]
     },
     "execution_count": 197,
     "metadata": {},
     "output_type": "execute_result"
    },
    {
     "data": {
      "image/png": "[encoded data removed]",
      "text/plain": [
       "<matplotlib.figure.Figure at 0x7f5fefd89d30>"
      ]
     },
     "metadata": {},
     "output_type": "display_data"
    }
   ],
   "source": [
    "cs = [1e-5, 0.1, 1, 10, 50, 100, 200, 500]\n",
    "fig = plt.figure(figsize = (18, 4))\n",
    "axis = fig.add_subplot(1, 3, 1)\n",
    "axis.plot(cs, train_up_f1_logit, color = 'b', label='Training')\n",
    "axis.plot(cs, valid_up_f1_logit, marker='o', linestyle='--', color='r', label='Validation')\n",
    "axis.set_xlabel('Regularization coefficient C')\n",
    "axis.set_ylabel('F1-Measure')\n",
    "axis.set_title('Up')\n",
    "axis.set_xlim([-10, 510])\n",
    "axis.set_ylim([0,1.2])\n",
    "axis.legend(loc=0)\n",
    "\n",
    "axis = fig.add_subplot(1, 3, 3)\n",
    "axis.plot(cs, train_down_f1_logit, color = 'b', label='Training')\n",
    "axis.plot(cs, valid_down_f1_logit, marker='o', linestyle='--', color='r', label='Validation')\n",
    "axis.set_xlabel('Regularization coefficient C')\n",
    "axis.set_ylabel('F1-Measure')\n",
    "axis.set_title('Down')\n",
    "axis.set_xlim([-10, 510])\n",
    "axis.set_ylim([0,1.2])\n",
    "axis.legend(loc=0)\n",
    "\n",
    "axis = fig.add_subplot(1, 3, 2)\n",
    "axis.plot(cs, train_stat_f1_logit, color = 'b', label='Training')\n",
    "axis.plot(cs, valid_stat_f1_logit, marker='o', linestyle='--', color='r', label='Validation')\n",
    "axis.set_xlabel('Regularization coefficient C')\n",
    "axis.set_ylabel('F1-Measure')\n",
    "axis.set_title('Stationary')\n",
    "axis.set_xlim([-10, 510])\n",
    "axis.set_ylim([0,1.2])\n",
    "axis.legend(loc=0)"
   ]
  },
  {
   "cell_type": "markdown",
   "metadata": {},
   "source": [
    "#### Fit Modesl"
   ]
  },
  {
   "cell_type": "code",
   "execution_count": 204,
   "metadata": {
    "collapsed": true
   },
   "outputs": [],
   "source": [
    "train_valid = pd.concat([general_sampling(train_stat, 50000, mid=False, up_prob=0.1,down_prob=0.1), \\\n",
    "           general_sampling(valid_stat, 25000, mid=False, up_prob=0.1,down_prob=0.1)])"
   ]
  },
  {
   "cell_type": "code",
   "execution_count": 205,
   "metadata": {
    "collapsed": false
   },
   "outputs": [
    {
     "name": "stdout",
     "output_type": "stream",
     "text": [
      "[[ -4.46167841e-04   1.56309643e-02   8.65264873e-01   5.17569222e+00\n",
      "    2.50937108e+00  -4.33937911e-01   2.80691999e+00  -1.50504569e-03\n",
      "   -3.09971086e-04   3.60321658e+00   6.39834107e-04  -3.85055873e+00\n",
      "    1.42992361e+00  -5.62269335e-01  -8.59585754e-02   8.26473182e-05\n",
      "   -3.89865446e-01   1.14752760e+00   6.02436600e-05   6.45858533e-04\n",
      "   -8.35069623e+00  -6.75554728e-01  -8.27397636e-05  -9.45977136e-01\n",
      "   -2.34870718e-04  -3.51253415e-01   1.30130365e-04   4.00002118e-02]\n",
      " [  1.40112969e-04  -3.02530546e-03  -1.60780568e-01  -1.69404849e+00\n",
      "   -2.86417065e+00   1.31314731e-01  -4.53481569e-01  -2.46933658e-03\n",
      "    1.93713144e-04  -2.42108684e+00  -8.18157167e-04   4.37531871e+00\n",
      "   -1.07123247e+00  -3.01844384e-01   9.47651282e-02   1.47065487e-05\n",
      "   -7.03927628e-02  -2.57564117e-01  -5.13747053e-05  -8.23293440e-04\n",
      "    9.07999758e+00  -3.01063037e+00  -5.18449210e-05   5.36630824e-01\n",
      "    1.65663949e-04   1.12494418e-01  -5.87661940e-05  -2.40399803e-02]\n",
      " [ -1.92534658e-06  -7.50968264e-03   8.28952571e-01  -2.38771266e-01\n",
      "    2.31103886e+00   6.15791826e-02  -1.17812878e+00   5.51991070e-03\n",
      "   -4.32006948e-05   2.34277104e+00   5.95276002e-04  -2.21626376e+00\n",
      "    8.38710121e-01   3.73363558e-01   1.74661661e-02  -1.62085686e-04\n",
      "    7.07903646e-02   5.40534128e-01   2.46180485e-05   5.97737651e-04\n",
      "   -4.01340398e+00   2.03591148e+00   1.32634588e-04  -5.62176342e-01\n",
      "   -1.79242477e-04  -4.13051192e-03  -4.95476538e-05  -3.28691116e-03]]\n",
      "[[   82   671    39]\n",
      " [  455 48996   377]\n",
      " [    6   159    15]]\n",
      "            Precision    Recall  F1_Measure\n",
      "Up           0.151013  0.103535    0.122846\n",
      "Stationary   0.983342  0.983303    0.983322\n",
      "Down         0.034803  0.083333    0.049100\n"
     ]
    }
   ],
   "source": [
    "logreg = LR(C=100)\n",
    "logreg.fit(train_valid[train_valid.columns[:-2]], train_valid['spread_label'])\n",
    "logit_predict_test = logreg.predict(test_stat[test_stat.columns[:-2]])\n",
    "CM_test = confusion_matrix(logit_predict_test, test_stat['spread_label'])\n",
    "print(logreg.coef_)\n",
    "print(CM_test)\n",
    "print(cal_measure(CM_test))"
   ]
  },
  {
   "cell_type": "code",
   "execution_count": 208,
   "metadata": {
    "collapsed": false
   },
   "outputs": [
    {
     "data": {
      "text/plain": [
       "stationary    49826\n",
       "down            543\n",
       "up              431\n",
       "dtype: int64"
      ]
     },
     "execution_count": 208,
     "metadata": {},
     "output_type": "execute_result"
    }
   ],
   "source": [
    "test_x['spread_label'].value_counts()"
   ]
  },
  {
   "cell_type": "code",
   "execution_count": null,
   "metadata": {
    "collapsed": true
   },
   "outputs": [],
   "source": []
  },
  {
   "cell_type": "code",
   "execution_count": 111,
   "metadata": {
    "collapsed": false
   },
   "outputs": [],
   "source": [
    "def get_statistics(data_df, fea_names):\n",
    "    result_df = data_df[fea_names]\n",
    "    vol_ratio = np.sum(data_df[[\"ask_size\"+str(i) for i in range(1, 6)]], axis = 1) / np.sum(data_df[[\"bid_size\"+str(i) for i in range(1, 6)]], axis = 1)\n",
    "    result_df['vol_ratio'] = vol_ratio\n",
    "    result_df['mid_label'] = data_df['mid_label']\n",
    "    result_df['spread_label'] = data_df['spread_label']\n",
    "    return(result_df)"
   ]
  },
  {
   "cell_type": "code",
   "execution_count": null,
   "metadata": {
    "collapsed": true
   },
   "outputs": [],
   "source": []
  },
  {
   "cell_type": "code",
   "execution_count": null,
   "metadata": {
    "collapsed": true
   },
   "outputs": [],
   "source": []
  },
  {
   "cell_type": "markdown",
   "metadata": {},
   "source": [
    "***Calculate Profit***"
   ]
  },
  {
   "cell_type": "code",
   "execution_count": 86,
   "metadata": {
    "collapsed": true
   },
   "outputs": [],
   "source": [
    "def compute_profit(test, prediction, delta_t):\n",
    "    '''\n",
    "    test: data frame\n",
    "    prediction: predicted trend using delta_t (np.array) \n",
    "    delta_t: float\n",
    "    '''\n",
    "    preds = pd.Series(prediction)\n",
    "    preds.index = test.index\n",
    "    test['trend'] = preds\n",
    "    profit = []\n",
    "    for i in test.index:\n",
    "        if preds[i] == 'up':\n",
    "            profit.append(test.bid_price1[i+delta_t] - test.ask_price1[i])\n",
    "        if preds[i] == 'down':\n",
    "            profit.append(test.bid_price1[i] - test.ask_price1[i+delta_t])\n",
    "        if preds[i] == 'stationary':\n",
    "            profit.append(0)\n",
    "    return(profit)"
   ]
  },
  {
   "cell_type": "code",
   "execution_count": 130,
   "metadata": {
    "collapsed": false
   },
   "outputs": [
    {
     "name": "stderr",
     "output_type": "stream",
     "text": [
      "H:\\Anaconda3\\lib\\site-packages\\ipykernel\\__main__.py:10: SettingWithCopyWarning: \n",
      "A value is trying to be set on a copy of a slice from a DataFrame.\n",
      "Try using .loc[row_indexer,col_indexer] = value instead\n",
      "\n",
      "See the caveats in the documentation: http://pandas.pydata.org/pandas-docs/stable/indexing.html#indexing-view-versus-copy\n"
     ]
    }
   ],
   "source": [
    "pro = compute_profit(test,predict_test,20)"
   ]
  },
  {
   "cell_type": "code",
   "execution_count": 131,
   "metadata": {
    "collapsed": false
   },
   "outputs": [
    {
     "data": {
      "text/plain": [
       "-4204.9200000000446"
      ]
     },
     "execution_count": 131,
     "metadata": {},
     "output_type": "execute_result"
    }
   ],
   "source": [
    "sum(pro)"
   ]
  }
 ],
 "metadata": {
  "kernelspec": {
   "display_name": "Python 3",
   "language": "python",
   "name": "python3"
  },
  "language_info": {
   "codemirror_mode": {
    "name": "ipython",
    "version": 3
   },
   "file_extension": ".py",
   "mimetype": "text/x-python",
   "name": "python",
   "nbconvert_exporter": "python",
   "pygments_lexer": "ipython3",
   "version": "3.5.1"
  }
 },
 "nbformat": 4,
 "nbformat_minor": 0
}
