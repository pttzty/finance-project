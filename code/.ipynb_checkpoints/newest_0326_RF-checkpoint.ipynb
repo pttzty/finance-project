{
 "cells": [
  {
   "cell_type": "markdown",
   "metadata": {},
   "source": [
    "## Rename the data"
   ]
  },
  {
   "cell_type": "code",
   "execution_count": 1,
   "metadata": {
    "collapsed": true
   },
   "outputs": [],
   "source": [
    "import pandas as pd\n",
    "import numpy as np"
   ]
  },
  {
   "cell_type": "code",
   "execution_count": 2,
   "metadata": {
    "collapsed": false
   },
   "outputs": [],
   "source": [
    "data_raw = pd.read_csv(\"../data/AAPL_05222012_0930_1300_LOB_2.csv\", index_col='Index')"
   ]
  },
  {
   "cell_type": "code",
   "execution_count": 3,
   "metadata": {
    "collapsed": false
   },
   "outputs": [],
   "source": [
    "cols = [name.split(\"..\")[0].split(\".\")[1].lower() for name in data_raw.columns.values if len(name) > 5]"
   ]
  },
  {
   "cell_type": "code",
   "execution_count": 4,
   "metadata": {
    "collapsed": false
   },
   "outputs": [],
   "source": [
    "data_raw.columns = [\"Time\"] + cols"
   ]
  },
  {
   "cell_type": "code",
   "execution_count": 5,
   "metadata": {
    "collapsed": false
   },
   "outputs": [
    {
     "data": {
      "text/html": [
       "<div>\n",
       "<table border=\"1\" class=\"dataframe\">\n",
       "  <thead>\n",
       "    <tr style=\"text-align: right;\">\n",
       "      <th></th>\n",
       "      <th>Time</th>\n",
       "      <th>bid_price1</th>\n",
       "      <th>bid_update_time1</th>\n",
       "      <th>bid_size1</th>\n",
       "      <th>ask_price1</th>\n",
       "      <th>ask_update_time1</th>\n",
       "      <th>ask_size1</th>\n",
       "      <th>bid_price2</th>\n",
       "      <th>bid_update_time2</th>\n",
       "      <th>bid_size2</th>\n",
       "      <th>...</th>\n",
       "      <th>bid_size9</th>\n",
       "      <th>ask_price9</th>\n",
       "      <th>ask_update_time9</th>\n",
       "      <th>ask_size9</th>\n",
       "      <th>bid_price10</th>\n",
       "      <th>bid_update_time10</th>\n",
       "      <th>bid_size10</th>\n",
       "      <th>ask_price10</th>\n",
       "      <th>ask_update_time10</th>\n",
       "      <th>ask_size10</th>\n",
       "    </tr>\n",
       "    <tr>\n",
       "      <th>Index</th>\n",
       "      <th></th>\n",
       "      <th></th>\n",
       "      <th></th>\n",
       "      <th></th>\n",
       "      <th></th>\n",
       "      <th></th>\n",
       "      <th></th>\n",
       "      <th></th>\n",
       "      <th></th>\n",
       "      <th></th>\n",
       "      <th></th>\n",
       "      <th></th>\n",
       "      <th></th>\n",
       "      <th></th>\n",
       "      <th></th>\n",
       "      <th></th>\n",
       "      <th></th>\n",
       "      <th></th>\n",
       "      <th></th>\n",
       "      <th></th>\n",
       "      <th></th>\n",
       "    </tr>\n",
       "  </thead>\n",
       "  <tbody>\n",
       "    <tr>\n",
       "      <th>1</th>\n",
       "      <td>2012/05/22 09:30:00.000</td>\n",
       "      <td>569.02</td>\n",
       "      <td>2012/05/22 09:29:34.006</td>\n",
       "      <td>40</td>\n",
       "      <td>570</td>\n",
       "      <td>2012/05/22 09:29:43.573</td>\n",
       "      <td>400</td>\n",
       "      <td>568.80</td>\n",
       "      <td>2012/05/22 09:29:47.563</td>\n",
       "      <td>100</td>\n",
       "      <td>...</td>\n",
       "      <td>200</td>\n",
       "      <td>571.00</td>\n",
       "      <td>2012/05/22 09:29:49.424</td>\n",
       "      <td>120</td>\n",
       "      <td>567.16</td>\n",
       "      <td>2012/05/22 09:28:28.730</td>\n",
       "      <td>60</td>\n",
       "      <td>571.24</td>\n",
       "      <td>2012/05/22 08:13:36.797</td>\n",
       "      <td>200</td>\n",
       "    </tr>\n",
       "    <tr>\n",
       "      <th>2</th>\n",
       "      <td>2012/05/22 09:30:00.003</td>\n",
       "      <td>569.02</td>\n",
       "      <td>2012/05/22 09:29:34.006</td>\n",
       "      <td>40</td>\n",
       "      <td>570</td>\n",
       "      <td>2012/05/22 09:29:43.573</td>\n",
       "      <td>400</td>\n",
       "      <td>568.80</td>\n",
       "      <td>2012/05/22 09:29:47.563</td>\n",
       "      <td>100</td>\n",
       "      <td>...</td>\n",
       "      <td>200</td>\n",
       "      <td>570.99</td>\n",
       "      <td>2012/05/22 09:29:53.347</td>\n",
       "      <td>200</td>\n",
       "      <td>567.16</td>\n",
       "      <td>2012/05/22 09:28:28.730</td>\n",
       "      <td>60</td>\n",
       "      <td>571.00</td>\n",
       "      <td>2012/05/22 09:29:49.424</td>\n",
       "      <td>120</td>\n",
       "    </tr>\n",
       "    <tr>\n",
       "      <th>3</th>\n",
       "      <td>2012/05/22 09:30:00.003</td>\n",
       "      <td>569.02</td>\n",
       "      <td>2012/05/22 09:29:34.006</td>\n",
       "      <td>40</td>\n",
       "      <td>570</td>\n",
       "      <td>2012/05/22 09:29:43.573</td>\n",
       "      <td>400</td>\n",
       "      <td>568.80</td>\n",
       "      <td>2012/05/22 09:29:47.563</td>\n",
       "      <td>100</td>\n",
       "      <td>...</td>\n",
       "      <td>200</td>\n",
       "      <td>570.67</td>\n",
       "      <td>2012/05/22 09:29:29.034</td>\n",
       "      <td>10</td>\n",
       "      <td>567.16</td>\n",
       "      <td>2012/05/22 09:28:28.730</td>\n",
       "      <td>60</td>\n",
       "      <td>570.99</td>\n",
       "      <td>2012/05/22 09:29:53.347</td>\n",
       "      <td>200</td>\n",
       "    </tr>\n",
       "    <tr>\n",
       "      <th>4</th>\n",
       "      <td>2012/05/22 09:30:00.003</td>\n",
       "      <td>569.03</td>\n",
       "      <td>2012/05/22 09:30:00.003</td>\n",
       "      <td>8</td>\n",
       "      <td>570</td>\n",
       "      <td>2012/05/22 09:29:43.573</td>\n",
       "      <td>400</td>\n",
       "      <td>569.02</td>\n",
       "      <td>2012/05/22 09:29:34.006</td>\n",
       "      <td>40</td>\n",
       "      <td>...</td>\n",
       "      <td>200</td>\n",
       "      <td>570.67</td>\n",
       "      <td>2012/05/22 09:29:29.034</td>\n",
       "      <td>10</td>\n",
       "      <td>567.30</td>\n",
       "      <td>2012/05/22 09:29:38.985</td>\n",
       "      <td>200</td>\n",
       "      <td>570.99</td>\n",
       "      <td>2012/05/22 09:29:53.347</td>\n",
       "      <td>200</td>\n",
       "    </tr>\n",
       "    <tr>\n",
       "      <th>5</th>\n",
       "      <td>2012/05/22 09:30:00.003</td>\n",
       "      <td>569.03</td>\n",
       "      <td>2012/05/22 09:30:00.003</td>\n",
       "      <td>8</td>\n",
       "      <td>570</td>\n",
       "      <td>2012/05/22 09:29:43.573</td>\n",
       "      <td>400</td>\n",
       "      <td>569.02</td>\n",
       "      <td>2012/05/22 09:29:34.006</td>\n",
       "      <td>40</td>\n",
       "      <td>...</td>\n",
       "      <td>200</td>\n",
       "      <td>570.55</td>\n",
       "      <td>2012/05/22 09:30:00.003</td>\n",
       "      <td>8</td>\n",
       "      <td>567.30</td>\n",
       "      <td>2012/05/22 09:29:38.985</td>\n",
       "      <td>200</td>\n",
       "      <td>570.67</td>\n",
       "      <td>2012/05/22 09:29:29.034</td>\n",
       "      <td>10</td>\n",
       "    </tr>\n",
       "  </tbody>\n",
       "</table>\n",
       "<p>5 rows × 61 columns</p>\n",
       "</div>"
      ],
      "text/plain": [
       "                          Time  bid_price1         bid_update_time1  \\\n",
       "Index                                                                 \n",
       "1      2012/05/22 09:30:00.000      569.02  2012/05/22 09:29:34.006   \n",
       "2      2012/05/22 09:30:00.003      569.02  2012/05/22 09:29:34.006   \n",
       "3      2012/05/22 09:30:00.003      569.02  2012/05/22 09:29:34.006   \n",
       "4      2012/05/22 09:30:00.003      569.03  2012/05/22 09:30:00.003   \n",
       "5      2012/05/22 09:30:00.003      569.03  2012/05/22 09:30:00.003   \n",
       "\n",
       "       bid_size1  ask_price1         ask_update_time1  ask_size1  bid_price2  \\\n",
       "Index                                                                          \n",
       "1             40         570  2012/05/22 09:29:43.573        400      568.80   \n",
       "2             40         570  2012/05/22 09:29:43.573        400      568.80   \n",
       "3             40         570  2012/05/22 09:29:43.573        400      568.80   \n",
       "4              8         570  2012/05/22 09:29:43.573        400      569.02   \n",
       "5              8         570  2012/05/22 09:29:43.573        400      569.02   \n",
       "\n",
       "              bid_update_time2  bid_size2     ...      bid_size9 ask_price9  \\\n",
       "Index                                         ...                             \n",
       "1      2012/05/22 09:29:47.563        100     ...            200     571.00   \n",
       "2      2012/05/22 09:29:47.563        100     ...            200     570.99   \n",
       "3      2012/05/22 09:29:47.563        100     ...            200     570.67   \n",
       "4      2012/05/22 09:29:34.006         40     ...            200     570.67   \n",
       "5      2012/05/22 09:29:34.006         40     ...            200     570.55   \n",
       "\n",
       "              ask_update_time9  ask_size9 bid_price10  \\\n",
       "Index                                                   \n",
       "1      2012/05/22 09:29:49.424        120      567.16   \n",
       "2      2012/05/22 09:29:53.347        200      567.16   \n",
       "3      2012/05/22 09:29:29.034         10      567.16   \n",
       "4      2012/05/22 09:29:29.034         10      567.30   \n",
       "5      2012/05/22 09:30:00.003          8      567.30   \n",
       "\n",
       "             bid_update_time10  bid_size10 ask_price10  \\\n",
       "Index                                                    \n",
       "1      2012/05/22 09:28:28.730          60      571.24   \n",
       "2      2012/05/22 09:28:28.730          60      571.00   \n",
       "3      2012/05/22 09:28:28.730          60      570.99   \n",
       "4      2012/05/22 09:29:38.985         200      570.99   \n",
       "5      2012/05/22 09:29:38.985         200      570.67   \n",
       "\n",
       "             ask_update_time10  ask_size10  \n",
       "Index                                       \n",
       "1      2012/05/22 08:13:36.797         200  \n",
       "2      2012/05/22 09:29:49.424         120  \n",
       "3      2012/05/22 09:29:53.347         200  \n",
       "4      2012/05/22 09:29:53.347         200  \n",
       "5      2012/05/22 09:29:29.034          10  \n",
       "\n",
       "[5 rows x 61 columns]"
      ]
     },
     "execution_count": 5,
     "metadata": {},
     "output_type": "execute_result"
    }
   ],
   "source": [
    "data_raw.head()"
   ]
  },
  {
   "cell_type": "code",
   "execution_count": 6,
   "metadata": {
    "collapsed": true
   },
   "outputs": [],
   "source": [
    "data_raw.to_csv(\"../data/AAPL_LOB.csv\")"
   ]
  },
  {
   "cell_type": "markdown",
   "metadata": {},
   "source": [
    "## Fit the models"
   ]
  },
  {
   "cell_type": "code",
   "execution_count": 3,
   "metadata": {
    "collapsed": true
   },
   "outputs": [],
   "source": [
    "from imp import reload"
   ]
  },
  {
   "cell_type": "code",
   "execution_count": 1,
   "metadata": {
    "collapsed": false
   },
   "outputs": [],
   "source": [
    "import pandas as pd\n",
    "import numpy as np\n",
    "from datetime import datetime\n",
    "from label import create_label\n",
    "from basic_set import get_basic\n",
    "from insensitive_set import get_spread_midprice, get_price_diff, get_mean, get_accumulated_diff\n",
    "from sensitive_set import get_derivatives\n",
    "from sampling import sampling_labels, general_sampling\n",
    "from sklearn import svm\n",
    "from sklearn.metrics import confusion_matrix\n",
    "from sklearn.ensemble import RandomForestClassifier as RF"
   ]
  },
  {
   "cell_type": "code",
   "execution_count": 23,
   "metadata": {
    "collapsed": true
   },
   "outputs": [],
   "source": [
    "from sklearn.ensemble import RandomForestClassifier as RF"
   ]
  },
  {
   "cell_type": "code",
   "execution_count": 2,
   "metadata": {
    "collapsed": true
   },
   "outputs": [],
   "source": [
    "from matplotlib import pyplot as plt\n",
    "%matplotlib inline"
   ]
  },
  {
   "cell_type": "code",
   "execution_count": 4,
   "metadata": {
    "collapsed": false
   },
   "outputs": [],
   "source": [
    "plt.style.use(\"ggplot\")"
   ]
  },
  {
   "cell_type": "markdown",
   "metadata": {
    "collapsed": true
   },
   "source": [
    "### Load data"
   ]
  },
  {
   "cell_type": "code",
   "execution_count": 332,
   "metadata": {
    "collapsed": true
   },
   "outputs": [],
   "source": [
    "data_raw = pd.read_csv('../data/AAPL_LOB.csv')"
   ]
  },
  {
   "cell_type": "markdown",
   "metadata": {},
   "source": [
    "### Transform the data"
   ]
  },
  {
   "cell_type": "code",
   "execution_count": 6,
   "metadata": {
    "collapsed": true
   },
   "outputs": [],
   "source": [
    "def transform_data_tinsen(data_raw):\n",
    "    spreads_mids = get_spread_midprice(data_raw)\n",
    "    price_diff = get_price_diff(data_raw)\n",
    "    means = get_mean(data_raw)\n",
    "    accum_diff = get_accumulated_diff(data_raw)\n",
    "    data_tfm = pd.merge(spreads_mids, price_diff, on = ['Index', 'Time'])\n",
    "    data_tfm = pd.merge(data_tfm, means, on = ['Index', 'Time'])\n",
    "    data_tfm = pd.merge(data_tfm, accum_diff, on = ['Index', 'Time'])\n",
    "    return(data_tfm)"
   ]
  },
  {
   "cell_type": "code",
   "execution_count": 7,
   "metadata": {
    "collapsed": true
   },
   "outputs": [],
   "source": [
    "def transform_data(data_raw, feature_basic = True, feature_tinsen = True, feature_tsen = True, delta_t = 30):\n",
    "    if feature_basic * feature_tinsen * feature_tsen:\n",
    "        basics = get_basic(data_raw)\n",
    "        data_tinsen = transform_data_tinsen(data_raw)\n",
    "        data_tsen = get_derivatives(data_raw, delta_t)\n",
    "        basics = basics.iloc[delta_t:]\n",
    "        data_tinsen = data_tinsen.iloc[delta_t:]\n",
    "        #print(\"basics_ind:\" + str(basics.index[:5]) + \"tinsen: \"+ str(data_tinsen.index[:5]) + str(data_tsen.index[:5]))\n",
    "        data_tfm = pd.merge(basics, data_tinsen, on = ['Index', 'Time'])\n",
    "        data_tfm = pd.merge(data_tfm, data_tsen, on = ['Index', 'Time'])\n",
    "        return(data_tfm)\n",
    "    elif (feature_basic == True) and (feature_tinsen == True):\n",
    "        basics = get_basic(data_raw)\n",
    "        data_tinsen = transform_data_tinsen(data_raw)\n",
    "        data_tfm = pd.merge(basics, data_tinsen, on = ['Index', 'Time'])\n",
    "        return(data_tfm)\n",
    "    elif (feature_basic == True):\n",
    "        basics = get_basic(data_raw)\n",
    "        return(basics)"
   ]
  },
  {
   "cell_type": "code",
   "execution_count": 8,
   "metadata": {
    "collapsed": false
   },
   "outputs": [],
   "source": [
    "def split_rawdata(data_raw, split_time = datetime(2012, 5, 22, 11, 0)):\n",
    "    time = np.array([datetime.strptime(time, \"%Y/%m/%d %H:%M:%S.%f\") for time in data_raw['Time']])\n",
    "    train_index = time < datetime(2012, 5, 22, 11, 0)\n",
    "    train = data_raw.iloc[train_index]\n",
    "    test = data_raw.iloc[ np.logical_and(np.logical_not(train_index),time <= datetime(2012, 5, 22, 12, 0))]\n",
    "    return({\"train\": train, \"test\": test})"
   ]
  },
  {
   "cell_type": "code",
   "execution_count": 551,
   "metadata": {
    "collapsed": false
   },
   "outputs": [],
   "source": [
    "raw_data_sets = split_rawdata(data_raw)\n",
    "train = raw_data_sets[\"train\"]\n",
    "test = raw_data_sets[\"test\"]"
   ]
  },
  {
   "cell_type": "code",
   "execution_count": 399,
   "metadata": {
    "collapsed": false
   },
   "outputs": [
    {
     "data": {
      "text/plain": [
       "(76307, 62)"
      ]
     },
     "execution_count": 399,
     "metadata": {},
     "output_type": "execute_result"
    }
   ],
   "source": [
    "test.shape"
   ]
  },
  {
   "cell_type": "code",
   "execution_count": 553,
   "metadata": {
    "collapsed": false
   },
   "outputs": [],
   "source": [
    "train_tfm = transform_data(train, delta_t = 30)\n",
    "test_tfm = transform_data(test, delta_t = 30)"
   ]
  },
  {
   "cell_type": "code",
   "execution_count": 562,
   "metadata": {
    "collapsed": false
   },
   "outputs": [
    {
     "data": {
      "text/plain": [
       "(76277, 128)"
      ]
     },
     "execution_count": 562,
     "metadata": {},
     "output_type": "execute_result"
    }
   ],
   "source": [
    "#test_tfm.head()\n",
    "test_tfm.shape"
   ]
  },
  {
   "cell_type": "code",
   "execution_count": null,
   "metadata": {
    "collapsed": true
   },
   "outputs": [],
   "source": []
  },
  {
   "cell_type": "markdown",
   "metadata": {},
   "source": [
    "## Prepare y labels"
   ]
  },
  {
   "cell_type": "markdown",
   "metadata": {},
   "source": [
    "#### Mid price based on delta_t = 20"
   ]
  },
  {
   "cell_type": "markdown",
   "metadata": {},
   "source": [
    "***try without sampling***\n",
    "\n",
    "Just use ~50% for training, ~25% for validating and ~25% for testing within the 9-11am dataset"
   ]
  },
  {
   "cell_type": "code",
   "execution_count": 30,
   "metadata": {
    "collapsed": false
   },
   "outputs": [],
   "source": [
    "#validation_x.index = range(validation_x.shape[0])\n",
    "#train_x.index = range(train_x.shape[0])\n",
    "#test_x.index = range(test_x.shape[0])"
   ]
  },
  {
   "cell_type": "code",
   "execution_count": null,
   "metadata": {
    "collapsed": true
   },
   "outputs": [],
   "source": []
  },
  {
   "cell_type": "code",
   "execution_count": 563,
   "metadata": {
    "collapsed": false
   },
   "outputs": [
    {
     "data": {
      "text/plain": [
       "(203289, 130)"
      ]
     },
     "execution_count": 563,
     "metadata": {},
     "output_type": "execute_result"
    }
   ],
   "source": [
    "y_lab_train_all = create_label(train_tfm, 30)\n",
    "y_lab_train_all.shape"
   ]
  },
  {
   "cell_type": "code",
   "execution_count": 564,
   "metadata": {
    "collapsed": true
   },
   "outputs": [],
   "source": [
    "test_all = create_label(test_tfm, 30)"
   ]
  },
  {
   "cell_type": "code",
   "execution_count": 565,
   "metadata": {
    "collapsed": false
   },
   "outputs": [
    {
     "data": {
      "text/plain": [
       "(76247, 130)"
      ]
     },
     "execution_count": 565,
     "metadata": {},
     "output_type": "execute_result"
    }
   ],
   "source": [
    "test_all.shape"
   ]
  },
  {
   "cell_type": "code",
   "execution_count": 404,
   "metadata": {
    "collapsed": false
   },
   "outputs": [
    {
     "data": {
      "text/plain": [
       "stationary    199525\n",
       "down            2144\n",
       "up              1620\n",
       "dtype: int64"
      ]
     },
     "execution_count": 404,
     "metadata": {},
     "output_type": "execute_result"
    }
   ],
   "source": [
    "y_lab_train_all.spread_label.value_counts()"
   ]
  },
  {
   "cell_type": "code",
   "execution_count": 405,
   "metadata": {
    "collapsed": false
   },
   "outputs": [
    {
     "data": {
      "text/plain": [
       "down          78922\n",
       "up            73735\n",
       "stationary    50632\n",
       "dtype: int64"
      ]
     },
     "execution_count": 405,
     "metadata": {},
     "output_type": "execute_result"
    }
   ],
   "source": [
    "y_lab_train_all.mid_label.value_counts()"
   ]
  },
  {
   "cell_type": "code",
   "execution_count": 566,
   "metadata": {
    "collapsed": true
   },
   "outputs": [],
   "source": [
    "index = np.arange(y_lab_train_all.shape[0])\n",
    "np.random.seed(9)\n",
    "# Shuffle the index and separate the data into train(50%), validation(25%), and test(25%) set.\n",
    "np.random.shuffle(index)\n",
    "\n",
    "# approximate subset\n",
    "train_x = train_tfm.iloc[index[0:101659]]\n",
    "validation_x = train_tfm.iloc[index[101659:152489]]\n",
    "test_x = train_tfm.iloc[index[152489:]]\n",
    "\n",
    "train_y = y_lab_train_all.iloc[index[0:101659]]\n",
    "validation_y = y_lab_train_all.iloc[index[101659:152489]]\n",
    "test_y = y_lab_train_all.iloc[index[152489:]]\n"
   ]
  },
  {
   "cell_type": "code",
   "execution_count": 567,
   "metadata": {
    "collapsed": false
   },
   "outputs": [
    {
     "name": "stdout",
     "output_type": "stream",
     "text": [
      "(101659, 130)\n",
      "(50830, 130)\n",
      "(50800, 130)\n",
      "(101659, 130)\n",
      "(50830, 130)\n",
      "(50800, 130)\n"
     ]
    }
   ],
   "source": [
    "print(train_x.shape)\n",
    "print(validation_x.shape)\n",
    "print(test_x.shape)\n",
    "print(train_y.shape)\n",
    "print(validation_y.shape)\n",
    "print(test_y.shape)"
   ]
  },
  {
   "cell_type": "code",
   "execution_count": 19,
   "metadata": {
    "collapsed": true
   },
   "outputs": [],
   "source": [
    "def cal_measure(CM):\n",
    "    '''\n",
    "    input: 3 by 3 confusion matrix\n",
    "    output: data frame of measurements\n",
    "    '''\n",
    "    # for Up (0)\n",
    "    up = np.array([[CM[0,0],(CM[0,1]+CM[0,2])],[(CM[1,0]+CM[2,0]),(CM[1,1]+CM[2,2]+CM[1,2]+CM[2,1])]], dtype='float')\n",
    "    station = np.array([[CM[1,1],(CM[1,0]+CM[1,2])],[(CM[0,1]+CM[2,1]),(CM[0,0]+CM[2,2]+CM[0,2]+CM[2,0])]], dtype='float')\n",
    "    down = np.array([[CM[2,2],(CM[2,0]+CM[2,1])],[(CM[0,2]+CM[1,2]),(CM[0,0]+CM[1,1]+CM[0,1]+CM[1,0])]], dtype='float')\n",
    "    p_up = up[0,0]/(up[0,0]+up[1,0])\n",
    "    p_station = station[0,0]/(station[0,0]+station[1,0])\n",
    "    p_down = down[0,0]/(down[0,0]+down[1,0])\n",
    "    r_up = up[0,0]/(up[0,0]+up[0,1])\n",
    "    r_station = station[0,0]/(station[0,0]+station[0,1])\n",
    "    r_down = down[0,0]/(down[0,0]+down[0,1])\n",
    "    f_up = 2*p_up*r_up/(p_up+r_up)\n",
    "    f_station = 2*p_station*r_station/(p_station+r_station)\n",
    "    f_down = 2*p_down*r_down/(p_down+r_down)\n",
    "    measure=pd.DataFrame(index=['Up','Stationary','Down'])\n",
    "    measure['Precision'] = [p_up,p_station,p_down]\n",
    "    measure['Recall'] = [r_up,r_station,r_down]\n",
    "    measure['F1_Measure'] = [f_up,f_station,f_down]\n",
    "    return measure"
   ]
  },
  {
   "cell_type": "markdown",
   "metadata": {},
   "source": [
    "### Mid-Price Based Model Fitting"
   ]
  },
  {
   "cell_type": "markdown",
   "metadata": {},
   "source": [
    "Sample from the training set and validation set."
   ]
  },
  {
   "cell_type": "code",
   "execution_count": 343,
   "metadata": {
    "collapsed": true
   },
   "outputs": [],
   "source": [
    "train_sample = general_sampling(train_x, 10000, mid=True, sample_random=True)\n",
    "valid_sample = general_sampling(validation_x, 10000, mid=True, sample_random=True)"
   ]
  },
  {
   "cell_type": "code",
   "execution_count": 344,
   "metadata": {
    "collapsed": false
   },
   "outputs": [
    {
     "data": {
      "text/plain": [
       "down          3903\n",
       "up            3597\n",
       "stationary    2500\n",
       "dtype: int64"
      ]
     },
     "execution_count": 344,
     "metadata": {},
     "output_type": "execute_result"
    }
   ],
   "source": [
    "train_sample.mid_label.value_counts()"
   ]
  },
  {
   "cell_type": "code",
   "execution_count": 290,
   "metadata": {
    "collapsed": false
   },
   "outputs": [
    {
     "name": "stdout",
     "output_type": "stream",
     "text": [
      "(10, 5)\n",
      "(50, 5)\n",
      "(100, 5)\n",
      "(250, 5)\n",
      "(500, 5)\n",
      "(10, 10)\n",
      "(50, 10)\n",
      "(100, 10)\n",
      "(250, 10)\n",
      "(500, 10)\n",
      "(10, 20)\n",
      "(50, 20)\n",
      "(100, 20)\n",
      "(250, 20)\n",
      "(500, 20)\n"
     ]
    }
   ],
   "source": [
    "train_accmat = []\n",
    "valid_accmat = []\n",
    "for d in [5,10,20]:\n",
    "    for n in [10,50,100,250,500]:\n",
    "        cand = RF(n_estimators=n, max_depth=d, max_features='sqrt')\n",
    "        cand = cand.fit(train_sample[train_sample.columns[2:-2]], train_sample.mid_label)\n",
    "        predict_train = cand.predict(train_sample[train_sample.columns[2:-2]])\n",
    "        CM_train = confusion_matrix(predict_train, train_sample['mid_label'])\n",
    "        predict_valid = cand.predict(valid_sample[valid_sample.columns[2:-2]])\n",
    "        CM_valid = confusion_matrix(predict_valid, valid_sample['mid_label'])\n",
    "        train_accmat.append(cal_measure(CM_train))\n",
    "        valid_accmat.append(cal_measure(CM_valid))\n",
    "        print((n,d))"
   ]
  },
  {
   "cell_type": "code",
   "execution_count": 291,
   "metadata": {
    "collapsed": true
   },
   "outputs": [],
   "source": [
    "valid_up_f1 = [pd.ix['Up']['F1_Measure'] for pd in valid_accmat]\n",
    "valid_down_f1 = [pd.ix['Down']['F1_Measure'] for pd in valid_accmat]\n",
    "valid_stat_f1 = [pd.ix['Stationary']['F1_Measure'] for pd in valid_accmat]"
   ]
  },
  {
   "cell_type": "code",
   "execution_count": 292,
   "metadata": {
    "collapsed": false
   },
   "outputs": [],
   "source": [
    "train_up_f1 = [pd.ix['Up']['F1_Measure'] for pd in train_accmat]\n",
    "train_down_f1 = [pd.ix['Down']['F1_Measure'] for pd in train_accmat]\n",
    "train_stat_f1 = [pd.ix['Stationary']['F1_Measure'] for pd in train_accmat]"
   ]
  },
  {
   "cell_type": "code",
   "execution_count": 293,
   "metadata": {
    "collapsed": false
   },
   "outputs": [
    {
     "data": {
      "text/plain": [
       "[            Precision    Recall  F1_Measure\n",
       " Up           0.655370  0.457073    0.538548\n",
       " Stationary   0.028951  0.757895    0.055771\n",
       " Down         0.514571  0.433871    0.470788,\n",
       "             Precision    Recall  F1_Measure\n",
       " Up           0.674558  0.458891    0.546207\n",
       " Stationary   0.015682  0.886364    0.030818\n",
       " Down         0.506571  0.437022    0.469234,\n",
       "             Precision    Recall  F1_Measure\n",
       " Up           0.664590  0.460145    0.543786\n",
       " Stationary   0.012063  0.967742    0.023828\n",
       " Down         0.523143  0.438773    0.477258,\n",
       "             Precision    Recall  F1_Measure\n",
       " Up           0.675554  0.458171    0.546022\n",
       " Stationary   0.014073  0.945946    0.027734\n",
       " Down         0.508857  0.440188    0.472038,\n",
       "             Precision    Recall  F1_Measure\n",
       " Up           0.673561  0.458991    0.545950\n",
       " Stationary   0.012465  0.939394    0.024603\n",
       " Down         0.514000  0.441148    0.474795,\n",
       "             Precision    Recall  F1_Measure\n",
       " Up           0.630451  0.495301    0.554764\n",
       " Stationary   0.132690  0.503049    0.209990\n",
       " Down         0.559143  0.461992    0.505946,\n",
       "             Precision    Recall  F1_Measure\n",
       " Up           0.690007  0.501721    0.580990\n",
       " Stationary   0.092481  0.764120    0.164993\n",
       " Down         0.570286  0.477512    0.519792,\n",
       "             Precision    Recall  F1_Measure\n",
       " Up           0.706454  0.506884    0.590256\n",
       " Stationary   0.090470  0.795053    0.162455\n",
       " Down         0.577429  0.490058    0.530168,\n",
       "             Precision    Recall  F1_Measure\n",
       " Up           0.704959  0.507444    0.590113\n",
       " Stationary   0.082831  0.820717    0.150475\n",
       " Down         0.584000  0.489698    0.532708,\n",
       "             Precision    Recall  F1_Measure\n",
       " Up           0.702467  0.509304    0.590490\n",
       " Stationary   0.088862  0.821561    0.160377\n",
       " Down         0.586571  0.489276    0.533524,\n",
       "             Precision    Recall  F1_Measure\n",
       " Up           0.609270  0.533144    0.568671\n",
       " Stationary   0.310816  0.462321    0.371724\n",
       " Down         0.532571  0.498129    0.514775,\n",
       "             Precision    Recall  F1_Measure\n",
       " Up           0.702716  0.568548    0.628552\n",
       " Stationary   0.269803  0.652089    0.381684\n",
       " Down         0.628286  0.548242    0.585541,\n",
       "             Precision    Recall  F1_Measure\n",
       " Up           0.716920  0.570720    0.635520\n",
       " Stationary   0.264576  0.699256    0.383897\n",
       " Down         0.629714  0.548532    0.586326,\n",
       "             Precision    Recall  F1_Measure\n",
       " Up           0.725392  0.575752    0.641967\n",
       " Stationary   0.258142  0.714922    0.379321\n",
       " Down         0.636571  0.550667    0.590512,\n",
       "             Precision    Recall  F1_Measure\n",
       " Up           0.733865  0.577112    0.646117\n",
       " Stationary   0.257338  0.738178    0.381634\n",
       " Down         0.635429  0.551861    0.590704]"
      ]
     },
     "execution_count": 293,
     "metadata": {},
     "output_type": "execute_result"
    }
   ],
   "source": [
    "valid_accmat"
   ]
  },
  {
   "cell_type": "code",
   "execution_count": 295,
   "metadata": {
    "collapsed": false,
    "scrolled": true
   },
   "outputs": [
    {
     "data": {
      "image/png": "[encoded data removed]",
      "text/plain": [
       "<matplotlib.figure.Figure at 0x3a0d3c6ef0>"
      ]
     },
     "metadata": {},
     "output_type": "display_data"
    }
   ],
   "source": [
    "# Up\n",
    "n = [10,50,100,250,500]\n",
    "d = [5,10,20]\n",
    "fig = plt.figure(figsize = (18,4))\n",
    "for plot_number in range(1,4):\n",
    "    axis = fig.add_subplot(1, 3, plot_number)\n",
    "    axis.plot(n, train_up_f1[(plot_number-1)*5:plot_number*5], color = 'b', label='Training')\n",
    "    axis.plot(n, valid_up_f1[(plot_number-1)*5:plot_number*5], marker='o', linestyle='--', color='r', label='Validation')\n",
    "    axis.set_xlabel('Number of Trees')\n",
    "    axis.set_ylabel('F1-Measure')\n",
    "    axis.set_title('Depth ' + str(d[plot_number-1]))\n",
    "    axis.set_xlim(-10, 520)\n",
    "    axis.set_ylim(-0.1, 1.1)\n",
    "    if plot_number == 1:\n",
    "        axis.legend(loc=1)\n",
    "    else:\n",
    "        axis.legend(loc=4)\n",
    "plt.show()"
   ]
  },
  {
   "cell_type": "code",
   "execution_count": 296,
   "metadata": {
    "collapsed": false
   },
   "outputs": [
    {
     "data": {
      "image/png": "[encoded data removed]",
      "text/plain": [
       "<matplotlib.figure.Figure at 0x3a048e1c50>"
      ]
     },
     "metadata": {},
     "output_type": "display_data"
    }
   ],
   "source": [
    "# Down\n",
    "n = [10,50,100,250,500]\n",
    "d = [5,10,20]\n",
    "fig = plt.figure(figsize = (18, 4))\n",
    "for plot_number in range(1,4):\n",
    "    axis = fig.add_subplot(1, 3, plot_number)\n",
    "    axis.plot(n, train_down_f1[(plot_number-1)*5:plot_number*5], color = 'b', label='Training')\n",
    "    axis.plot(n, valid_down_f1[(plot_number-1)*5:plot_number*5], marker='o', linestyle='--', color='r', label='Validation')\n",
    "    axis.set_xlabel('Number of Trees')\n",
    "    axis.set_ylabel('F1-Measure')\n",
    "    axis.set_title('Depth ' + str(d[plot_number-1]))\n",
    "    axis.set_xlim(-10, 520)\n",
    "    axis.set_ylim(-0.1, 1.1)\n",
    "    if plot_number == 1:\n",
    "        axis.legend(loc=1)\n",
    "    else:\n",
    "        axis.legend(loc=4)\n",
    "plt.show()"
   ]
  },
  {
   "cell_type": "code",
   "execution_count": 302,
   "metadata": {
    "collapsed": false
   },
   "outputs": [
    {
     "data": {
      "image/png": "[encoded data removed]",
      "text/plain": [
       "<matplotlib.figure.Figure at 0x3a0d397da0>"
      ]
     },
     "metadata": {},
     "output_type": "display_data"
    }
   ],
   "source": [
    "# Stationary\n",
    "n = [10,50,100,250,500]\n",
    "d = [5,10,20]\n",
    "fig = plt.figure(figsize = (18, 4))\n",
    "for plot_number in range(1,4):\n",
    "    axis = fig.add_subplot(1, 3, plot_number)\n",
    "    axis.plot(n, train_stat_f1[(plot_number-1)*5:plot_number*5], color = 'b', label='Training')\n",
    "    axis.plot(n, valid_stat_f1[(plot_number-1)*5:plot_number*5], marker='o', linestyle='--', color='r', label='Validation')\n",
    "    axis.set_xlabel('Number of Trees')\n",
    "    axis.set_ylabel('F1-Measure')\n",
    "    axis.set_title('Depth ' + str(d[plot_number-1]))\n",
    "    axis.set_xlim(-10, 520)\n",
    "    axis.set_ylim(-0.1, 1.1)\n",
    "    if plot_number == 1:\n",
    "        axis.legend(loc=1)\n",
    "    else:\n",
    "        axis.legend(loc=4)\n",
    "plt.show()"
   ]
  },
  {
   "cell_type": "code",
   "execution_count": 345,
   "metadata": {
    "collapsed": true
   },
   "outputs": [],
   "source": [
    "first_x = train_tfm.iloc[index[0:152489]]\n",
    "test_x = train_tfm.iloc[index[152489:]]\n",
    "train_sample = general_sampling(first_x, 20000, mid=True, sample_random=True)"
   ]
  },
  {
   "cell_type": "code",
   "execution_count": 346,
   "metadata": {
    "collapsed": false
   },
   "outputs": [
    {
     "data": {
      "text/plain": [
       "(152489, 130)"
      ]
     },
     "execution_count": 346,
     "metadata": {},
     "output_type": "execute_result"
    }
   ],
   "source": [
    "first_x.shape"
   ]
  },
  {
   "cell_type": "code",
   "execution_count": 353,
   "metadata": {
    "collapsed": true
   },
   "outputs": [],
   "source": [
    "cand = RF(n_estimators=500, max_depth=20, max_features='sqrt')\n",
    "cand = cand.fit(first_x[first_x.columns[2:-2]], first_x.mid_label)\n",
    "predict = cand.predict(test_x[test_x.columns[2:-2]])\n",
    "CM = confusion_matrix(predict, test_x['mid_label'])"
   ]
  },
  {
   "cell_type": "code",
   "execution_count": 350,
   "metadata": {
    "collapsed": true
   },
   "outputs": [],
   "source": [
    "#cand = RF(n_estimators=500, max_depth=20, max_features='sqrt')\n",
    "#cand = cand.fit(train_sample[train_sample.columns[2:-2]], train_sample.mid_label)\n",
    "#predict = cand.predict(test_x[test_x.columns[2:-2]])\n",
    "#CM_1 = confusion_matrix(predict, test_x['mid_label'])"
   ]
  },
  {
   "cell_type": "code",
   "execution_count": 354,
   "metadata": {
    "collapsed": false
   },
   "outputs": [
    {
     "data": {
      "text/plain": [
       "array([[18336,  1942,   913],\n",
       "       [  539,  9224,   555],\n",
       "       [  742,  1526, 17023]])"
      ]
     },
     "execution_count": 354,
     "metadata": {},
     "output_type": "execute_result"
    }
   ],
   "source": [
    "CM"
   ]
  },
  {
   "cell_type": "code",
   "execution_count": 355,
   "metadata": {
    "collapsed": false
   },
   "outputs": [
    {
     "data": {
      "text/html": [
       "<div>\n",
       "<table border=\"1\" class=\"dataframe\">\n",
       "  <thead>\n",
       "    <tr style=\"text-align: right;\">\n",
       "      <th></th>\n",
       "      <th>Precision</th>\n",
       "      <th>Recall</th>\n",
       "      <th>F1_Measure</th>\n",
       "    </tr>\n",
       "  </thead>\n",
       "  <tbody>\n",
       "    <tr>\n",
       "      <th>Up</th>\n",
       "      <td>0.934699</td>\n",
       "      <td>0.865273</td>\n",
       "      <td>0.898647</td>\n",
       "    </tr>\n",
       "    <tr>\n",
       "      <th>Stationary</th>\n",
       "      <td>0.726757</td>\n",
       "      <td>0.893972</td>\n",
       "      <td>0.801738</td>\n",
       "    </tr>\n",
       "    <tr>\n",
       "      <th>Down</th>\n",
       "      <td>0.920610</td>\n",
       "      <td>0.882432</td>\n",
       "      <td>0.901117</td>\n",
       "    </tr>\n",
       "  </tbody>\n",
       "</table>\n",
       "</div>"
      ],
      "text/plain": [
       "            Precision    Recall  F1_Measure\n",
       "Up           0.934699  0.865273    0.898647\n",
       "Stationary   0.726757  0.893972    0.801738\n",
       "Down         0.920610  0.882432    0.901117"
      ]
     },
     "execution_count": 355,
     "metadata": {},
     "output_type": "execute_result"
    }
   ],
   "source": [
    "cal_measure(CM)"
   ]
  },
  {
   "cell_type": "code",
   "execution_count": null,
   "metadata": {
    "collapsed": true
   },
   "outputs": [],
   "source": []
  },
  {
   "cell_type": "code",
   "execution_count": 356,
   "metadata": {
    "collapsed": true
   },
   "outputs": [],
   "source": [
    "fea_imp = cand.feature_importances_"
   ]
  },
  {
   "cell_type": "code",
   "execution_count": 357,
   "metadata": {
    "collapsed": false
   },
   "outputs": [
    {
     "data": {
      "text/plain": [
       "[0.017290959491840875,\n",
       " 0.015778208332209796,\n",
       " 0.01507552825747947,\n",
       " 0.014150560488286085,\n",
       " 0.013797454806573087,\n",
       " 0.013369390209936332,\n",
       " 0.013159575354872633,\n",
       " 0.012280462710187829,\n",
       " 0.01207946218392489,\n",
       " 0.011784949298842395,\n",
       " 0.011628232392451634,\n",
       " 0.011603778667247438,\n",
       " 0.011237638650735286,\n",
       " 0.011116966704480476,\n",
       " 0.010878521114173459,\n",
       " 0.010864970728579369,\n",
       " 0.010638790621687344,\n",
       " 0.010037150822084825,\n",
       " 0.0099229568932033534,\n",
       " 0.0097469657690285715,\n",
       " 0.0096585043135393959,\n",
       " 0.0095757594918642382,\n",
       " 0.0095566657624432914,\n",
       " 0.0093621479215764448,\n",
       " 0.0092980973749949014,\n",
       " 0.0090727480762425421,\n",
       " 0.0090661649144584983,\n",
       " 0.0090244733578068795,\n",
       " 0.0088171535994552956,\n",
       " 0.0088066089408514042,\n",
       " 0.0087948164735735419,\n",
       " 0.0087698795393591177,\n",
       " 0.0087625018128972137,\n",
       " 0.0086773947962617611,\n",
       " 0.008612655926923684,\n",
       " 0.0086075360168483099,\n",
       " 0.0085688713825790505,\n",
       " 0.0085309540650785609,\n",
       " 0.0084359596541123925,\n",
       " 0.0084058655225172606,\n",
       " 0.0083976081126516909,\n",
       " 0.0083403845897303801,\n",
       " 0.008317098860502475,\n",
       " 0.0083112739821143682,\n",
       " 0.0082954291191273538,\n",
       " 0.008268953222653197,\n",
       " 0.0082624028587846496,\n",
       " 0.008212889896683848,\n",
       " 0.0080919878608557653,\n",
       " 0.0080056410797654173,\n",
       " 0.0079789715620778075,\n",
       " 0.0078584653765904379,\n",
       " 0.0078532023169432478,\n",
       " 0.0078021661358405022,\n",
       " 0.0077655113284527634,\n",
       " 0.0077617157427482672,\n",
       " 0.0077322852220386559,\n",
       " 0.0076991145052112296,\n",
       " 0.0076869592263553409,\n",
       " 0.0076768313124889733,\n",
       " 0.007644100014045677,\n",
       " 0.0075499804930441519,\n",
       " 0.0074875381663222331,\n",
       " 0.0074823767901805163,\n",
       " 0.0074807545170582782,\n",
       " 0.0074500652072984922,\n",
       " 0.0074434725567690601,\n",
       " 0.0074405518673466391,\n",
       " 0.0074217831024123351,\n",
       " 0.0073854187435570895,\n",
       " 0.0073594148133963085,\n",
       " 0.0073409109760071024,\n",
       " 0.0073115666314195532,\n",
       " 0.0072875784328679484,\n",
       " 0.0072399021881847207,\n",
       " 0.0072009960224801751,\n",
       " 0.0071330969868877532,\n",
       " 0.0070697456701314682,\n",
       " 0.0070298446479836029,\n",
       " 0.0070224322557514889,\n",
       " 0.0070089743781602629,\n",
       " 0.0069364425748196243,\n",
       " 0.0065345100154945096,\n",
       " 0.0064859623624580814,\n",
       " 0.0064841436916518915,\n",
       " 0.006475985844637662,\n",
       " 0.0063471394952428059,\n",
       " 0.0063449978166166994,\n",
       " 0.0063441049949637196,\n",
       " 0.0063129939859720569,\n",
       " 0.0062525732877804913,\n",
       " 0.0062525598928229722,\n",
       " 0.0062398674796561374,\n",
       " 0.0061258836802075053,\n",
       " 0.0061149878148256407,\n",
       " 0.0061002405636632383,\n",
       " 0.0060463227866610651,\n",
       " 0.0059960558448219408,\n",
       " 0.0059834806578469837,\n",
       " 0.0059293050750567743,\n",
       " 0.0058868245935906217,\n",
       " 0.0058750093323210869,\n",
       " 0.0058725894056544971,\n",
       " 0.0057793138078697766,\n",
       " 0.0057043573009254687,\n",
       " 0.0056836866775910695,\n",
       " 0.0056831657780545431,\n",
       " 0.0056793109948893262,\n",
       " 0.0056080503412688863,\n",
       " 0.0056073338624734537,\n",
       " 0.0055814594692584407,\n",
       " 0.0055809787375877187,\n",
       " 0.0055804241838092895,\n",
       " 0.0055752864033969977,\n",
       " 0.0055751991061097099,\n",
       " 0.0055290739603791059,\n",
       " 0.0055247397423432197,\n",
       " 0.0055065101620026917,\n",
       " 0.0054601728299270248,\n",
       " 0.005345633916441158,\n",
       " 0.0053214929639557838,\n",
       " 0.0052122744626667637,\n",
       " 0.0049180174288742714,\n",
       " 0.0046017448816819736,\n",
       " 0.0045479989634837365,\n",
       " 0.0044951136141134704]"
      ]
     },
     "execution_count": 357,
     "metadata": {},
     "output_type": "execute_result"
    }
   ],
   "source": [
    "sorted(fea_imp, reverse=True)"
   ]
  },
  {
   "cell_type": "code",
   "execution_count": 358,
   "metadata": {
    "collapsed": false
   },
   "outputs": [
    {
     "data": {
      "text/plain": [
       "Index(['ask_size1', 'size_accumulated_diff', 'mean_ask_vol', 'mean_bid_vol',\n",
       "       'bid-ask_spread1', 'bid_size1', 'ask_size_derivative1',\n",
       "       'bid_size_derivative1', 'ask_price_derivative1', 'bid_diff',\n",
       "       'bid_price_derivative1', 'ask_diff', 'bid_abs2_1',\n",
       "       'price_accumulated_diff', 'bid_price_derivative2', 'bid-ask_spread2',\n",
       "       'ask_abs2_1', 'ask_price_derivative2', 'ask_size2', 'ask_size3'],\n",
       "      dtype='object')"
      ]
     },
     "execution_count": 358,
     "metadata": {},
     "output_type": "execute_result"
    }
   ],
   "source": [
    "first_x.columns[2:-2][np.argsort(fea_imp)[::-1]][:20]"
   ]
  },
  {
   "cell_type": "code",
   "execution_count": 359,
   "metadata": {
    "collapsed": false
   },
   "outputs": [
    {
     "data": {
      "image/png": "[encoded data removed]",
      "text/plain": [
       "<matplotlib.figure.Figure at 0x3a1a48d6a0>"
      ]
     },
     "metadata": {},
     "output_type": "display_data"
    }
   ],
   "source": [
    "y=sorted(fea_imp, reverse=True)[:20]\n",
    "x=range(20)\n",
    "top_fea = list(first_x.columns[2:-2][np.argsort(fea_imp)[::-1]][:20])\n",
    "plt.figure(figsize = (12, 8))\n",
    "plt.bar(x,y)\n",
    "xx=np.arange(20)+0.5\n",
    "plt.xticks(xx, top_fea, rotation='vertical')\n",
    "plt.tick_params(labelsize=14)\n",
    "plt.title(\"Top Features for Mid-Price\", fontsize=20)\n",
    "plt.show()"
   ]
  },
  {
   "cell_type": "code",
   "execution_count": 360,
   "metadata": {
    "collapsed": true
   },
   "outputs": [],
   "source": [
    "#cand = RF(n_estimators=250, max_depth=18, max_features='sqrt')\n",
    "#cand = cand.fit(train_sample[top_fea], train_sample.mid_label)\n",
    "#predict = cand.predict(test_x[top_fea])\n",
    "#CM = confusion_matrix(predict, test_x['mid_label'])"
   ]
  },
  {
   "cell_type": "code",
   "execution_count": 363,
   "metadata": {
    "collapsed": true
   },
   "outputs": [],
   "source": [
    "cand_1 = RF(n_estimators=250, max_depth=18, max_features='sqrt')\n",
    "cand_1 = cand_1.fit(first_x[top_fea], first_x.mid_label)\n",
    "predict = cand_1.predict(test_x[top_fea])\n",
    "CM_1 = confusion_matrix(predict, test_x['mid_label'])"
   ]
  },
  {
   "cell_type": "code",
   "execution_count": 364,
   "metadata": {
    "collapsed": false
   },
   "outputs": [
    {
     "data": {
      "text/plain": [
       "array([[17998,  2278,  1417],\n",
       "       [  452,  8621,   497],\n",
       "       [ 1167,  1793, 16577]])"
      ]
     },
     "execution_count": 364,
     "metadata": {},
     "output_type": "execute_result"
    }
   ],
   "source": [
    "CM_1"
   ]
  },
  {
   "cell_type": "code",
   "execution_count": 365,
   "metadata": {
    "collapsed": false
   },
   "outputs": [
    {
     "data": {
      "text/html": [
       "<div>\n",
       "<table border=\"1\" class=\"dataframe\">\n",
       "  <thead>\n",
       "    <tr style=\"text-align: right;\">\n",
       "      <th></th>\n",
       "      <th>Precision</th>\n",
       "      <th>Recall</th>\n",
       "      <th>F1_Measure</th>\n",
       "    </tr>\n",
       "  </thead>\n",
       "  <tbody>\n",
       "    <tr>\n",
       "      <th>Up</th>\n",
       "      <td>0.917470</td>\n",
       "      <td>0.829669</td>\n",
       "      <td>0.871363</td>\n",
       "    </tr>\n",
       "    <tr>\n",
       "      <th>Stationary</th>\n",
       "      <td>0.679247</td>\n",
       "      <td>0.900836</td>\n",
       "      <td>0.774504</td>\n",
       "    </tr>\n",
       "    <tr>\n",
       "      <th>Down</th>\n",
       "      <td>0.896490</td>\n",
       "      <td>0.848493</td>\n",
       "      <td>0.871831</td>\n",
       "    </tr>\n",
       "  </tbody>\n",
       "</table>\n",
       "</div>"
      ],
      "text/plain": [
       "            Precision    Recall  F1_Measure\n",
       "Up           0.917470  0.829669    0.871363\n",
       "Stationary   0.679247  0.900836    0.774504\n",
       "Down         0.896490  0.848493    0.871831"
      ]
     },
     "execution_count": 365,
     "metadata": {},
     "output_type": "execute_result"
    }
   ],
   "source": [
    "cal_measure(CM_1)"
   ]
  },
  {
   "cell_type": "code",
   "execution_count": null,
   "metadata": {
    "collapsed": true
   },
   "outputs": [],
   "source": []
  },
  {
   "cell_type": "code",
   "execution_count": null,
   "metadata": {
    "collapsed": true
   },
   "outputs": [],
   "source": []
  },
  {
   "cell_type": "code",
   "execution_count": null,
   "metadata": {
    "collapsed": true
   },
   "outputs": [],
   "source": []
  },
  {
   "cell_type": "code",
   "execution_count": null,
   "metadata": {
    "collapsed": true
   },
   "outputs": [],
   "source": []
  },
  {
   "cell_type": "code",
   "execution_count": null,
   "metadata": {
    "collapsed": true
   },
   "outputs": [],
   "source": []
  },
  {
   "cell_type": "code",
   "execution_count": 368,
   "metadata": {
    "collapsed": false
   },
   "outputs": [],
   "source": [
    "predict = cand_1.predict(test_all[top_fea])\n",
    "CM_2 = confusion_matrix(predict, test_all['mid_label'])"
   ]
  },
  {
   "cell_type": "code",
   "execution_count": 369,
   "metadata": {
    "collapsed": false
   },
   "outputs": [
    {
     "data": {
      "text/plain": [
       "array([[18492, 14352,  9964],\n",
       "       [  866,  1425,   580],\n",
       "       [ 8323,  9451, 12794]])"
      ]
     },
     "execution_count": 369,
     "metadata": {},
     "output_type": "execute_result"
    }
   ],
   "source": [
    "CM_2"
   ]
  },
  {
   "cell_type": "code",
   "execution_count": 370,
   "metadata": {
    "collapsed": false
   },
   "outputs": [
    {
     "data": {
      "text/html": [
       "<div>\n",
       "<table border=\"1\" class=\"dataframe\">\n",
       "  <thead>\n",
       "    <tr style=\"text-align: right;\">\n",
       "      <th></th>\n",
       "      <th>Precision</th>\n",
       "      <th>Recall</th>\n",
       "      <th>F1_Measure</th>\n",
       "    </tr>\n",
       "  </thead>\n",
       "  <tbody>\n",
       "    <tr>\n",
       "      <th>Up</th>\n",
       "      <td>0.668039</td>\n",
       "      <td>0.431975</td>\n",
       "      <td>0.524678</td>\n",
       "    </tr>\n",
       "    <tr>\n",
       "      <th>Stationary</th>\n",
       "      <td>0.056485</td>\n",
       "      <td>0.496343</td>\n",
       "      <td>0.101427</td>\n",
       "    </tr>\n",
       "    <tr>\n",
       "      <th>Down</th>\n",
       "      <td>0.548205</td>\n",
       "      <td>0.418542</td>\n",
       "      <td>0.474678</td>\n",
       "    </tr>\n",
       "  </tbody>\n",
       "</table>\n",
       "</div>"
      ],
      "text/plain": [
       "            Precision    Recall  F1_Measure\n",
       "Up           0.668039  0.431975    0.524678\n",
       "Stationary   0.056485  0.496343    0.101427\n",
       "Down         0.548205  0.418542    0.474678"
      ]
     },
     "execution_count": 370,
     "metadata": {},
     "output_type": "execute_result"
    }
   ],
   "source": [
    "cal_measure(CM_2)"
   ]
  },
  {
   "cell_type": "code",
   "execution_count": null,
   "metadata": {
    "collapsed": true
   },
   "outputs": [],
   "source": []
  },
  {
   "cell_type": "code",
   "execution_count": null,
   "metadata": {
    "collapsed": true
   },
   "outputs": [],
   "source": []
  },
  {
   "cell_type": "code",
   "execution_count": null,
   "metadata": {
    "collapsed": true
   },
   "outputs": [],
   "source": []
  },
  {
   "cell_type": "code",
   "execution_count": null,
   "metadata": {
    "collapsed": true
   },
   "outputs": [],
   "source": []
  },
  {
   "cell_type": "code",
   "execution_count": null,
   "metadata": {
    "collapsed": true
   },
   "outputs": [],
   "source": []
  },
  {
   "cell_type": "markdown",
   "metadata": {},
   "source": [
    "### Spread-Crossing Based Model Fitting"
   ]
  },
  {
   "cell_type": "markdown",
   "metadata": {},
   "source": [
    "Sample from the training and validation set."
   ]
  },
  {
   "cell_type": "code",
   "execution_count": 568,
   "metadata": {
    "collapsed": false
   },
   "outputs": [
    {
     "data": {
      "text/plain": [
       "(101659, 130)"
      ]
     },
     "execution_count": 568,
     "metadata": {},
     "output_type": "execute_result"
    }
   ],
   "source": [
    "train_x.shape"
   ]
  },
  {
   "cell_type": "code",
   "execution_count": 409,
   "metadata": {
    "collapsed": false
   },
   "outputs": [],
   "source": [
    "train_sample = general_sampling(train_x, 10000, mid=False, up_prob=0.1,down_prob=0.1)\n",
    "valid_sample = general_sampling(validation_x, 10000, mid=False, sample_random=True)"
   ]
  },
  {
   "cell_type": "code",
   "execution_count": 125,
   "metadata": {
    "collapsed": false
   },
   "outputs": [
    {
     "data": {
      "text/plain": [
       "Index(['mid_label', 'spread_label'], dtype='object')"
      ]
     },
     "execution_count": 125,
     "metadata": {},
     "output_type": "execute_result"
    }
   ],
   "source": [
    "train_sample.columns[-2:]"
   ]
  },
  {
   "cell_type": "code",
   "execution_count": 410,
   "metadata": {
    "collapsed": false
   },
   "outputs": [
    {
     "data": {
      "text/plain": [
       "stationary    8000\n",
       "up            1000\n",
       "down          1000\n",
       "dtype: int64"
      ]
     },
     "execution_count": 410,
     "metadata": {},
     "output_type": "execute_result"
    }
   ],
   "source": [
    "train_sample.spread_label.value_counts()"
   ]
  },
  {
   "cell_type": "markdown",
   "metadata": {},
   "source": [
    "#### Random Forest"
   ]
  },
  {
   "cell_type": "code",
   "execution_count": 411,
   "metadata": {
    "collapsed": false
   },
   "outputs": [
    {
     "name": "stdout",
     "output_type": "stream",
     "text": [
      "(10, 5)\n",
      "(50, 5)\n",
      "(100, 5)\n",
      "(250, 5)\n",
      "(500, 5)\n",
      "(10, 10)\n",
      "(50, 10)\n",
      "(100, 10)\n",
      "(250, 10)\n",
      "(500, 10)\n",
      "(10, 20)\n",
      "(50, 20)\n",
      "(100, 20)\n",
      "(250, 20)\n",
      "(500, 20)\n"
     ]
    }
   ],
   "source": [
    "train_accmat = []\n",
    "valid_accmat = []\n",
    "for d in [5,10,20]:\n",
    "    for n in [10,50,100,250,500]:\n",
    "        cand = RF(n_estimators=n, max_depth=d, max_features='sqrt')\n",
    "        cand = cand.fit(train_sample[train_sample.columns[2:-2]], train_sample.spread_label)\n",
    "        predict_train = cand.predict(train_sample[train_sample.columns[2:-2]])\n",
    "        CM_train = confusion_matrix(predict_train, train_sample['spread_label'])\n",
    "        predict_valid = cand.predict(valid_sample[valid_sample.columns[2:-2]])\n",
    "        CM_valid = confusion_matrix(predict_valid, valid_sample['spread_label'])\n",
    "        train_accmat.append(cal_measure(CM_train))\n",
    "        valid_accmat.append(cal_measure(CM_valid))\n",
    "        print((n,d))"
   ]
  },
  {
   "cell_type": "code",
   "execution_count": 412,
   "metadata": {
    "collapsed": true
   },
   "outputs": [],
   "source": [
    "valid_up_f1 = [pd.ix['Up']['F1_Measure'] for pd in valid_accmat]\n",
    "valid_down_f1 = [pd.ix['Down']['F1_Measure'] for pd in valid_accmat]\n",
    "valid_stat_f1 = [pd.ix['Stationary']['F1_Measure'] for pd in valid_accmat]"
   ]
  },
  {
   "cell_type": "code",
   "execution_count": 413,
   "metadata": {
    "collapsed": false
   },
   "outputs": [],
   "source": [
    "train_up_f1 = [pd.ix['Up']['F1_Measure'] for pd in train_accmat]\n",
    "train_down_f1 = [pd.ix['Down']['F1_Measure'] for pd in train_accmat]\n",
    "train_stat_f1 = [pd.ix['Stationary']['F1_Measure'] for pd in train_accmat]"
   ]
  },
  {
   "cell_type": "code",
   "execution_count": 97,
   "metadata": {
    "collapsed": false
   },
   "outputs": [],
   "source": [
    "v=valid_accmat"
   ]
  },
  {
   "cell_type": "code",
   "execution_count": 138,
   "metadata": {
    "collapsed": false
   },
   "outputs": [],
   "source": [
    "#valid_accmat"
   ]
  },
  {
   "cell_type": "code",
   "execution_count": null,
   "metadata": {
    "collapsed": true
   },
   "outputs": [],
   "source": []
  },
  {
   "cell_type": "code",
   "execution_count": 414,
   "metadata": {
    "collapsed": false,
    "scrolled": true
   },
   "outputs": [
    {
     "data": {
      "image/png": "[encoded data removed]",
      "text/plain": [
       "<matplotlib.figure.Figure at 0x3a048b8080>"
      ]
     },
     "metadata": {},
     "output_type": "display_data"
    }
   ],
   "source": [
    "# Up\n",
    "n = [10,50,100,250,500]\n",
    "d = [5,10,20]\n",
    "fig = plt.figure(figsize = (18,4))\n",
    "for plot_number in range(1,4):\n",
    "    axis = fig.add_subplot(1, 3, plot_number)\n",
    "    axis.plot(n, train_up_f1[(plot_number-1)*5:plot_number*5], color = 'b', label='Training')\n",
    "    axis.plot(n, valid_up_f1[(plot_number-1)*5:plot_number*5], marker='o', linestyle='--', color='r', label='Validation')\n",
    "    axis.set_xlabel('Number of Trees')\n",
    "    axis.set_ylabel('F1-Measure')\n",
    "    axis.set_title('Depth ' + str(d[plot_number-1]))\n",
    "    axis.set_xlim(-10, 520)\n",
    "    axis.set_ylim(-0.1, 1.1)\n",
    "    if plot_number == 1:\n",
    "        axis.legend(loc=1)\n",
    "    else:\n",
    "        axis.legend(loc=4)\n",
    "plt.show()"
   ]
  },
  {
   "cell_type": "code",
   "execution_count": 415,
   "metadata": {
    "collapsed": false
   },
   "outputs": [
    {
     "data": {
      "image/png": "[encoded data removed]",
      "text/plain": [
       "<matplotlib.figure.Figure at 0x3a0481cef0>"
      ]
     },
     "metadata": {},
     "output_type": "display_data"
    }
   ],
   "source": [
    "# Down\n",
    "n = [10,50,100,250,500]\n",
    "d = [5,10,20]\n",
    "fig = plt.figure(figsize = (18, 4))\n",
    "for plot_number in range(1,4):\n",
    "    axis = fig.add_subplot(1, 3, plot_number)\n",
    "    axis.plot(n, train_down_f1[(plot_number-1)*5:plot_number*5], color = 'b', label='Training')\n",
    "    axis.plot(n, valid_down_f1[(plot_number-1)*5:plot_number*5], marker='o', linestyle='--', color='r', label='Validation')\n",
    "    axis.set_xlabel('Number of Trees')\n",
    "    axis.set_ylabel('F1-Measure')\n",
    "    axis.set_title('Depth ' + str(d[plot_number-1]))\n",
    "    axis.set_xlim(-10, 520)\n",
    "    axis.set_ylim(-0.1, 1.1)\n",
    "    if plot_number == 1:\n",
    "        axis.legend(loc=1)\n",
    "    else:\n",
    "        axis.legend(loc=4)\n",
    "plt.show()"
   ]
  },
  {
   "cell_type": "code",
   "execution_count": 416,
   "metadata": {
    "collapsed": false
   },
   "outputs": [
    {
     "data": {
      "image/png": "[encoded data removed]",
      "text/plain": [
       "<matplotlib.figure.Figure at 0x3a043f5b70>"
      ]
     },
     "metadata": {},
     "output_type": "display_data"
    }
   ],
   "source": [
    "# Stationary\n",
    "n = [10,50,100,250,500]\n",
    "d = [5,10,20]\n",
    "fig = plt.figure(figsize = (18, 4))\n",
    "for plot_number in range(1,4):\n",
    "    axis = fig.add_subplot(1, 3, plot_number)\n",
    "    axis.plot(n, train_stat_f1[(plot_number-1)*5:plot_number*5], color = 'b', label='Training')\n",
    "    axis.plot(n, valid_stat_f1[(plot_number-1)*5:plot_number*5], marker='o', linestyle='--', color='r', label='Validation')\n",
    "    axis.set_xlabel('Number of Trees')\n",
    "    axis.set_ylabel('F1-Measure')\n",
    "    axis.set_title('Depth ' + str(d[plot_number-1]))\n",
    "    axis.set_xlim(-10, 520)\n",
    "    axis.set_ylim(-0.1, 1.1)\n",
    "    axis.legend(loc=4)\n",
    "plt.show()"
   ]
  },
  {
   "cell_type": "code",
   "execution_count": 569,
   "metadata": {
    "collapsed": false
   },
   "outputs": [
    {
     "data": {
      "text/plain": [
       "152489"
      ]
     },
     "execution_count": 569,
     "metadata": {},
     "output_type": "execute_result"
    }
   ],
   "source": [
    "first_x = train_tfm.iloc[index[0:152489]]\n",
    "first_x.shape[0]"
   ]
  },
  {
   "cell_type": "code",
   "execution_count": 570,
   "metadata": {
    "collapsed": true
   },
   "outputs": [],
   "source": [
    "first_x = train_tfm.iloc[index[0:152489]]\n",
    "test_x = train_tfm.iloc[index[152489:]]\n",
    "train_sample = general_sampling(first_x, first_x.shape[0], mid=False, up_prob=0.1,down_prob=0.1)"
   ]
  },
  {
   "cell_type": "code",
   "execution_count": 571,
   "metadata": {
    "collapsed": true
   },
   "outputs": [],
   "source": [
    "cand = RF(n_estimators=250, max_depth=20, max_features='sqrt')\n",
    "cand = cand.fit(train_sample[train_sample.columns[2:-2]], train_sample.spread_label)\n",
    "predict = cand.predict(test_x[test_x.columns[2:-2]])\n",
    "CM = confusion_matrix(predict, test_x['spread_label'])"
   ]
  },
  {
   "cell_type": "code",
   "execution_count": 572,
   "metadata": {
    "collapsed": false
   },
   "outputs": [
    {
     "data": {
      "text/plain": [
       "array([[  396,    82,     0],\n",
       "       [  147, 49666,   136],\n",
       "       [    0,    78,   295]])"
      ]
     },
     "execution_count": 572,
     "metadata": {},
     "output_type": "execute_result"
    }
   ],
   "source": [
    "CM"
   ]
  },
  {
   "cell_type": "code",
   "execution_count": 573,
   "metadata": {
    "collapsed": false
   },
   "outputs": [
    {
     "data": {
      "text/html": [
       "<div>\n",
       "<table border=\"1\" class=\"dataframe\">\n",
       "  <thead>\n",
       "    <tr style=\"text-align: right;\">\n",
       "      <th></th>\n",
       "      <th>Precision</th>\n",
       "      <th>Recall</th>\n",
       "      <th>F1_Measure</th>\n",
       "    </tr>\n",
       "  </thead>\n",
       "  <tbody>\n",
       "    <tr>\n",
       "      <th>Up</th>\n",
       "      <td>0.729282</td>\n",
       "      <td>0.828452</td>\n",
       "      <td>0.775710</td>\n",
       "    </tr>\n",
       "    <tr>\n",
       "      <th>Stationary</th>\n",
       "      <td>0.996789</td>\n",
       "      <td>0.994334</td>\n",
       "      <td>0.995560</td>\n",
       "    </tr>\n",
       "    <tr>\n",
       "      <th>Down</th>\n",
       "      <td>0.684455</td>\n",
       "      <td>0.790885</td>\n",
       "      <td>0.733831</td>\n",
       "    </tr>\n",
       "  </tbody>\n",
       "</table>\n",
       "</div>"
      ],
      "text/plain": [
       "            Precision    Recall  F1_Measure\n",
       "Up           0.729282  0.828452    0.775710\n",
       "Stationary   0.996789  0.994334    0.995560\n",
       "Down         0.684455  0.790885    0.733831"
      ]
     },
     "execution_count": 573,
     "metadata": {},
     "output_type": "execute_result"
    }
   ],
   "source": [
    "cal_measure(CM)"
   ]
  },
  {
   "cell_type": "code",
   "execution_count": 422,
   "metadata": {
    "collapsed": true
   },
   "outputs": [],
   "source": [
    "fea_imp = cand.feature_importances_"
   ]
  },
  {
   "cell_type": "code",
   "execution_count": 423,
   "metadata": {
    "collapsed": false
   },
   "outputs": [
    {
     "data": {
      "text/plain": [
       "[0.063780493402700769,\n",
       " 0.036283094932124331,\n",
       " 0.024857869027805048,\n",
       " 0.016967266228427452,\n",
       " 0.01525304368435385,\n",
       " 0.014752404278535481,\n",
       " 0.014086492396732793,\n",
       " 0.01378214180354548,\n",
       " 0.0131125848637251,\n",
       " 0.01178640396946435,\n",
       " 0.01147745098713138,\n",
       " 0.010982311983394843,\n",
       " 0.010576408793911633,\n",
       " 0.010325637005850298,\n",
       " 0.010258223011371194,\n",
       " 0.010109764387005445,\n",
       " 0.0098914278947860781,\n",
       " 0.0098369752103771215,\n",
       " 0.0098169587193271471,\n",
       " 0.0096656094028316954,\n",
       " 0.0096192283880022229,\n",
       " 0.0095610010060601918,\n",
       " 0.0095027057287124309,\n",
       " 0.0094352566234470053,\n",
       " 0.0093313165243154167,\n",
       " 0.008882472004321346,\n",
       " 0.0088519043587814532,\n",
       " 0.0084416855677237508,\n",
       " 0.0083207907354071863,\n",
       " 0.0082427999580032083,\n",
       " 0.0081399035562233248,\n",
       " 0.0080845138825011952,\n",
       " 0.0079474034445578996,\n",
       " 0.0079455370503487971,\n",
       " 0.0079054818918123729,\n",
       " 0.0078949927503105914,\n",
       " 0.0078639006765548192,\n",
       " 0.0077842981300115166,\n",
       " 0.0076620074733368179,\n",
       " 0.0075536933236495189,\n",
       " 0.0075155069952953374,\n",
       " 0.0074220971333063138,\n",
       " 0.0074115450835872745,\n",
       " 0.0073829403199190341,\n",
       " 0.0073139725917884769,\n",
       " 0.0072874268573500716,\n",
       " 0.0071977606504273163,\n",
       " 0.0071338130435629641,\n",
       " 0.0070784136508258285,\n",
       " 0.0070614533359826589,\n",
       " 0.0070276812825550072,\n",
       " 0.0070222768470996838,\n",
       " 0.0068732851773341411,\n",
       " 0.0068409327142311856,\n",
       " 0.0068368062226080075,\n",
       " 0.0067896602500314386,\n",
       " 0.0067483203879429281,\n",
       " 0.0066814290837373816,\n",
       " 0.0066730554547608711,\n",
       " 0.0065567686458605171,\n",
       " 0.0065386180284852033,\n",
       " 0.0065235948568457902,\n",
       " 0.006475681809126819,\n",
       " 0.0064564260980095938,\n",
       " 0.0064364940242820981,\n",
       " 0.0064270309583693581,\n",
       " 0.0063806948458771046,\n",
       " 0.0063701792556706081,\n",
       " 0.0063473167379290776,\n",
       " 0.0062077318117670669,\n",
       " 0.0061899283771561699,\n",
       " 0.0061699418283427624,\n",
       " 0.0059925963989637529,\n",
       " 0.0059886478036220306,\n",
       " 0.0059838012408393575,\n",
       " 0.0059640236784554296,\n",
       " 0.0059428600918489654,\n",
       " 0.0059364161329025543,\n",
       " 0.0059281083754360187,\n",
       " 0.0059038056277746229,\n",
       " 0.0058810988347413563,\n",
       " 0.0058640773159286024,\n",
       " 0.0058255416085416971,\n",
       " 0.0058253518447713018,\n",
       " 0.0057346115823450599,\n",
       " 0.0057318125531007824,\n",
       " 0.0057071028577395395,\n",
       " 0.0056996884828178487,\n",
       " 0.0056840833288718164,\n",
       " 0.0056388239132519344,\n",
       " 0.0056379239698984927,\n",
       " 0.0056366401669214854,\n",
       " 0.0056255005520082554,\n",
       " 0.0056005044525954334,\n",
       " 0.0054894313445578409,\n",
       " 0.0054652833553788874,\n",
       " 0.0054587019569416065,\n",
       " 0.0054247671818540783,\n",
       " 0.0053964159117865437,\n",
       " 0.0053475118308464031,\n",
       " 0.0053083581499647984,\n",
       " 0.0052585009549511825,\n",
       " 0.0052495505149604818,\n",
       " 0.0052252975033444888,\n",
       " 0.0051918247541203021,\n",
       " 0.0051593664899936206,\n",
       " 0.0051228334530745868,\n",
       " 0.005110385433600699,\n",
       " 0.0050113855615461014,\n",
       " 0.0050030774048769808,\n",
       " 0.0050014640620740453,\n",
       " 0.0048932865943457169,\n",
       " 0.0048857313273936867,\n",
       " 0.0048816668871046265,\n",
       " 0.0048490784461283519,\n",
       " 0.0048412338137156343,\n",
       " 0.0048215477809770858,\n",
       " 0.0048119857243323011,\n",
       " 0.0047909002349490332,\n",
       " 0.004782802957836875,\n",
       " 0.0047446187835294869,\n",
       " 0.004515232019446723,\n",
       " 0.0045087152058360669,\n",
       " 0.0043948154389686234,\n",
       " 0.0037523657807228654,\n",
       " 0.0036166029099133309]"
      ]
     },
     "execution_count": 423,
     "metadata": {},
     "output_type": "execute_result"
    }
   ],
   "source": [
    "sorted(fea_imp, reverse=True)"
   ]
  },
  {
   "cell_type": "code",
   "execution_count": 424,
   "metadata": {
    "collapsed": false
   },
   "outputs": [
    {
     "data": {
      "text/plain": [
       "Index(['bid-ask_spread1', 'bid-ask_spread2', 'bid-ask_spread3',\n",
       "       'price_accumulated_diff', 'mean_ask_vol', 'ask_diff', 'bid-ask_spread4',\n",
       "       'bid_diff', 'size_accumulated_diff', 'ask_size_derivative1',\n",
       "       'mean_bid_vol', 'bid_abs2_1', 'bid-ask_spread8',\n",
       "       'ask_price_derivative1', 'ask_size2', 'ask_size5', 'bid-ask_spread6',\n",
       "       'bid-ask_spread5', 'bid-ask_spread9', 'ask_abs2_1'],\n",
       "      dtype='object')"
      ]
     },
     "execution_count": 424,
     "metadata": {},
     "output_type": "execute_result"
    }
   ],
   "source": [
    "train_sample.columns[2:-2][np.argsort(fea_imp)[::-1]][:20]"
   ]
  },
  {
   "cell_type": "code",
   "execution_count": 178,
   "metadata": {
    "collapsed": false
   },
   "outputs": [],
   "source": [
    "#top_fea"
   ]
  },
  {
   "cell_type": "code",
   "execution_count": 425,
   "metadata": {
    "collapsed": false
   },
   "outputs": [
    {
     "data": {
      "image/png": "[encoded data removed]",
      "text/plain": [
       "<matplotlib.figure.Figure at 0x3a1a911d30>"
      ]
     },
     "metadata": {},
     "output_type": "display_data"
    }
   ],
   "source": [
    "y=sorted(fea_imp, reverse=True)[:20]\n",
    "x=range(20)\n",
    "top_fea = list(train_sample.columns[2:-2][np.argsort(fea_imp)[::-1]][:20])\n",
    "plt.figure(figsize = (12, 8))\n",
    "plt.bar(x,y)\n",
    "xx=np.arange(20)+0.5\n",
    "plt.xticks(xx, top_fea, rotation='vertical')\n",
    "plt.tick_params(labelsize=14)\n",
    "plt.title(\"Top Features for Spread-Crossing\", fontsize=20)\n",
    "plt.show()"
   ]
  },
  {
   "cell_type": "code",
   "execution_count": 426,
   "metadata": {
    "collapsed": true
   },
   "outputs": [],
   "source": [
    "cand = RF(n_estimators=100, max_depth=18, max_features='sqrt')\n",
    "cand = cand.fit(train_sample[top_fea], train_sample.spread_label)\n",
    "predict = cand.predict(test_x[top_fea])\n",
    "CM = confusion_matrix(predict, test_x['spread_label'])"
   ]
  },
  {
   "cell_type": "code",
   "execution_count": 429,
   "metadata": {
    "collapsed": false
   },
   "outputs": [
    {
     "data": {
      "text/plain": [
       "array([[  394,    96,     0],\n",
       "       [  149, 49645,   133],\n",
       "       [    0,    85,   298]])"
      ]
     },
     "execution_count": 429,
     "metadata": {},
     "output_type": "execute_result"
    }
   ],
   "source": [
    "CM"
   ]
  },
  {
   "cell_type": "code",
   "execution_count": 428,
   "metadata": {
    "collapsed": false
   },
   "outputs": [
    {
     "data": {
      "text/html": [
       "<div>\n",
       "<table border=\"1\" class=\"dataframe\">\n",
       "  <thead>\n",
       "    <tr style=\"text-align: right;\">\n",
       "      <th></th>\n",
       "      <th>Precision</th>\n",
       "      <th>Recall</th>\n",
       "      <th>F1_Measure</th>\n",
       "    </tr>\n",
       "  </thead>\n",
       "  <tbody>\n",
       "    <tr>\n",
       "      <th>Up</th>\n",
       "      <td>0.725599</td>\n",
       "      <td>0.804082</td>\n",
       "      <td>0.762827</td>\n",
       "    </tr>\n",
       "    <tr>\n",
       "      <th>Stationary</th>\n",
       "      <td>0.996367</td>\n",
       "      <td>0.994352</td>\n",
       "      <td>0.995359</td>\n",
       "    </tr>\n",
       "    <tr>\n",
       "      <th>Down</th>\n",
       "      <td>0.691415</td>\n",
       "      <td>0.778068</td>\n",
       "      <td>0.732187</td>\n",
       "    </tr>\n",
       "  </tbody>\n",
       "</table>\n",
       "</div>"
      ],
      "text/plain": [
       "            Precision    Recall  F1_Measure\n",
       "Up           0.725599  0.804082    0.762827\n",
       "Stationary   0.996367  0.994352    0.995359\n",
       "Down         0.691415  0.778068    0.732187"
      ]
     },
     "execution_count": 428,
     "metadata": {},
     "output_type": "execute_result"
    }
   ],
   "source": [
    "cal_measure(CM)"
   ]
  },
  {
   "cell_type": "code",
   "execution_count": null,
   "metadata": {
    "collapsed": true
   },
   "outputs": [],
   "source": []
  },
  {
   "cell_type": "code",
   "execution_count": 431,
   "metadata": {
    "collapsed": true
   },
   "outputs": [],
   "source": [
    "predict = cand.predict(test_all[top_fea])\n",
    "CM_1 = confusion_matrix(predict, test_all['spread_label'])"
   ]
  },
  {
   "cell_type": "code",
   "execution_count": 432,
   "metadata": {
    "collapsed": false
   },
   "outputs": [
    {
     "data": {
      "text/plain": [
       "array([[    0,     0,     0],\n",
       "       [  349, 75573,   325],\n",
       "       [    0,     0,     0]])"
      ]
     },
     "execution_count": 432,
     "metadata": {},
     "output_type": "execute_result"
    }
   ],
   "source": [
    "CM_1"
   ]
  },
  {
   "cell_type": "code",
   "execution_count": null,
   "metadata": {
    "collapsed": true
   },
   "outputs": [],
   "source": []
  },
  {
   "cell_type": "code",
   "execution_count": null,
   "metadata": {
    "collapsed": true
   },
   "outputs": [],
   "source": []
  },
  {
   "cell_type": "code",
   "execution_count": null,
   "metadata": {
    "collapsed": true
   },
   "outputs": [],
   "source": []
  },
  {
   "cell_type": "code",
   "execution_count": null,
   "metadata": {
    "collapsed": true
   },
   "outputs": [],
   "source": []
  },
  {
   "cell_type": "code",
   "execution_count": null,
   "metadata": {
    "collapsed": true
   },
   "outputs": [],
   "source": []
  },
  {
   "cell_type": "code",
   "execution_count": null,
   "metadata": {
    "collapsed": true
   },
   "outputs": [],
   "source": []
  },
  {
   "cell_type": "code",
   "execution_count": null,
   "metadata": {
    "collapsed": true
   },
   "outputs": [],
   "source": []
  },
  {
   "cell_type": "code",
   "execution_count": null,
   "metadata": {
    "collapsed": true
   },
   "outputs": [],
   "source": []
  },
  {
   "cell_type": "code",
   "execution_count": null,
   "metadata": {
    "collapsed": true
   },
   "outputs": [],
   "source": []
  },
  {
   "cell_type": "markdown",
   "metadata": {},
   "source": [
    "***split data again to 10:30 and 11:00***"
   ]
  },
  {
   "cell_type": "code",
   "execution_count": 574,
   "metadata": {
    "collapsed": false
   },
   "outputs": [],
   "source": [
    "time = np.array([datetime.strptime(time, \"%Y/%m/%d %H:%M:%S.%f\") for time in data_raw['Time']])\n",
    "before_11 = data_raw.iloc[time < datetime(2012, 5, 22, 11, 0)]\n",
    "time = np.array([datetime.strptime(time, \"%Y/%m/%d %H:%M:%S.%f\") for time in before_11['Time']])\n",
    "before_11 = before_11.iloc[time >= datetime(2012, 5, 22, 10, 30)]"
   ]
  },
  {
   "cell_type": "code",
   "execution_count": 575,
   "metadata": {
    "collapsed": false
   },
   "outputs": [
    {
     "data": {
      "text/plain": [
       "(59061, 62)"
      ]
     },
     "execution_count": 575,
     "metadata": {},
     "output_type": "execute_result"
    }
   ],
   "source": [
    "before_11.shape\n",
    "#test_all.shape"
   ]
  },
  {
   "cell_type": "code",
   "execution_count": 576,
   "metadata": {
    "collapsed": true
   },
   "outputs": [],
   "source": [
    "before_11_tfm = transform_data(before_11, delta_t = 30)"
   ]
  },
  {
   "cell_type": "code",
   "execution_count": 577,
   "metadata": {
    "collapsed": false
   },
   "outputs": [
    {
     "data": {
      "text/plain": [
       "(59031, 128)"
      ]
     },
     "execution_count": 577,
     "metadata": {},
     "output_type": "execute_result"
    }
   ],
   "source": [
    "before_11_tfm.shape"
   ]
  },
  {
   "cell_type": "code",
   "execution_count": 578,
   "metadata": {
    "collapsed": false
   },
   "outputs": [
    {
     "data": {
      "text/plain": [
       "(59001, 130)"
      ]
     },
     "execution_count": 578,
     "metadata": {},
     "output_type": "execute_result"
    }
   ],
   "source": [
    "before_11_x = create_label(before_11_tfm, 30)\n",
    "before_11_x.shape"
   ]
  },
  {
   "cell_type": "code",
   "execution_count": 580,
   "metadata": {
    "collapsed": false
   },
   "outputs": [
    {
     "data": {
      "text/plain": [
       "stationary    58244\n",
       "up              388\n",
       "down            369\n",
       "dtype: int64"
      ]
     },
     "execution_count": 580,
     "metadata": {},
     "output_type": "execute_result"
    }
   ],
   "source": [
    "before_11_x.spread_label.value_counts()"
   ]
  },
  {
   "cell_type": "code",
   "execution_count": 521,
   "metadata": {
    "collapsed": false
   },
   "outputs": [],
   "source": [
    "train_sample = general_sampling(before_11_x, 10000, mid=False, up_prob=0.1,down_prob=0.1)\n",
    "valid_sample = general_sampling(test_all, 10000, mid=False, sample_random=True)"
   ]
  },
  {
   "cell_type": "code",
   "execution_count": 522,
   "metadata": {
    "collapsed": false
   },
   "outputs": [
    {
     "name": "stdout",
     "output_type": "stream",
     "text": [
      "(10, 5)\n",
      "(50, 5)\n",
      "(100, 5)\n",
      "(250, 5)\n",
      "(500, 5)\n",
      "(10, 10)\n",
      "(50, 10)\n",
      "(100, 10)\n",
      "(250, 10)\n",
      "(500, 10)\n",
      "(10, 20)\n",
      "(50, 20)\n",
      "(100, 20)\n",
      "(250, 20)\n",
      "(500, 20)\n"
     ]
    }
   ],
   "source": [
    "train_accmat = []\n",
    "valid_accmat = []\n",
    "for d in [5,10,20]:\n",
    "    for n in [10,50,100,250,500]:\n",
    "        cand = RF(n_estimators=n, max_depth=d, max_features='sqrt')\n",
    "        cand = cand.fit(train_sample[train_sample.columns[2:-2]], train_sample.spread_label)\n",
    "        predict_train = cand.predict(train_sample[train_sample.columns[2:-2]])\n",
    "        CM_train = confusion_matrix(predict_train, train_sample['spread_label'])\n",
    "        predict_valid = cand.predict(valid_sample[valid_sample.columns[2:-2]])\n",
    "        CM_valid = confusion_matrix(predict_valid, valid_sample['spread_label'])\n",
    "        train_accmat.append(cal_measure(CM_train))\n",
    "        valid_accmat.append(cal_measure(CM_valid))\n",
    "        print((n,d))"
   ]
  },
  {
   "cell_type": "code",
   "execution_count": 523,
   "metadata": {
    "collapsed": true
   },
   "outputs": [],
   "source": [
    "valid_up_f1 = [pd.ix['Up']['Recall'] for pd in valid_accmat]\n",
    "valid_down_f1 = [pd.ix['Down']['Recall'] for pd in valid_accmat]\n",
    "valid_stat_f1 = [pd.ix['Stationary']['Recall'] for pd in valid_accmat]"
   ]
  },
  {
   "cell_type": "code",
   "execution_count": 524,
   "metadata": {
    "collapsed": true
   },
   "outputs": [],
   "source": [
    "train_up_f1 = [pd.ix['Up']['Recall'] for pd in train_accmat]\n",
    "train_down_f1 = [pd.ix['Down']['Recall'] for pd in train_accmat]\n",
    "train_stat_f1 = [pd.ix['Stationary']['Recall'] for pd in train_accmat]"
   ]
  },
  {
   "cell_type": "code",
   "execution_count": 525,
   "metadata": {
    "collapsed": false
   },
   "outputs": [
    {
     "data": {
      "text/plain": [
       "[            Precision    Recall  F1_Measure\n",
       " Up           0.000000  0.000000         NaN\n",
       " Stationary   0.998886  0.987787    0.993305\n",
       " Down         0.000000  0.000000         NaN,\n",
       "             Precision  Recall  F1_Measure\n",
       " Up                  0     NaN         NaN\n",
       " Stationary          1  0.9878    0.993863\n",
       " Down                0     NaN         NaN,\n",
       "             Precision  Recall  F1_Measure\n",
       " Up                  0     NaN         NaN\n",
       " Stationary          1  0.9878    0.993863\n",
       " Down                0     NaN         NaN,\n",
       "             Precision  Recall  F1_Measure\n",
       " Up                  0     NaN         NaN\n",
       " Stationary          1  0.9878    0.993863\n",
       " Down                0     NaN         NaN,\n",
       "             Precision  Recall  F1_Measure\n",
       " Up                  0     NaN         NaN\n",
       " Stationary          1  0.9878    0.993863\n",
       " Down                0     NaN         NaN,\n",
       "             Precision    Recall  F1_Measure\n",
       " Up           0.000000       NaN         NaN\n",
       " Stationary   0.999696  0.987796    0.993711\n",
       " Down         0.000000  0.000000         NaN,\n",
       "             Precision  Recall  F1_Measure\n",
       " Up                  0     NaN         NaN\n",
       " Stationary          1  0.9878    0.993863\n",
       " Down                0     NaN         NaN,\n",
       "             Precision    Recall  F1_Measure\n",
       " Up                  0       NaN         NaN\n",
       " Stationary          1  0.987998    0.993963\n",
       " Down                0  0.000000         NaN,\n",
       "             Precision  Recall  F1_Measure\n",
       " Up                  0     NaN         NaN\n",
       " Stationary          1  0.9878    0.993863\n",
       " Down                0     NaN         NaN,\n",
       "             Precision  Recall  F1_Measure\n",
       " Up                  0     NaN         NaN\n",
       " Stationary          1  0.9878    0.993863\n",
       " Down                0     NaN         NaN,\n",
       "             Precision    Recall  F1_Measure\n",
       " Up           0.000000  0.000000         NaN\n",
       " Stationary   0.998077  0.987777      0.9929\n",
       " Down         0.000000  0.000000         NaN,\n",
       "             Precision    Recall  F1_Measure\n",
       " Up                  0       NaN         NaN\n",
       " Stationary          1  0.987998    0.993963\n",
       " Down                0  0.000000         NaN,\n",
       "             Precision  Recall  F1_Measure\n",
       " Up                  0     NaN         NaN\n",
       " Stationary          1  0.9878    0.993863\n",
       " Down                0     NaN         NaN,\n",
       "             Precision  Recall  F1_Measure\n",
       " Up                  0     NaN         NaN\n",
       " Stationary          1  0.9878    0.993863\n",
       " Down                0     NaN         NaN,\n",
       "             Precision  Recall  F1_Measure\n",
       " Up                  0     NaN         NaN\n",
       " Stationary          1  0.9878    0.993863\n",
       " Down                0     NaN         NaN]"
      ]
     },
     "execution_count": 525,
     "metadata": {},
     "output_type": "execute_result"
    }
   ],
   "source": [
    "valid_accmat"
   ]
  },
  {
   "cell_type": "code",
   "execution_count": 528,
   "metadata": {
    "collapsed": false
   },
   "outputs": [
    {
     "data": {
      "image/png": "[encoded data removed]",
      "text/plain": [
       "<matplotlib.figure.Figure at 0x3a1a92fd30>"
      ]
     },
     "metadata": {},
     "output_type": "display_data"
    }
   ],
   "source": [
    "# Up\n",
    "n = [10,50,100,250,500]\n",
    "d = [5,10,20]\n",
    "fig = plt.figure(figsize = (18,4))\n",
    "for plot_number in range(1,4):\n",
    "    axis = fig.add_subplot(1, 3, plot_number)\n",
    "    axis.plot(n, train_stat_f1[(plot_number-1)*5:plot_number*5], color = 'b', label='Training')\n",
    "    axis.plot(n, valid_stat_f1[(plot_number-1)*5:plot_number*5], marker='o', linestyle='--', color='r', label='Validation')\n",
    "    axis.set_xlabel('Number of Trees')\n",
    "    axis.set_ylabel('F1-Measure')\n",
    "    axis.set_title('Depth ' + str(d[plot_number-1]))\n",
    "    axis.set_xlim(-10, 520)\n",
    "    axis.set_ylim(-0.1, 1.1)\n",
    "    if plot_number == 1:\n",
    "        axis.legend(loc=1)\n",
    "    else:\n",
    "        axis.legend(loc=4)\n",
    "plt.show()"
   ]
  },
  {
   "cell_type": "code",
   "execution_count": 588,
   "metadata": {
    "collapsed": false
   },
   "outputs": [],
   "source": [
    "cand_11 = RF(n_estimators=250, max_depth=20, max_features='sqrt')\n",
    "cand_11 = cand_11.fit(before_11_x[before_11_x.columns[2:-2]], before_11_x.spread_label)\n",
    "predict = cand_11.predict(test_all[test_all.columns[2:-2]])\n",
    "CM_11 = confusion_matrix(predict, test_all['spread_label'])"
   ]
  },
  {
   "cell_type": "code",
   "execution_count": 592,
   "metadata": {
    "collapsed": true
   },
   "outputs": [],
   "source": [
    "train_sample = general_sampling(before_11_x, before_11_x.shape[0], mid=False, up_prob=0.1,down_prob=0.1)\n",
    "cand_11 = RF(n_estimators=250, max_depth=20, max_features='sqrt')\n",
    "cand_11 = cand_11.fit(train_sample[train_sample.columns[2:-2]], train_sample.spread_label)\n",
    "predict = cand_11.predict(test_all[test_all.columns[2:-2]])\n",
    "CM_11 = confusion_matrix(predict, test_all['spread_label'])"
   ]
  },
  {
   "cell_type": "code",
   "execution_count": 596,
   "metadata": {
    "collapsed": true
   },
   "outputs": [],
   "source": [
    "#train_sample = general_sampling(before_11_x, before_11_x.shape[0], mid=False, up_prob=0.1,down_prob=0.1)\n",
    "cand_11 = RF(n_estimators=250, max_depth=20, max_features='sqrt')\n",
    "cand_11 = cand_11.fit(test_all[test_all.columns[2:-2]], test_all.spread_label)\n",
    "predict = cand_11.predict(test_all[test_all.columns[2:-2]])\n",
    "CM_11 = confusion_matrix(predict, test_all['spread_label'])"
   ]
  },
  {
   "cell_type": "code",
   "execution_count": 583,
   "metadata": {
    "collapsed": true
   },
   "outputs": [],
   "source": [
    "predict = cand.predict(test_all[test_all.columns[2:-2]])\n",
    "CM_11 = confusion_matrix(predict, test_all['spread_label'])"
   ]
  },
  {
   "cell_type": "code",
   "execution_count": 597,
   "metadata": {
    "collapsed": false
   },
   "outputs": [
    {
     "data": {
      "text/plain": [
       "array([[  332,     0,     0],\n",
       "       [   17, 75573,    17],\n",
       "       [    0,     0,   308]])"
      ]
     },
     "execution_count": 597,
     "metadata": {},
     "output_type": "execute_result"
    }
   ],
   "source": [
    "CM_11"
   ]
  },
  {
   "cell_type": "code",
   "execution_count": 585,
   "metadata": {
    "collapsed": false
   },
   "outputs": [
    {
     "data": {
      "text/plain": [
       "array(['stationary', 'stationary', 'stationary', 'stationary',\n",
       "       'stationary', 'stationary', 'stationary', 'stationary',\n",
       "       'stationary', 'stationary', 'stationary', 'stationary',\n",
       "       'stationary', 'stationary', 'stationary', 'stationary',\n",
       "       'stationary', 'stationary', 'stationary', 'stationary',\n",
       "       'stationary', 'stationary', 'stationary', 'stationary',\n",
       "       'stationary', 'stationary', 'stationary', 'stationary',\n",
       "       'stationary', 'stationary'], dtype=object)"
      ]
     },
     "execution_count": 585,
     "metadata": {},
     "output_type": "execute_result"
    }
   ],
   "source": [
    "predict[-30:]"
   ]
  },
  {
   "cell_type": "code",
   "execution_count": 604,
   "metadata": {
    "collapsed": false
   },
   "outputs": [
    {
     "data": {
      "text/plain": [
       "array(['stationary', 'stationary', 'stationary', ..., 'stationary',\n",
       "       'stationary', 'stationary'], dtype=object)"
      ]
     },
     "execution_count": 604,
     "metadata": {},
     "output_type": "execute_result"
    }
   ],
   "source": [
    "np.asarray(test_all['spread_label'])"
   ]
  },
  {
   "cell_type": "code",
   "execution_count": 605,
   "metadata": {
    "collapsed": false
   },
   "outputs": [],
   "source": [
    "pro = compute_profit(test_tfm, np.asarray(test_all['spread_label']), 30)"
   ]
  },
  {
   "cell_type": "code",
   "execution_count": 606,
   "metadata": {
    "collapsed": false
   },
   "outputs": [
    {
     "data": {
      "text/plain": [
       "17.290000000001328"
      ]
     },
     "execution_count": 606,
     "metadata": {},
     "output_type": "execute_result"
    }
   ],
   "source": [
    "sum(pro)"
   ]
  },
  {
   "cell_type": "code",
   "execution_count": null,
   "metadata": {
    "collapsed": true
   },
   "outputs": [],
   "source": []
  },
  {
   "cell_type": "code",
   "execution_count": null,
   "metadata": {
    "collapsed": true
   },
   "outputs": [],
   "source": []
  },
  {
   "cell_type": "code",
   "execution_count": 387,
   "metadata": {
    "collapsed": false
   },
   "outputs": [
    {
     "data": {
      "text/plain": [
       "array([[16358, 12918,  8691],\n",
       "       [ 1112,  1606,   718],\n",
       "       [10211, 10704, 13929]])"
      ]
     },
     "execution_count": 387,
     "metadata": {},
     "output_type": "execute_result"
    }
   ],
   "source": [
    "CM_11"
   ]
  },
  {
   "cell_type": "code",
   "execution_count": 388,
   "metadata": {
    "collapsed": false
   },
   "outputs": [
    {
     "data": {
      "text/html": [
       "<div>\n",
       "<table border=\"1\" class=\"dataframe\">\n",
       "  <thead>\n",
       "    <tr style=\"text-align: right;\">\n",
       "      <th></th>\n",
       "      <th>Precision</th>\n",
       "      <th>Recall</th>\n",
       "      <th>F1_Measure</th>\n",
       "    </tr>\n",
       "  </thead>\n",
       "  <tbody>\n",
       "    <tr>\n",
       "      <th>Up</th>\n",
       "      <td>0.590947</td>\n",
       "      <td>0.430848</td>\n",
       "      <td>0.498355</td>\n",
       "    </tr>\n",
       "    <tr>\n",
       "      <th>Stationary</th>\n",
       "      <td>0.063659</td>\n",
       "      <td>0.467404</td>\n",
       "      <td>0.112057</td>\n",
       "    </tr>\n",
       "    <tr>\n",
       "      <th>Down</th>\n",
       "      <td>0.596838</td>\n",
       "      <td>0.399753</td>\n",
       "      <td>0.478808</td>\n",
       "    </tr>\n",
       "  </tbody>\n",
       "</table>\n",
       "</div>"
      ],
      "text/plain": [
       "            Precision    Recall  F1_Measure\n",
       "Up           0.590947  0.430848    0.498355\n",
       "Stationary   0.063659  0.467404    0.112057\n",
       "Down         0.596838  0.399753    0.478808"
      ]
     },
     "execution_count": 388,
     "metadata": {},
     "output_type": "execute_result"
    }
   ],
   "source": [
    "cal_measure(CM_11)"
   ]
  },
  {
   "cell_type": "code",
   "execution_count": null,
   "metadata": {
    "collapsed": true
   },
   "outputs": [],
   "source": []
  },
  {
   "cell_type": "code",
   "execution_count": null,
   "metadata": {
    "collapsed": true
   },
   "outputs": [],
   "source": []
  },
  {
   "cell_type": "code",
   "execution_count": null,
   "metadata": {
    "collapsed": true
   },
   "outputs": [],
   "source": []
  },
  {
   "cell_type": "markdown",
   "metadata": {},
   "source": [
    "***Calculate Profit***"
   ]
  },
  {
   "cell_type": "code",
   "execution_count": 86,
   "metadata": {
    "collapsed": true
   },
   "outputs": [],
   "source": [
    "def compute_profit(test, prediction, delta_t):\n",
    "    '''\n",
    "    test: data frame\n",
    "    prediction: predicted trend using delta_t (np.array) \n",
    "    delta_t: float\n",
    "    '''\n",
    "    a=np.append(np.array(np.nan).repeat(delta_t), prediction)\n",
    "    a = pd.Series(np.append(a,np.array(np.nan)))\n",
    "    a.index = test.index\n",
    "    test['trend'] = a\n",
    "    profit = []\n",
    "    for i in test.index:\n",
    "        if test.trend[i] == 'up':\n",
    "            profit.append(test.bid_price1[i] - test.ask_price1[i-delta_t])\n",
    "        if test.trend[i] == 'down':\n",
    "            profit.append(test.bid_price1[i-delta_t] - test.ask_price1[i])\n",
    "        if test.trend[i] == 'stationary':\n",
    "            profit.append(0)\n",
    "    return(profit)"
   ]
  },
  {
   "cell_type": "code",
   "execution_count": 479,
   "metadata": {
    "collapsed": false
   },
   "outputs": [
    {
     "data": {
      "text/plain": [
       "(50800, 130)"
      ]
     },
     "execution_count": 479,
     "metadata": {},
     "output_type": "execute_result"
    }
   ],
   "source": [
    "preds = pd.Series(predict[:-30])\n",
    "range(len(predict[:-30]))\n",
    "test_x.shape"
   ]
  },
  {
   "cell_type": "code",
   "execution_count": 505,
   "metadata": {
    "collapsed": true
   },
   "outputs": [],
   "source": [
    "def compute_profit(test, prediction, delta_t):\n",
    "    '''\n",
    "    test: data frame\n",
    "    prediction: predicted trend using delta_t (np.array) \n",
    "    delta_t: float\n",
    "    '''\n",
    "    preds = pd.Series(prediction)\n",
    "    #test.index = range(test.shape[0])\n",
    "    profit = []\n",
    "    for i in range(len(prediction)):\n",
    "        if preds[i] == 'up':\n",
    "            profit.append(test.bid_price1[i+delta_t] - test.ask_price1[i])\n",
    "        if preds[i] == 'down':\n",
    "            profit.append(test.bid_price1[i] - test.ask_price1[i+delta_t])\n",
    "        if preds[i] == 'stationary':\n",
    "            profit.append(0)\n",
    "    return(profit)"
   ]
  },
  {
   "cell_type": "code",
   "execution_count": 130,
   "metadata": {
    "collapsed": false
   },
   "outputs": [
    {
     "name": "stderr",
     "output_type": "stream",
     "text": [
      "H:\\Anaconda3\\lib\\site-packages\\ipykernel\\__main__.py:10: SettingWithCopyWarning: \n",
      "A value is trying to be set on a copy of a slice from a DataFrame.\n",
      "Try using .loc[row_indexer,col_indexer] = value instead\n",
      "\n",
      "See the caveats in the documentation: http://pandas.pydata.org/pandas-docs/stable/indexing.html#indexing-view-versus-copy\n"
     ]
    }
   ],
   "source": [
    "pro = compute_profit(test,predict_test,20)"
   ]
  },
  {
   "cell_type": "code",
   "execution_count": null,
   "metadata": {
    "collapsed": true
   },
   "outputs": [],
   "source": []
  },
  {
   "cell_type": "code",
   "execution_count": null,
   "metadata": {
    "collapsed": true
   },
   "outputs": [],
   "source": []
  },
  {
   "cell_type": "code",
   "execution_count": null,
   "metadata": {
    "collapsed": true
   },
   "outputs": [],
   "source": []
  }
 ],
 "metadata": {
  "kernelspec": {
   "display_name": "Python 3",
   "language": "python",
   "name": "python3"
  },
  "language_info": {
   "codemirror_mode": {
    "name": "ipython",
    "version": 3
   },
   "file_extension": ".py",
   "mimetype": "text/x-python",
   "name": "python",
   "nbconvert_exporter": "python",
   "pygments_lexer": "ipython3",
   "version": "3.5.1"
  }
 },
 "nbformat": 4,
 "nbformat_minor": 0
}
